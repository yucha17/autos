{
  "cells": [
    {
      "cell_type": "markdown",
      "metadata": {
        "id": "eXNMhJFj01RH"
      },
      "source": [
        "# Название проекта\n",
        "Определение стоимости автомобиля\n",
        "# Описание проекта\n",
        "Нам необходимо проанализировать датасет с характеристиками автомобилей и на основе него создать прототип модели машинного обучения, определяющего стоимость автомобиля. Для этого нам необходимо провести подготовку данных, где определимся что делать с пропусками, пиковыми значениями, поменяем формат столбцов, если это необходимо и подготовим данные перед загрузкой в модель. После этого обучим модели и проведем анализ их эффективности с целью выбора наиболее подходящей.\n",
        "#Цель проекта\n",
        "Создание прототипа модели машинного обучения, определяющего стоимость автомобиля\n"
      ]
    },
    {
      "cell_type": "markdown",
      "metadata": {
        "id": "wWK07vl801RH"
      },
      "source": [
        "## Подготовка данных"
      ]
    },
    {
      "cell_type": "markdown",
      "metadata": {
        "id": "5_YubkO401RI"
      },
      "source": [
        "Загрузим необходимые билиотеки и наш файл"
      ]
    },
    {
      "cell_type": "code",
      "execution_count": null,
      "metadata": {
        "id": "6D4bl_9001RI"
      },
      "outputs": [],
      "source": [
        "import pandas as pd\n",
        "import matplotlib.pyplot as plt\n",
        "import numpy as np\n",
        "\n",
        "from sklearn.preprocessing import OneHotEncoder\n",
        "from sklearn.preprocessing import OrdinalEncoder\n",
        "from sklearn.dummy import DummyRegressor\n",
        "from sklearn.model_selection import cross_val_score\n",
        "from sklearn.model_selection import train_test_split\n",
        "from sklearn.metrics import mean_squared_error\n",
        "from lightgbm import LGBMRegressor\n",
        "from sklearn.linear_model import LinearRegression\n",
        "from sklearn.ensemble import RandomForestRegressor\n",
        "from sklearn.metrics import make_scorer\n",
        "from time import time"
      ]
    },
    {
      "cell_type": "code",
      "execution_count": null,
      "metadata": {
        "id": "7BRO9IDd01RJ"
      },
      "outputs": [],
      "source": [
        "data = pd.read_csv('/datasets/autos.csv')"
      ]
    },
    {
      "cell_type": "markdown",
      "metadata": {
        "id": "3fuyQ3mj01RJ"
      },
      "source": [
        "Теперь посмотрим что из себя представляют наши данные"
      ]
    },
    {
      "cell_type": "code",
      "execution_count": null,
      "metadata": {
        "scrolled": false,
        "id": "TWAMe_n901RJ",
        "outputId": "33eb32d3-6a9b-4ee9-e789-57f6304c1f81"
      },
      "outputs": [
        {
          "data": {
            "text/html": [
              "<div>\n",
              "<style scoped>\n",
              "    .dataframe tbody tr th:only-of-type {\n",
              "        vertical-align: middle;\n",
              "    }\n",
              "\n",
              "    .dataframe tbody tr th {\n",
              "        vertical-align: top;\n",
              "    }\n",
              "\n",
              "    .dataframe thead th {\n",
              "        text-align: right;\n",
              "    }\n",
              "</style>\n",
              "<table border=\"1\" class=\"dataframe\">\n",
              "  <thead>\n",
              "    <tr style=\"text-align: right;\">\n",
              "      <th></th>\n",
              "      <th>DateCrawled</th>\n",
              "      <th>Price</th>\n",
              "      <th>VehicleType</th>\n",
              "      <th>RegistrationYear</th>\n",
              "      <th>Gearbox</th>\n",
              "      <th>Power</th>\n",
              "      <th>Model</th>\n",
              "      <th>Kilometer</th>\n",
              "      <th>RegistrationMonth</th>\n",
              "      <th>FuelType</th>\n",
              "      <th>Brand</th>\n",
              "      <th>Repaired</th>\n",
              "      <th>DateCreated</th>\n",
              "      <th>NumberOfPictures</th>\n",
              "      <th>PostalCode</th>\n",
              "      <th>LastSeen</th>\n",
              "    </tr>\n",
              "  </thead>\n",
              "  <tbody>\n",
              "    <tr>\n",
              "      <th>0</th>\n",
              "      <td>2016-03-24 11:52:17</td>\n",
              "      <td>480</td>\n",
              "      <td>NaN</td>\n",
              "      <td>1993</td>\n",
              "      <td>manual</td>\n",
              "      <td>0</td>\n",
              "      <td>golf</td>\n",
              "      <td>150000</td>\n",
              "      <td>0</td>\n",
              "      <td>petrol</td>\n",
              "      <td>volkswagen</td>\n",
              "      <td>NaN</td>\n",
              "      <td>2016-03-24 00:00:00</td>\n",
              "      <td>0</td>\n",
              "      <td>70435</td>\n",
              "      <td>2016-04-07 03:16:57</td>\n",
              "    </tr>\n",
              "    <tr>\n",
              "      <th>1</th>\n",
              "      <td>2016-03-24 10:58:45</td>\n",
              "      <td>18300</td>\n",
              "      <td>coupe</td>\n",
              "      <td>2011</td>\n",
              "      <td>manual</td>\n",
              "      <td>190</td>\n",
              "      <td>NaN</td>\n",
              "      <td>125000</td>\n",
              "      <td>5</td>\n",
              "      <td>gasoline</td>\n",
              "      <td>audi</td>\n",
              "      <td>yes</td>\n",
              "      <td>2016-03-24 00:00:00</td>\n",
              "      <td>0</td>\n",
              "      <td>66954</td>\n",
              "      <td>2016-04-07 01:46:50</td>\n",
              "    </tr>\n",
              "    <tr>\n",
              "      <th>2</th>\n",
              "      <td>2016-03-14 12:52:21</td>\n",
              "      <td>9800</td>\n",
              "      <td>suv</td>\n",
              "      <td>2004</td>\n",
              "      <td>auto</td>\n",
              "      <td>163</td>\n",
              "      <td>grand</td>\n",
              "      <td>125000</td>\n",
              "      <td>8</td>\n",
              "      <td>gasoline</td>\n",
              "      <td>jeep</td>\n",
              "      <td>NaN</td>\n",
              "      <td>2016-03-14 00:00:00</td>\n",
              "      <td>0</td>\n",
              "      <td>90480</td>\n",
              "      <td>2016-04-05 12:47:46</td>\n",
              "    </tr>\n",
              "    <tr>\n",
              "      <th>3</th>\n",
              "      <td>2016-03-17 16:54:04</td>\n",
              "      <td>1500</td>\n",
              "      <td>small</td>\n",
              "      <td>2001</td>\n",
              "      <td>manual</td>\n",
              "      <td>75</td>\n",
              "      <td>golf</td>\n",
              "      <td>150000</td>\n",
              "      <td>6</td>\n",
              "      <td>petrol</td>\n",
              "      <td>volkswagen</td>\n",
              "      <td>no</td>\n",
              "      <td>2016-03-17 00:00:00</td>\n",
              "      <td>0</td>\n",
              "      <td>91074</td>\n",
              "      <td>2016-03-17 17:40:17</td>\n",
              "    </tr>\n",
              "    <tr>\n",
              "      <th>4</th>\n",
              "      <td>2016-03-31 17:25:20</td>\n",
              "      <td>3600</td>\n",
              "      <td>small</td>\n",
              "      <td>2008</td>\n",
              "      <td>manual</td>\n",
              "      <td>69</td>\n",
              "      <td>fabia</td>\n",
              "      <td>90000</td>\n",
              "      <td>7</td>\n",
              "      <td>gasoline</td>\n",
              "      <td>skoda</td>\n",
              "      <td>no</td>\n",
              "      <td>2016-03-31 00:00:00</td>\n",
              "      <td>0</td>\n",
              "      <td>60437</td>\n",
              "      <td>2016-04-06 10:17:21</td>\n",
              "    </tr>\n",
              "  </tbody>\n",
              "</table>\n",
              "</div>"
            ],
            "text/plain": [
              "           DateCrawled  Price VehicleType  RegistrationYear Gearbox  Power  \\\n",
              "0  2016-03-24 11:52:17    480         NaN              1993  manual      0   \n",
              "1  2016-03-24 10:58:45  18300       coupe              2011  manual    190   \n",
              "2  2016-03-14 12:52:21   9800         suv              2004    auto    163   \n",
              "3  2016-03-17 16:54:04   1500       small              2001  manual     75   \n",
              "4  2016-03-31 17:25:20   3600       small              2008  manual     69   \n",
              "\n",
              "   Model  Kilometer  RegistrationMonth  FuelType       Brand Repaired  \\\n",
              "0   golf     150000                  0    petrol  volkswagen      NaN   \n",
              "1    NaN     125000                  5  gasoline        audi      yes   \n",
              "2  grand     125000                  8  gasoline        jeep      NaN   \n",
              "3   golf     150000                  6    petrol  volkswagen       no   \n",
              "4  fabia      90000                  7  gasoline       skoda       no   \n",
              "\n",
              "           DateCreated  NumberOfPictures  PostalCode             LastSeen  \n",
              "0  2016-03-24 00:00:00                 0       70435  2016-04-07 03:16:57  \n",
              "1  2016-03-24 00:00:00                 0       66954  2016-04-07 01:46:50  \n",
              "2  2016-03-14 00:00:00                 0       90480  2016-04-05 12:47:46  \n",
              "3  2016-03-17 00:00:00                 0       91074  2016-03-17 17:40:17  \n",
              "4  2016-03-31 00:00:00                 0       60437  2016-04-06 10:17:21  "
            ]
          },
          "execution_count": 3,
          "metadata": {},
          "output_type": "execute_result"
        }
      ],
      "source": [
        "data.head()"
      ]
    },
    {
      "cell_type": "markdown",
      "metadata": {
        "id": "3eQzaqro01RK"
      },
      "source": [
        "Думаю не все колонки будут для нас необходимы, например такие как даты анкеты, выгрузки и активноости пользователя, месяц регистрации, количество фотографий, почтовый индекс. Удалим их в конце исследования, а пока посмотрим форматы данных, пропуски и дубликаты."
      ]
    },
    {
      "cell_type": "code",
      "execution_count": null,
      "metadata": {
        "id": "Cl8ccIrK01RK",
        "outputId": "177e86a6-9005-4a9e-9208-c7cda553b2a3"
      },
      "outputs": [
        {
          "name": "stdout",
          "output_type": "stream",
          "text": [
            "<class 'pandas.core.frame.DataFrame'>\n",
            "RangeIndex: 354369 entries, 0 to 354368\n",
            "Data columns (total 16 columns):\n",
            " #   Column             Non-Null Count   Dtype \n",
            "---  ------             --------------   ----- \n",
            " 0   DateCrawled        354369 non-null  object\n",
            " 1   Price              354369 non-null  int64 \n",
            " 2   VehicleType        316879 non-null  object\n",
            " 3   RegistrationYear   354369 non-null  int64 \n",
            " 4   Gearbox            334536 non-null  object\n",
            " 5   Power              354369 non-null  int64 \n",
            " 6   Model              334664 non-null  object\n",
            " 7   Kilometer          354369 non-null  int64 \n",
            " 8   RegistrationMonth  354369 non-null  int64 \n",
            " 9   FuelType           321474 non-null  object\n",
            " 10  Brand              354369 non-null  object\n",
            " 11  Repaired           283215 non-null  object\n",
            " 12  DateCreated        354369 non-null  object\n",
            " 13  NumberOfPictures   354369 non-null  int64 \n",
            " 14  PostalCode         354369 non-null  int64 \n",
            " 15  LastSeen           354369 non-null  object\n",
            "dtypes: int64(7), object(9)\n",
            "memory usage: 43.3+ MB\n"
          ]
        }
      ],
      "source": [
        "data.info()"
      ]
    },
    {
      "cell_type": "markdown",
      "metadata": {
        "id": "X1xXhdcs01RK"
      },
      "source": [
        "В датасете 354369 строк, в предыдущих исследованиях было меньше, но нас это не пугает.\n",
        "\n",
        "Менять данные не имеет смысла, так как все нам подходит.\n",
        "\n",
        "Посмотрим пропуски в целом и в долях."
      ]
    },
    {
      "cell_type": "code",
      "execution_count": null,
      "metadata": {
        "id": "STkeq88U01RK",
        "outputId": "7df0db70-ec69-4e6f-d54f-5b4284cfb240"
      },
      "outputs": [
        {
          "data": {
            "text/plain": [
              "DateCrawled              0\n",
              "Price                    0\n",
              "VehicleType          37490\n",
              "RegistrationYear         0\n",
              "Gearbox              19833\n",
              "Power                    0\n",
              "Model                19705\n",
              "Kilometer                0\n",
              "RegistrationMonth        0\n",
              "FuelType             32895\n",
              "Brand                    0\n",
              "Repaired             71154\n",
              "DateCreated              0\n",
              "NumberOfPictures         0\n",
              "PostalCode               0\n",
              "LastSeen                 0\n",
              "dtype: int64"
            ]
          },
          "execution_count": 5,
          "metadata": {},
          "output_type": "execute_result"
        }
      ],
      "source": [
        "data.isna().sum()"
      ]
    },
    {
      "cell_type": "code",
      "execution_count": null,
      "metadata": {
        "id": "ffBf_XBI01RK",
        "outputId": "a9edd64a-2256-4ec7-9a73-efae63567681"
      },
      "outputs": [
        {
          "data": {
            "text/html": [
              "<style  type=\"text/css\" >\n",
              "#T_4cb23_row0_col0,#T_4cb23_row1_col0,#T_4cb23_row3_col0,#T_4cb23_row5_col0,#T_4cb23_row7_col0,#T_4cb23_row8_col0,#T_4cb23_row10_col0,#T_4cb23_row12_col0,#T_4cb23_row13_col0,#T_4cb23_row14_col0,#T_4cb23_row15_col0{\n",
              "            background-color:  #3b4cc0;\n",
              "            color:  #f1f1f1;\n",
              "        }#T_4cb23_row2_col0{\n",
              "            background-color:  #e9d5cb;\n",
              "            color:  #000000;\n",
              "        }#T_4cb23_row4_col0,#T_4cb23_row6_col0{\n",
              "            background-color:  #9ebeff;\n",
              "            color:  #000000;\n",
              "        }#T_4cb23_row9_col0{\n",
              "            background-color:  #cfdaea;\n",
              "            color:  #000000;\n",
              "        }#T_4cb23_row11_col0{\n",
              "            background-color:  #b40426;\n",
              "            color:  #f1f1f1;\n",
              "        }</style><table id=\"T_4cb23_\" ><thead>    <tr>        <th class=\"blank level0\" ></th>        <th class=\"col_heading level0 col0\" >0</th>    </tr></thead><tbody>\n",
              "                <tr>\n",
              "                        <th id=\"T_4cb23_level0_row0\" class=\"row_heading level0 row0\" >DateCrawled</th>\n",
              "                        <td id=\"T_4cb23_row0_col0\" class=\"data row0 col0\" >0.000000</td>\n",
              "            </tr>\n",
              "            <tr>\n",
              "                        <th id=\"T_4cb23_level0_row1\" class=\"row_heading level0 row1\" >Price</th>\n",
              "                        <td id=\"T_4cb23_row1_col0\" class=\"data row1 col0\" >0.000000</td>\n",
              "            </tr>\n",
              "            <tr>\n",
              "                        <th id=\"T_4cb23_level0_row2\" class=\"row_heading level0 row2\" >VehicleType</th>\n",
              "                        <td id=\"T_4cb23_row2_col0\" class=\"data row2 col0\" >11.000000</td>\n",
              "            </tr>\n",
              "            <tr>\n",
              "                        <th id=\"T_4cb23_level0_row3\" class=\"row_heading level0 row3\" >RegistrationYear</th>\n",
              "                        <td id=\"T_4cb23_row3_col0\" class=\"data row3 col0\" >0.000000</td>\n",
              "            </tr>\n",
              "            <tr>\n",
              "                        <th id=\"T_4cb23_level0_row4\" class=\"row_heading level0 row4\" >Gearbox</th>\n",
              "                        <td id=\"T_4cb23_row4_col0\" class=\"data row4 col0\" >6.000000</td>\n",
              "            </tr>\n",
              "            <tr>\n",
              "                        <th id=\"T_4cb23_level0_row5\" class=\"row_heading level0 row5\" >Power</th>\n",
              "                        <td id=\"T_4cb23_row5_col0\" class=\"data row5 col0\" >0.000000</td>\n",
              "            </tr>\n",
              "            <tr>\n",
              "                        <th id=\"T_4cb23_level0_row6\" class=\"row_heading level0 row6\" >Model</th>\n",
              "                        <td id=\"T_4cb23_row6_col0\" class=\"data row6 col0\" >6.000000</td>\n",
              "            </tr>\n",
              "            <tr>\n",
              "                        <th id=\"T_4cb23_level0_row7\" class=\"row_heading level0 row7\" >Kilometer</th>\n",
              "                        <td id=\"T_4cb23_row7_col0\" class=\"data row7 col0\" >0.000000</td>\n",
              "            </tr>\n",
              "            <tr>\n",
              "                        <th id=\"T_4cb23_level0_row8\" class=\"row_heading level0 row8\" >RegistrationMonth</th>\n",
              "                        <td id=\"T_4cb23_row8_col0\" class=\"data row8 col0\" >0.000000</td>\n",
              "            </tr>\n",
              "            <tr>\n",
              "                        <th id=\"T_4cb23_level0_row9\" class=\"row_heading level0 row9\" >FuelType</th>\n",
              "                        <td id=\"T_4cb23_row9_col0\" class=\"data row9 col0\" >9.000000</td>\n",
              "            </tr>\n",
              "            <tr>\n",
              "                        <th id=\"T_4cb23_level0_row10\" class=\"row_heading level0 row10\" >Brand</th>\n",
              "                        <td id=\"T_4cb23_row10_col0\" class=\"data row10 col0\" >0.000000</td>\n",
              "            </tr>\n",
              "            <tr>\n",
              "                        <th id=\"T_4cb23_level0_row11\" class=\"row_heading level0 row11\" >Repaired</th>\n",
              "                        <td id=\"T_4cb23_row11_col0\" class=\"data row11 col0\" >20.000000</td>\n",
              "            </tr>\n",
              "            <tr>\n",
              "                        <th id=\"T_4cb23_level0_row12\" class=\"row_heading level0 row12\" >DateCreated</th>\n",
              "                        <td id=\"T_4cb23_row12_col0\" class=\"data row12 col0\" >0.000000</td>\n",
              "            </tr>\n",
              "            <tr>\n",
              "                        <th id=\"T_4cb23_level0_row13\" class=\"row_heading level0 row13\" >NumberOfPictures</th>\n",
              "                        <td id=\"T_4cb23_row13_col0\" class=\"data row13 col0\" >0.000000</td>\n",
              "            </tr>\n",
              "            <tr>\n",
              "                        <th id=\"T_4cb23_level0_row14\" class=\"row_heading level0 row14\" >PostalCode</th>\n",
              "                        <td id=\"T_4cb23_row14_col0\" class=\"data row14 col0\" >0.000000</td>\n",
              "            </tr>\n",
              "            <tr>\n",
              "                        <th id=\"T_4cb23_level0_row15\" class=\"row_heading level0 row15\" >LastSeen</th>\n",
              "                        <td id=\"T_4cb23_row15_col0\" class=\"data row15 col0\" >0.000000</td>\n",
              "            </tr>\n",
              "    </tbody></table>"
            ],
            "text/plain": [
              "<pandas.io.formats.style.Styler at 0x7fdb094594c0>"
            ]
          },
          "execution_count": 6,
          "metadata": {},
          "output_type": "execute_result"
        }
      ],
      "source": [
        "pd.DataFrame(round(data.isna().mean()*100,)).style.background_gradient('coolwarm')"
      ]
    },
    {
      "cell_type": "markdown",
      "metadata": {
        "id": "bfLSuC2D01RK"
      },
      "source": [
        "20% пропусков в колонке с ремонтом, в целом это неудивительно, люди предпочитают скрывать эту информацию. Посмотрим поближе, кто оставил эту колонку пустой."
      ]
    },
    {
      "cell_type": "code",
      "execution_count": null,
      "metadata": {
        "id": "GoOXiG_j01RK",
        "outputId": "638496b4-2809-4e2b-fb2b-ca722f7f9fdf"
      },
      "outputs": [
        {
          "data": {
            "text/html": [
              "<div>\n",
              "<style scoped>\n",
              "    .dataframe tbody tr th:only-of-type {\n",
              "        vertical-align: middle;\n",
              "    }\n",
              "\n",
              "    .dataframe tbody tr th {\n",
              "        vertical-align: top;\n",
              "    }\n",
              "\n",
              "    .dataframe thead th {\n",
              "        text-align: right;\n",
              "    }\n",
              "</style>\n",
              "<table border=\"1\" class=\"dataframe\">\n",
              "  <thead>\n",
              "    <tr style=\"text-align: right;\">\n",
              "      <th></th>\n",
              "      <th>DateCrawled</th>\n",
              "      <th>Price</th>\n",
              "      <th>VehicleType</th>\n",
              "      <th>RegistrationYear</th>\n",
              "      <th>Gearbox</th>\n",
              "      <th>Power</th>\n",
              "      <th>Model</th>\n",
              "      <th>Kilometer</th>\n",
              "      <th>RegistrationMonth</th>\n",
              "      <th>FuelType</th>\n",
              "      <th>Brand</th>\n",
              "      <th>Repaired</th>\n",
              "      <th>DateCreated</th>\n",
              "      <th>NumberOfPictures</th>\n",
              "      <th>PostalCode</th>\n",
              "      <th>LastSeen</th>\n",
              "    </tr>\n",
              "  </thead>\n",
              "  <tbody>\n",
              "    <tr>\n",
              "      <th>151228</th>\n",
              "      <td>2016-03-20 19:53:26</td>\n",
              "      <td>0</td>\n",
              "      <td>NaN</td>\n",
              "      <td>9999</td>\n",
              "      <td>NaN</td>\n",
              "      <td>0</td>\n",
              "      <td>NaN</td>\n",
              "      <td>10000</td>\n",
              "      <td>7</td>\n",
              "      <td>NaN</td>\n",
              "      <td>mazda</td>\n",
              "      <td>NaN</td>\n",
              "      <td>2016-03-20 00:00:00</td>\n",
              "      <td>0</td>\n",
              "      <td>40822</td>\n",
              "      <td>2016-03-20 19:53:26</td>\n",
              "    </tr>\n",
              "    <tr>\n",
              "      <th>62395</th>\n",
              "      <td>2016-03-16 23:54:17</td>\n",
              "      <td>55</td>\n",
              "      <td>NaN</td>\n",
              "      <td>9999</td>\n",
              "      <td>NaN</td>\n",
              "      <td>0</td>\n",
              "      <td>other</td>\n",
              "      <td>10000</td>\n",
              "      <td>0</td>\n",
              "      <td>NaN</td>\n",
              "      <td>volkswagen</td>\n",
              "      <td>NaN</td>\n",
              "      <td>2016-03-16 00:00:00</td>\n",
              "      <td>0</td>\n",
              "      <td>38524</td>\n",
              "      <td>2016-03-20 07:46:23</td>\n",
              "    </tr>\n",
              "    <tr>\n",
              "      <th>227462</th>\n",
              "      <td>2016-03-14 12:51:55</td>\n",
              "      <td>2850</td>\n",
              "      <td>NaN</td>\n",
              "      <td>9999</td>\n",
              "      <td>NaN</td>\n",
              "      <td>0</td>\n",
              "      <td>other</td>\n",
              "      <td>10000</td>\n",
              "      <td>0</td>\n",
              "      <td>NaN</td>\n",
              "      <td>fiat</td>\n",
              "      <td>NaN</td>\n",
              "      <td>2016-03-14 00:00:00</td>\n",
              "      <td>0</td>\n",
              "      <td>17335</td>\n",
              "      <td>2016-04-05 13:15:26</td>\n",
              "    </tr>\n",
              "    <tr>\n",
              "      <th>224832</th>\n",
              "      <td>2016-03-23 16:52:02</td>\n",
              "      <td>0</td>\n",
              "      <td>NaN</td>\n",
              "      <td>9999</td>\n",
              "      <td>NaN</td>\n",
              "      <td>0</td>\n",
              "      <td>NaN</td>\n",
              "      <td>10000</td>\n",
              "      <td>0</td>\n",
              "      <td>NaN</td>\n",
              "      <td>volkswagen</td>\n",
              "      <td>NaN</td>\n",
              "      <td>2016-03-23 00:00:00</td>\n",
              "      <td>0</td>\n",
              "      <td>9437</td>\n",
              "      <td>2016-03-23 16:52:02</td>\n",
              "    </tr>\n",
              "    <tr>\n",
              "      <th>60079</th>\n",
              "      <td>2016-03-21 01:01:41</td>\n",
              "      <td>0</td>\n",
              "      <td>NaN</td>\n",
              "      <td>9999</td>\n",
              "      <td>NaN</td>\n",
              "      <td>0</td>\n",
              "      <td>NaN</td>\n",
              "      <td>10000</td>\n",
              "      <td>0</td>\n",
              "      <td>NaN</td>\n",
              "      <td>mazda</td>\n",
              "      <td>NaN</td>\n",
              "      <td>2016-03-21 00:00:00</td>\n",
              "      <td>0</td>\n",
              "      <td>40822</td>\n",
              "      <td>2016-03-22 12:16:30</td>\n",
              "    </tr>\n",
              "  </tbody>\n",
              "</table>\n",
              "</div>"
            ],
            "text/plain": [
              "                DateCrawled  Price VehicleType  RegistrationYear Gearbox  \\\n",
              "151228  2016-03-20 19:53:26      0         NaN              9999     NaN   \n",
              "62395   2016-03-16 23:54:17     55         NaN              9999     NaN   \n",
              "227462  2016-03-14 12:51:55   2850         NaN              9999     NaN   \n",
              "224832  2016-03-23 16:52:02      0         NaN              9999     NaN   \n",
              "60079   2016-03-21 01:01:41      0         NaN              9999     NaN   \n",
              "\n",
              "        Power  Model  Kilometer  RegistrationMonth FuelType       Brand  \\\n",
              "151228      0    NaN      10000                  7      NaN       mazda   \n",
              "62395       0  other      10000                  0      NaN  volkswagen   \n",
              "227462      0  other      10000                  0      NaN        fiat   \n",
              "224832      0    NaN      10000                  0      NaN  volkswagen   \n",
              "60079       0    NaN      10000                  0      NaN       mazda   \n",
              "\n",
              "       Repaired          DateCreated  NumberOfPictures  PostalCode  \\\n",
              "151228      NaN  2016-03-20 00:00:00                 0       40822   \n",
              "62395       NaN  2016-03-16 00:00:00                 0       38524   \n",
              "227462      NaN  2016-03-14 00:00:00                 0       17335   \n",
              "224832      NaN  2016-03-23 00:00:00                 0        9437   \n",
              "60079       NaN  2016-03-21 00:00:00                 0       40822   \n",
              "\n",
              "                   LastSeen  \n",
              "151228  2016-03-20 19:53:26  \n",
              "62395   2016-03-20 07:46:23  \n",
              "227462  2016-04-05 13:15:26  \n",
              "224832  2016-03-23 16:52:02  \n",
              "60079   2016-03-22 12:16:30  "
            ]
          },
          "execution_count": 7,
          "metadata": {},
          "output_type": "execute_result"
        }
      ],
      "source": [
        "data.loc[data['Repaired'].isna()].sort_values('RegistrationYear').tail()"
      ]
    },
    {
      "cell_type": "markdown",
      "metadata": {
        "id": "f7umHMzg01RL"
      },
      "source": [
        "Такое ощущение что эти строки шутки ради. Много пропусков, а год регистрации встречается и 9999. По сути эти данные бессмысленны для обучения, при таком количестве пропусков невозможно что либо адекватное вычленить.\n",
        "Будем разбираться с этим позже."
      ]
    },
    {
      "cell_type": "markdown",
      "metadata": {
        "id": "mOdeBAkY01RL"
      },
      "source": [
        "Посмотрим дубликаты и удалим их"
      ]
    },
    {
      "cell_type": "code",
      "execution_count": null,
      "metadata": {
        "id": "gpzSc1Qr01RL",
        "outputId": "69f5b5ec-8953-4232-b101-c96a92e8bb60"
      },
      "outputs": [
        {
          "data": {
            "text/plain": [
              "4"
            ]
          },
          "execution_count": 8,
          "metadata": {},
          "output_type": "execute_result"
        }
      ],
      "source": [
        "data.duplicated().sum()"
      ]
    },
    {
      "cell_type": "code",
      "execution_count": null,
      "metadata": {
        "id": "qVa8Qup-01RL",
        "outputId": "c742b6c2-509b-4750-e19f-70a9f700f8bb"
      },
      "outputs": [
        {
          "name": "stdout",
          "output_type": "stream",
          "text": [
            "<class 'pandas.core.frame.DataFrame'>\n",
            "Int64Index: 354365 entries, 0 to 354368\n",
            "Data columns (total 16 columns):\n",
            " #   Column             Non-Null Count   Dtype \n",
            "---  ------             --------------   ----- \n",
            " 0   DateCrawled        354365 non-null  object\n",
            " 1   Price              354365 non-null  int64 \n",
            " 2   VehicleType        316875 non-null  object\n",
            " 3   RegistrationYear   354365 non-null  int64 \n",
            " 4   Gearbox            334532 non-null  object\n",
            " 5   Power              354365 non-null  int64 \n",
            " 6   Model              334660 non-null  object\n",
            " 7   Kilometer          354365 non-null  int64 \n",
            " 8   RegistrationMonth  354365 non-null  int64 \n",
            " 9   FuelType           321470 non-null  object\n",
            " 10  Brand              354365 non-null  object\n",
            " 11  Repaired           283211 non-null  object\n",
            " 12  DateCreated        354365 non-null  object\n",
            " 13  NumberOfPictures   354365 non-null  int64 \n",
            " 14  PostalCode         354365 non-null  int64 \n",
            " 15  LastSeen           354365 non-null  object\n",
            "dtypes: int64(7), object(9)\n",
            "memory usage: 46.0+ MB\n"
          ]
        }
      ],
      "source": [
        "data = data.drop_duplicates()\n",
        "data.info()"
      ]
    },
    {
      "cell_type": "markdown",
      "metadata": {
        "id": "q0aSNLtT01RL"
      },
      "source": [
        "Хоть у нас и было 4 дубликата, но лучше их удалить.\n",
        "\n",
        "Посмотрим разброс по всем параметрам, средние и отклонение."
      ]
    },
    {
      "cell_type": "markdown",
      "metadata": {
        "id": "d-ziEgYJ01RL"
      },
      "source": [
        "Для начала посмотрим даты наших данных"
      ]
    },
    {
      "cell_type": "code",
      "execution_count": null,
      "metadata": {
        "id": "1K7mszCk01RM",
        "outputId": "9f349246-53f0-4797-8eb8-d8283dd17614"
      },
      "outputs": [
        {
          "name": "stdout",
          "output_type": "stream",
          "text": [
            "2016-04-07 14:36:58\n",
            "2016-03-05 14:06:22\n"
          ]
        }
      ],
      "source": [
        "print(data['DateCrawled'].max())\n",
        "print(data['DateCrawled'].min())"
      ]
    },
    {
      "cell_type": "markdown",
      "metadata": {
        "id": "jPzyy8Yo01RM"
      },
      "source": [
        "Значит все машины после 2016 года можно будет удалить"
      ]
    },
    {
      "cell_type": "code",
      "execution_count": null,
      "metadata": {
        "id": "_HOKIzqi01RM",
        "outputId": "c391b647-1894-48ab-b34e-2360a72c00cc"
      },
      "outputs": [
        {
          "data": {
            "text/html": [
              "<div>\n",
              "<style scoped>\n",
              "    .dataframe tbody tr th:only-of-type {\n",
              "        vertical-align: middle;\n",
              "    }\n",
              "\n",
              "    .dataframe tbody tr th {\n",
              "        vertical-align: top;\n",
              "    }\n",
              "\n",
              "    .dataframe thead th {\n",
              "        text-align: right;\n",
              "    }\n",
              "</style>\n",
              "<table border=\"1\" class=\"dataframe\">\n",
              "  <thead>\n",
              "    <tr style=\"text-align: right;\">\n",
              "      <th></th>\n",
              "      <th>Price</th>\n",
              "      <th>RegistrationYear</th>\n",
              "      <th>Power</th>\n",
              "      <th>Kilometer</th>\n",
              "      <th>RegistrationMonth</th>\n",
              "      <th>NumberOfPictures</th>\n",
              "      <th>PostalCode</th>\n",
              "    </tr>\n",
              "  </thead>\n",
              "  <tbody>\n",
              "    <tr>\n",
              "      <th>count</th>\n",
              "      <td>354365.000000</td>\n",
              "      <td>354365.000000</td>\n",
              "      <td>354365.000000</td>\n",
              "      <td>354365.000000</td>\n",
              "      <td>354365.000000</td>\n",
              "      <td>354365.0</td>\n",
              "      <td>354365.000000</td>\n",
              "    </tr>\n",
              "    <tr>\n",
              "      <th>mean</th>\n",
              "      <td>4416.679830</td>\n",
              "      <td>2004.234481</td>\n",
              "      <td>110.093816</td>\n",
              "      <td>128211.363989</td>\n",
              "      <td>5.714650</td>\n",
              "      <td>0.0</td>\n",
              "      <td>50508.503800</td>\n",
              "    </tr>\n",
              "    <tr>\n",
              "      <th>std</th>\n",
              "      <td>4514.176349</td>\n",
              "      <td>90.228466</td>\n",
              "      <td>189.851330</td>\n",
              "      <td>37905.083858</td>\n",
              "      <td>3.726432</td>\n",
              "      <td>0.0</td>\n",
              "      <td>25783.100078</td>\n",
              "    </tr>\n",
              "    <tr>\n",
              "      <th>min</th>\n",
              "      <td>0.000000</td>\n",
              "      <td>1000.000000</td>\n",
              "      <td>0.000000</td>\n",
              "      <td>5000.000000</td>\n",
              "      <td>0.000000</td>\n",
              "      <td>0.0</td>\n",
              "      <td>1067.000000</td>\n",
              "    </tr>\n",
              "    <tr>\n",
              "      <th>25%</th>\n",
              "      <td>1050.000000</td>\n",
              "      <td>1999.000000</td>\n",
              "      <td>69.000000</td>\n",
              "      <td>125000.000000</td>\n",
              "      <td>3.000000</td>\n",
              "      <td>0.0</td>\n",
              "      <td>30165.000000</td>\n",
              "    </tr>\n",
              "    <tr>\n",
              "      <th>50%</th>\n",
              "      <td>2700.000000</td>\n",
              "      <td>2003.000000</td>\n",
              "      <td>105.000000</td>\n",
              "      <td>150000.000000</td>\n",
              "      <td>6.000000</td>\n",
              "      <td>0.0</td>\n",
              "      <td>49413.000000</td>\n",
              "    </tr>\n",
              "    <tr>\n",
              "      <th>75%</th>\n",
              "      <td>6400.000000</td>\n",
              "      <td>2008.000000</td>\n",
              "      <td>143.000000</td>\n",
              "      <td>150000.000000</td>\n",
              "      <td>9.000000</td>\n",
              "      <td>0.0</td>\n",
              "      <td>71083.000000</td>\n",
              "    </tr>\n",
              "    <tr>\n",
              "      <th>max</th>\n",
              "      <td>20000.000000</td>\n",
              "      <td>9999.000000</td>\n",
              "      <td>20000.000000</td>\n",
              "      <td>150000.000000</td>\n",
              "      <td>12.000000</td>\n",
              "      <td>0.0</td>\n",
              "      <td>99998.000000</td>\n",
              "    </tr>\n",
              "  </tbody>\n",
              "</table>\n",
              "</div>"
            ],
            "text/plain": [
              "               Price  RegistrationYear          Power      Kilometer  \\\n",
              "count  354365.000000     354365.000000  354365.000000  354365.000000   \n",
              "mean     4416.679830       2004.234481     110.093816  128211.363989   \n",
              "std      4514.176349         90.228466     189.851330   37905.083858   \n",
              "min         0.000000       1000.000000       0.000000    5000.000000   \n",
              "25%      1050.000000       1999.000000      69.000000  125000.000000   \n",
              "50%      2700.000000       2003.000000     105.000000  150000.000000   \n",
              "75%      6400.000000       2008.000000     143.000000  150000.000000   \n",
              "max     20000.000000       9999.000000   20000.000000  150000.000000   \n",
              "\n",
              "       RegistrationMonth  NumberOfPictures     PostalCode  \n",
              "count      354365.000000          354365.0  354365.000000  \n",
              "mean            5.714650               0.0   50508.503800  \n",
              "std             3.726432               0.0   25783.100078  \n",
              "min             0.000000               0.0    1067.000000  \n",
              "25%             3.000000               0.0   30165.000000  \n",
              "50%             6.000000               0.0   49413.000000  \n",
              "75%             9.000000               0.0   71083.000000  \n",
              "max            12.000000               0.0   99998.000000  "
            ]
          },
          "execution_count": 11,
          "metadata": {},
          "output_type": "execute_result"
        }
      ],
      "source": [
        "data.describe()"
      ]
    },
    {
      "cell_type": "markdown",
      "metadata": {
        "id": "GT28dDe_01RM"
      },
      "source": [
        "Цены варьируются от 0 до 20 тыс евро. Явно нули это отклонения. Год регистрации так же имеет ошибки, некоторые машины были созданы еще в 1000 году, некоторые пришли в наш мир из 9999, явные опечатки. Мощность так же имеет ошибки. А самый распространенный пробег это 150 тыс. км. это немного странно, но и проверить по факту нам не представляется возможным. Остальные колонки подлежат удалению."
      ]
    },
    {
      "cell_type": "markdown",
      "metadata": {
        "id": "9xqpAb3g01RM"
      },
      "source": [
        "Сразу ограничим год регистрации авто с 1990 до 2017, потому что все что ниже 1990 скорее всего редкие раритетные модели, либо откровенный хлам, а все что выше 2017 нам не подходит, так как наши данные до 2016"
      ]
    },
    {
      "cell_type": "code",
      "execution_count": null,
      "metadata": {
        "id": "Dx09HfuI01RN"
      },
      "outputs": [],
      "source": [
        "df = data.loc[data['RegistrationYear'] < 2017]\n",
        "df = df.loc[data['RegistrationYear'] >= 1990]"
      ]
    },
    {
      "cell_type": "markdown",
      "metadata": {
        "id": "ULqQvrSj01RN"
      },
      "source": [
        "Так же сразу поставим лошадинные силы до 300, потому что выше опечатки, либо спорткары, редкие авто для которых тяжело определить рыночную цену. В случае необходимости ограничим еще. Нижнюю границу сделаем от 50."
      ]
    },
    {
      "cell_type": "code",
      "execution_count": null,
      "metadata": {
        "id": "YweD000Y01RN"
      },
      "outputs": [],
      "source": [
        "df = df.loc[data['Power'] < 300]\n",
        "df = df.loc[data['Power'] >= 50]"
      ]
    },
    {
      "cell_type": "markdown",
      "metadata": {
        "id": "-nW3DmIu01RQ"
      },
      "source": [
        "Чуть меньше 25 тыс срок оказались лишними, для нас это не так много."
      ]
    },
    {
      "cell_type": "code",
      "execution_count": null,
      "metadata": {
        "scrolled": false,
        "id": "YnI0Fexw01RQ",
        "outputId": "3b18e5db-6bf7-499c-a438-153bcbfdb55b"
      },
      "outputs": [
        {
          "data": {
            "image/png": "[encoded data removed]",
            "text/plain": [
              "<Figure size 504x576 with 1 Axes>"
            ]
          },
          "metadata": {
            "needs_background": "light"
          },
          "output_type": "display_data"
        },
        {
          "data": {
            "image/png": "[encoded data removed]",
            "text/plain": [
              "<Figure size 504x576 with 1 Axes>"
            ]
          },
          "metadata": {
            "needs_background": "light"
          },
          "output_type": "display_data"
        },
        {
          "data": {
            "image/png": "[encoded data removed]",
            "text/plain": [
              "<Figure size 504x576 with 1 Axes>"
            ]
          },
          "metadata": {
            "needs_background": "light"
          },
          "output_type": "display_data"
        }
      ],
      "source": [
        "columns = ['Price', 'RegistrationYear', 'Power']\n",
        "title = ['Распределение стоимомти авто', 'Распределение по годам', 'Распределение по лошадиным силам']\n",
        "y = ['Стоимость', 'Год', 'Лошадиные силы']\n",
        "x = ['Цена', 'Год регистрации', 'Мощность']\n",
        "\n",
        "for i in range(len(columns)):\n",
        "    df.boxplot(columns[i], figsize=(7,8))\n",
        "    plt.title(title[i])\n",
        "    plt.ylabel(y[i])\n",
        "    plt.xlabel(x[i])\n",
        "    plt.show()"
      ]
    },
    {
      "cell_type": "markdown",
      "metadata": {
        "id": "KQAi36go01RR"
      },
      "source": [
        "Лошадиные силы можно еще сократить, выставить ограничение до 255. Так же ограничим цены до 15000 евро, нижнюю границу проведем от 500 евро."
      ]
    },
    {
      "cell_type": "code",
      "execution_count": null,
      "metadata": {
        "id": "dqpuRl5W01RR",
        "outputId": "4b7f1746-f826-4215-9414-63c4316eefff"
      },
      "outputs": [
        {
          "name": "stdout",
          "output_type": "stream",
          "text": [
            "<class 'pandas.core.frame.DataFrame'>\n",
            "Int64Index: 246751 entries, 2 to 354368\n",
            "Data columns (total 16 columns):\n",
            " #   Column             Non-Null Count   Dtype \n",
            "---  ------             --------------   ----- \n",
            " 0   DateCrawled        246751 non-null  object\n",
            " 1   Price              246751 non-null  int64 \n",
            " 2   VehicleType        239187 non-null  object\n",
            " 3   RegistrationYear   246751 non-null  int64 \n",
            " 4   Gearbox            242866 non-null  object\n",
            " 5   Power              246751 non-null  int64 \n",
            " 6   Model              238912 non-null  object\n",
            " 7   Kilometer          246751 non-null  int64 \n",
            " 8   RegistrationMonth  246751 non-null  int64 \n",
            " 9   FuelType           235518 non-null  object\n",
            " 10  Brand              246751 non-null  object\n",
            " 11  Repaired           214071 non-null  object\n",
            " 12  DateCreated        246751 non-null  object\n",
            " 13  NumberOfPictures   246751 non-null  int64 \n",
            " 14  PostalCode         246751 non-null  int64 \n",
            " 15  LastSeen           246751 non-null  object\n",
            "dtypes: int64(7), object(9)\n",
            "memory usage: 32.0+ MB\n"
          ]
        }
      ],
      "source": [
        "df = df.loc[data['Power'] < 255]\n",
        "df = df.loc[data['Price'] < 15000]\n",
        "df = df.loc[data['Price'] > 500]\n",
        "\n",
        "df.info()"
      ]
    },
    {
      "cell_type": "markdown",
      "metadata": {
        "id": "zwbyxSV101RR"
      },
      "source": [
        "Удалим лишние колонки"
      ]
    },
    {
      "cell_type": "code",
      "execution_count": null,
      "metadata": {
        "id": "aRzF0bs801RR",
        "outputId": "414cc255-a428-4a2b-a820-844f4980af71"
      },
      "outputs": [
        {
          "data": {
            "text/html": [
              "<div>\n",
              "<style scoped>\n",
              "    .dataframe tbody tr th:only-of-type {\n",
              "        vertical-align: middle;\n",
              "    }\n",
              "\n",
              "    .dataframe tbody tr th {\n",
              "        vertical-align: top;\n",
              "    }\n",
              "\n",
              "    .dataframe thead th {\n",
              "        text-align: right;\n",
              "    }\n",
              "</style>\n",
              "<table border=\"1\" class=\"dataframe\">\n",
              "  <thead>\n",
              "    <tr style=\"text-align: right;\">\n",
              "      <th></th>\n",
              "      <th>Price</th>\n",
              "      <th>VehicleType</th>\n",
              "      <th>RegistrationYear</th>\n",
              "      <th>Gearbox</th>\n",
              "      <th>Power</th>\n",
              "      <th>Model</th>\n",
              "      <th>Kilometer</th>\n",
              "      <th>FuelType</th>\n",
              "      <th>Brand</th>\n",
              "      <th>Repaired</th>\n",
              "    </tr>\n",
              "  </thead>\n",
              "  <tbody>\n",
              "    <tr>\n",
              "      <th>2</th>\n",
              "      <td>9800</td>\n",
              "      <td>suv</td>\n",
              "      <td>2004</td>\n",
              "      <td>auto</td>\n",
              "      <td>163</td>\n",
              "      <td>grand</td>\n",
              "      <td>125000</td>\n",
              "      <td>gasoline</td>\n",
              "      <td>jeep</td>\n",
              "      <td>NaN</td>\n",
              "    </tr>\n",
              "    <tr>\n",
              "      <th>3</th>\n",
              "      <td>1500</td>\n",
              "      <td>small</td>\n",
              "      <td>2001</td>\n",
              "      <td>manual</td>\n",
              "      <td>75</td>\n",
              "      <td>golf</td>\n",
              "      <td>150000</td>\n",
              "      <td>petrol</td>\n",
              "      <td>volkswagen</td>\n",
              "      <td>no</td>\n",
              "    </tr>\n",
              "    <tr>\n",
              "      <th>4</th>\n",
              "      <td>3600</td>\n",
              "      <td>small</td>\n",
              "      <td>2008</td>\n",
              "      <td>manual</td>\n",
              "      <td>69</td>\n",
              "      <td>fabia</td>\n",
              "      <td>90000</td>\n",
              "      <td>gasoline</td>\n",
              "      <td>skoda</td>\n",
              "      <td>no</td>\n",
              "    </tr>\n",
              "    <tr>\n",
              "      <th>5</th>\n",
              "      <td>650</td>\n",
              "      <td>sedan</td>\n",
              "      <td>1995</td>\n",
              "      <td>manual</td>\n",
              "      <td>102</td>\n",
              "      <td>3er</td>\n",
              "      <td>150000</td>\n",
              "      <td>petrol</td>\n",
              "      <td>bmw</td>\n",
              "      <td>yes</td>\n",
              "    </tr>\n",
              "    <tr>\n",
              "      <th>6</th>\n",
              "      <td>2200</td>\n",
              "      <td>convertible</td>\n",
              "      <td>2004</td>\n",
              "      <td>manual</td>\n",
              "      <td>109</td>\n",
              "      <td>2_reihe</td>\n",
              "      <td>150000</td>\n",
              "      <td>petrol</td>\n",
              "      <td>peugeot</td>\n",
              "      <td>no</td>\n",
              "    </tr>\n",
              "  </tbody>\n",
              "</table>\n",
              "</div>"
            ],
            "text/plain": [
              "   Price  VehicleType  RegistrationYear Gearbox  Power    Model  Kilometer  \\\n",
              "2   9800          suv              2004    auto    163    grand     125000   \n",
              "3   1500        small              2001  manual     75     golf     150000   \n",
              "4   3600        small              2008  manual     69    fabia      90000   \n",
              "5    650        sedan              1995  manual    102      3er     150000   \n",
              "6   2200  convertible              2004  manual    109  2_reihe     150000   \n",
              "\n",
              "   FuelType       Brand Repaired  \n",
              "2  gasoline        jeep      NaN  \n",
              "3    petrol  volkswagen       no  \n",
              "4  gasoline       skoda       no  \n",
              "5    petrol         bmw      yes  \n",
              "6    petrol     peugeot       no  "
            ]
          },
          "execution_count": 16,
          "metadata": {},
          "output_type": "execute_result"
        }
      ],
      "source": [
        "df = df.drop(['DateCrawled', 'RegistrationMonth', 'DateCreated', 'DateCreated', 'NumberOfPictures', 'PostalCode', 'LastSeen'],\n",
        "             axis=1)\n",
        "df.head()"
      ]
    },
    {
      "cell_type": "markdown",
      "metadata": {
        "id": "CS6ztwLN01RR"
      },
      "source": [
        "Теперь займемся оставшимися пропусками."
      ]
    },
    {
      "cell_type": "code",
      "execution_count": null,
      "metadata": {
        "id": "aPrmkHjE01RS",
        "outputId": "1f78c2f8-38ee-4191-a287-53b8899442be"
      },
      "outputs": [
        {
          "data": {
            "text/plain": [
              "Price                   0\n",
              "VehicleType          7564\n",
              "RegistrationYear        0\n",
              "Gearbox              3885\n",
              "Power                   0\n",
              "Model                7839\n",
              "Kilometer               0\n",
              "FuelType            11233\n",
              "Brand                   0\n",
              "Repaired            32680\n",
              "dtype: int64"
            ]
          },
          "execution_count": 17,
          "metadata": {},
          "output_type": "execute_result"
        }
      ],
      "source": [
        "df.isna().sum()"
      ]
    },
    {
      "cell_type": "code",
      "execution_count": null,
      "metadata": {
        "id": "TznJorTQ01RS",
        "outputId": "a3cf8e8b-0317-472a-eda4-4b94c7044372"
      },
      "outputs": [
        {
          "data": {
            "text/html": [
              "<style  type=\"text/css\" >\n",
              "#T_4085a_row0_col0,#T_4085a_row2_col0,#T_4085a_row4_col0,#T_4085a_row6_col0,#T_4085a_row8_col0{\n",
              "            background-color:  #3b4cc0;\n",
              "            color:  #f1f1f1;\n",
              "        }#T_4085a_row1_col0,#T_4085a_row5_col0{\n",
              "            background-color:  #86a9fc;\n",
              "            color:  #000000;\n",
              "        }#T_4085a_row3_col0{\n",
              "            background-color:  #6b8df0;\n",
              "            color:  #000000;\n",
              "        }#T_4085a_row7_col0{\n",
              "            background-color:  #bbd1f8;\n",
              "            color:  #000000;\n",
              "        }#T_4085a_row9_col0{\n",
              "            background-color:  #b40426;\n",
              "            color:  #f1f1f1;\n",
              "        }</style><table id=\"T_4085a_\" ><thead>    <tr>        <th class=\"blank level0\" ></th>        <th class=\"col_heading level0 col0\" >0</th>    </tr></thead><tbody>\n",
              "                <tr>\n",
              "                        <th id=\"T_4085a_level0_row0\" class=\"row_heading level0 row0\" >Price</th>\n",
              "                        <td id=\"T_4085a_row0_col0\" class=\"data row0 col0\" >0.000000</td>\n",
              "            </tr>\n",
              "            <tr>\n",
              "                        <th id=\"T_4085a_level0_row1\" class=\"row_heading level0 row1\" >VehicleType</th>\n",
              "                        <td id=\"T_4085a_row1_col0\" class=\"data row1 col0\" >3.000000</td>\n",
              "            </tr>\n",
              "            <tr>\n",
              "                        <th id=\"T_4085a_level0_row2\" class=\"row_heading level0 row2\" >RegistrationYear</th>\n",
              "                        <td id=\"T_4085a_row2_col0\" class=\"data row2 col0\" >0.000000</td>\n",
              "            </tr>\n",
              "            <tr>\n",
              "                        <th id=\"T_4085a_level0_row3\" class=\"row_heading level0 row3\" >Gearbox</th>\n",
              "                        <td id=\"T_4085a_row3_col0\" class=\"data row3 col0\" >2.000000</td>\n",
              "            </tr>\n",
              "            <tr>\n",
              "                        <th id=\"T_4085a_level0_row4\" class=\"row_heading level0 row4\" >Power</th>\n",
              "                        <td id=\"T_4085a_row4_col0\" class=\"data row4 col0\" >0.000000</td>\n",
              "            </tr>\n",
              "            <tr>\n",
              "                        <th id=\"T_4085a_level0_row5\" class=\"row_heading level0 row5\" >Model</th>\n",
              "                        <td id=\"T_4085a_row5_col0\" class=\"data row5 col0\" >3.000000</td>\n",
              "            </tr>\n",
              "            <tr>\n",
              "                        <th id=\"T_4085a_level0_row6\" class=\"row_heading level0 row6\" >Kilometer</th>\n",
              "                        <td id=\"T_4085a_row6_col0\" class=\"data row6 col0\" >0.000000</td>\n",
              "            </tr>\n",
              "            <tr>\n",
              "                        <th id=\"T_4085a_level0_row7\" class=\"row_heading level0 row7\" >FuelType</th>\n",
              "                        <td id=\"T_4085a_row7_col0\" class=\"data row7 col0\" >5.000000</td>\n",
              "            </tr>\n",
              "            <tr>\n",
              "                        <th id=\"T_4085a_level0_row8\" class=\"row_heading level0 row8\" >Brand</th>\n",
              "                        <td id=\"T_4085a_row8_col0\" class=\"data row8 col0\" >0.000000</td>\n",
              "            </tr>\n",
              "            <tr>\n",
              "                        <th id=\"T_4085a_level0_row9\" class=\"row_heading level0 row9\" >Repaired</th>\n",
              "                        <td id=\"T_4085a_row9_col0\" class=\"data row9 col0\" >13.000000</td>\n",
              "            </tr>\n",
              "    </tbody></table>"
            ],
            "text/plain": [
              "<pandas.io.formats.style.Styler at 0x7fdb09300760>"
            ]
          },
          "execution_count": 18,
          "metadata": {},
          "output_type": "execute_result"
        }
      ],
      "source": [
        "pd.DataFrame(round(df.isna().mean()*100,)).style.background_gradient('coolwarm')"
      ]
    },
    {
      "cell_type": "markdown",
      "metadata": {
        "id": "ospnBtpk01RS"
      },
      "source": [
        "Итак, у нас осталось не так много пропусков. Тип автомобильного кузова не указан в 3% данных, жалко терять 7564 строк, но достоверно заменить их достаточно трудоемко, поэтому заменим на unknown. Тип коробки передач так же важный показатель в определении цены, достоверно заменить фактически невозможно, так же поставим unknown. Модель важный показатель в определении цены, достоверно его заменить невозможно, придется поставить unknown. Тип топлива невозможно заменить достоверно, подлежит замене на unknown. Была ли машина в ремонте не указан в 13% записей. С уверенностью можно сказать, что все поддержаные машины были в ремонте, неудивительно, что это скрывют многие продавцы. А остальные пропуски удалим."
      ]
    },
    {
      "cell_type": "code",
      "execution_count": null,
      "metadata": {
        "id": "2F0KPjvm01RS",
        "outputId": "3a5f769c-7ce9-4f29-9d54-f07e66e159c3"
      },
      "outputs": [
        {
          "name": "stdout",
          "output_type": "stream",
          "text": [
            "<class 'pandas.core.frame.DataFrame'>\n",
            "Int64Index: 246751 entries, 2 to 354368\n",
            "Data columns (total 10 columns):\n",
            " #   Column            Non-Null Count   Dtype \n",
            "---  ------            --------------   ----- \n",
            " 0   Price             246751 non-null  int64 \n",
            " 1   VehicleType       246751 non-null  object\n",
            " 2   RegistrationYear  246751 non-null  int64 \n",
            " 3   Gearbox           246751 non-null  object\n",
            " 4   Power             246751 non-null  int64 \n",
            " 5   Model             246751 non-null  object\n",
            " 6   Kilometer         246751 non-null  int64 \n",
            " 7   FuelType          246751 non-null  object\n",
            " 8   Brand             246751 non-null  object\n",
            " 9   Repaired          246751 non-null  object\n",
            "dtypes: int64(4), object(6)\n",
            "memory usage: 20.7+ MB\n"
          ]
        }
      ],
      "source": [
        "df['VehicleType'] = df['VehicleType'].fillna('unknown')\n",
        "df['Gearbox'] = df['Gearbox'].fillna('unknown')\n",
        "df['Model'] = df['Model'].fillna('unknown')\n",
        "df['FuelType'] = df['FuelType'].fillna('unknown')\n",
        "df['Repaired'] = df['Repaired'].fillna('yes')\n",
        "\n",
        "df.info()"
      ]
    },
    {
      "cell_type": "markdown",
      "metadata": {
        "id": "bh5cgB0l01RS"
      },
      "source": [
        "Заменили данные пропуски на unknown, а в колонке с ремонтом на да."
      ]
    },
    {
      "cell_type": "markdown",
      "metadata": {
        "id": "phEaeYIa01RT"
      },
      "source": [
        "Мы проанализировали наш датасет. Посмотрели его размер, отбросили выбросы, которые помешают во время машинного обучения. Так же удалили лишние столбцы. Обработали пропуски, заменив на неизвестное, а в колонках с ремонтом на да."
      ]
    },
    {
      "cell_type": "markdown",
      "metadata": {
        "id": "PbJ2zDyv01RT"
      },
      "source": [
        "## Обучение моделей"
      ]
    },
    {
      "cell_type": "markdown",
      "metadata": {
        "id": "BHtduylt01RU"
      },
      "source": [
        "Разделим и закодируем выборки"
      ]
    },
    {
      "cell_type": "code",
      "execution_count": null,
      "metadata": {
        "scrolled": true,
        "id": "paJYvL8R01RU",
        "outputId": "708fe5a3-4ea5-454d-d2ab-3663fd7e14f2"
      },
      "outputs": [
        {
          "data": {
            "text/html": [
              "<div>\n",
              "<style scoped>\n",
              "    .dataframe tbody tr th:only-of-type {\n",
              "        vertical-align: middle;\n",
              "    }\n",
              "\n",
              "    .dataframe tbody tr th {\n",
              "        vertical-align: top;\n",
              "    }\n",
              "\n",
              "    .dataframe thead th {\n",
              "        text-align: right;\n",
              "    }\n",
              "</style>\n",
              "<table border=\"1\" class=\"dataframe\">\n",
              "  <thead>\n",
              "    <tr style=\"text-align: right;\">\n",
              "      <th></th>\n",
              "      <th>VehicleType</th>\n",
              "      <th>RegistrationYear</th>\n",
              "      <th>Gearbox</th>\n",
              "      <th>Power</th>\n",
              "      <th>Model</th>\n",
              "      <th>Kilometer</th>\n",
              "      <th>FuelType</th>\n",
              "      <th>Brand</th>\n",
              "      <th>Repaired</th>\n",
              "    </tr>\n",
              "  </thead>\n",
              "  <tbody>\n",
              "    <tr>\n",
              "      <th>2</th>\n",
              "      <td>suv</td>\n",
              "      <td>2004</td>\n",
              "      <td>auto</td>\n",
              "      <td>163</td>\n",
              "      <td>grand</td>\n",
              "      <td>125000</td>\n",
              "      <td>gasoline</td>\n",
              "      <td>jeep</td>\n",
              "      <td>yes</td>\n",
              "    </tr>\n",
              "    <tr>\n",
              "      <th>3</th>\n",
              "      <td>small</td>\n",
              "      <td>2001</td>\n",
              "      <td>manual</td>\n",
              "      <td>75</td>\n",
              "      <td>golf</td>\n",
              "      <td>150000</td>\n",
              "      <td>petrol</td>\n",
              "      <td>volkswagen</td>\n",
              "      <td>no</td>\n",
              "    </tr>\n",
              "    <tr>\n",
              "      <th>4</th>\n",
              "      <td>small</td>\n",
              "      <td>2008</td>\n",
              "      <td>manual</td>\n",
              "      <td>69</td>\n",
              "      <td>fabia</td>\n",
              "      <td>90000</td>\n",
              "      <td>gasoline</td>\n",
              "      <td>skoda</td>\n",
              "      <td>no</td>\n",
              "    </tr>\n",
              "    <tr>\n",
              "      <th>5</th>\n",
              "      <td>sedan</td>\n",
              "      <td>1995</td>\n",
              "      <td>manual</td>\n",
              "      <td>102</td>\n",
              "      <td>3er</td>\n",
              "      <td>150000</td>\n",
              "      <td>petrol</td>\n",
              "      <td>bmw</td>\n",
              "      <td>yes</td>\n",
              "    </tr>\n",
              "    <tr>\n",
              "      <th>6</th>\n",
              "      <td>convertible</td>\n",
              "      <td>2004</td>\n",
              "      <td>manual</td>\n",
              "      <td>109</td>\n",
              "      <td>2_reihe</td>\n",
              "      <td>150000</td>\n",
              "      <td>petrol</td>\n",
              "      <td>peugeot</td>\n",
              "      <td>no</td>\n",
              "    </tr>\n",
              "  </tbody>\n",
              "</table>\n",
              "</div>"
            ],
            "text/plain": [
              "   VehicleType  RegistrationYear Gearbox  Power    Model  Kilometer  FuelType  \\\n",
              "2          suv              2004    auto    163    grand     125000  gasoline   \n",
              "3        small              2001  manual     75     golf     150000    petrol   \n",
              "4        small              2008  manual     69    fabia      90000  gasoline   \n",
              "5        sedan              1995  manual    102      3er     150000    petrol   \n",
              "6  convertible              2004  manual    109  2_reihe     150000    petrol   \n",
              "\n",
              "        Brand Repaired  \n",
              "2        jeep      yes  \n",
              "3  volkswagen       no  \n",
              "4       skoda       no  \n",
              "5         bmw      yes  \n",
              "6     peugeot       no  "
            ]
          },
          "execution_count": 20,
          "metadata": {},
          "output_type": "execute_result"
        }
      ],
      "source": [
        "features = df.drop(['Price'],axis=1)\n",
        "target = df['Price']\n",
        "\n",
        "features.head()"
      ]
    },
    {
      "cell_type": "code",
      "execution_count": null,
      "metadata": {
        "id": "G1yDgjVk01RU"
      },
      "outputs": [],
      "source": [
        "train_features, test_features, train_target, test_target = train_test_split(\n",
        "    features,\n",
        "    target,\n",
        "    test_size = 0.25,\n",
        "    random_state = 12345)"
      ]
    },
    {
      "cell_type": "code",
      "execution_count": null,
      "metadata": {
        "scrolled": true,
        "id": "u0sFO4_G01RU",
        "outputId": "6ce22a07-a228-4cdf-86bd-15cf608b46b7"
      },
      "outputs": [
        {
          "data": {
            "text/html": [
              "<div>\n",
              "<style scoped>\n",
              "    .dataframe tbody tr th:only-of-type {\n",
              "        vertical-align: middle;\n",
              "    }\n",
              "\n",
              "    .dataframe tbody tr th {\n",
              "        vertical-align: top;\n",
              "    }\n",
              "\n",
              "    .dataframe thead th {\n",
              "        text-align: right;\n",
              "    }\n",
              "</style>\n",
              "<table border=\"1\" class=\"dataframe\">\n",
              "  <thead>\n",
              "    <tr style=\"text-align: right;\">\n",
              "      <th></th>\n",
              "      <th>VehicleType</th>\n",
              "      <th>RegistrationYear</th>\n",
              "      <th>Gearbox</th>\n",
              "      <th>Power</th>\n",
              "      <th>Model</th>\n",
              "      <th>Kilometer</th>\n",
              "      <th>FuelType</th>\n",
              "      <th>Brand</th>\n",
              "      <th>Repaired</th>\n",
              "    </tr>\n",
              "  </thead>\n",
              "  <tbody>\n",
              "    <tr>\n",
              "      <th>63105</th>\n",
              "      <td>small</td>\n",
              "      <td>2004</td>\n",
              "      <td>manual</td>\n",
              "      <td>64</td>\n",
              "      <td>polo</td>\n",
              "      <td>150000</td>\n",
              "      <td>petrol</td>\n",
              "      <td>volkswagen</td>\n",
              "      <td>no</td>\n",
              "    </tr>\n",
              "    <tr>\n",
              "      <th>142142</th>\n",
              "      <td>sedan</td>\n",
              "      <td>2002</td>\n",
              "      <td>manual</td>\n",
              "      <td>102</td>\n",
              "      <td>a3</td>\n",
              "      <td>150000</td>\n",
              "      <td>petrol</td>\n",
              "      <td>audi</td>\n",
              "      <td>no</td>\n",
              "    </tr>\n",
              "    <tr>\n",
              "      <th>117178</th>\n",
              "      <td>wagon</td>\n",
              "      <td>1997</td>\n",
              "      <td>auto</td>\n",
              "      <td>160</td>\n",
              "      <td>unknown</td>\n",
              "      <td>150000</td>\n",
              "      <td>unknown</td>\n",
              "      <td>chrysler</td>\n",
              "      <td>yes</td>\n",
              "    </tr>\n",
              "    <tr>\n",
              "      <th>184791</th>\n",
              "      <td>sedan</td>\n",
              "      <td>1996</td>\n",
              "      <td>manual</td>\n",
              "      <td>116</td>\n",
              "      <td>golf</td>\n",
              "      <td>150000</td>\n",
              "      <td>petrol</td>\n",
              "      <td>volkswagen</td>\n",
              "      <td>no</td>\n",
              "    </tr>\n",
              "    <tr>\n",
              "      <th>207118</th>\n",
              "      <td>small</td>\n",
              "      <td>2007</td>\n",
              "      <td>manual</td>\n",
              "      <td>68</td>\n",
              "      <td>aygo</td>\n",
              "      <td>60000</td>\n",
              "      <td>petrol</td>\n",
              "      <td>toyota</td>\n",
              "      <td>no</td>\n",
              "    </tr>\n",
              "  </tbody>\n",
              "</table>\n",
              "</div>"
            ],
            "text/plain": [
              "       VehicleType  RegistrationYear Gearbox  Power    Model  Kilometer  \\\n",
              "63105        small              2004  manual     64     polo     150000   \n",
              "142142       sedan              2002  manual    102       a3     150000   \n",
              "117178       wagon              1997    auto    160  unknown     150000   \n",
              "184791       sedan              1996  manual    116     golf     150000   \n",
              "207118       small              2007  manual     68     aygo      60000   \n",
              "\n",
              "       FuelType       Brand Repaired  \n",
              "63105    petrol  volkswagen       no  \n",
              "142142   petrol        audi       no  \n",
              "117178  unknown    chrysler      yes  \n",
              "184791   petrol  volkswagen       no  \n",
              "207118   petrol      toyota       no  "
            ]
          },
          "execution_count": 22,
          "metadata": {},
          "output_type": "execute_result"
        }
      ],
      "source": [
        "test_features.head()"
      ]
    },
    {
      "cell_type": "code",
      "execution_count": null,
      "metadata": {
        "scrolled": true,
        "id": "IbvoVpFZ01RU",
        "outputId": "defbac60-aadb-4dde-c0ed-4fb1048736bd"
      },
      "outputs": [
        {
          "data": {
            "text/html": [
              "<div>\n",
              "<style scoped>\n",
              "    .dataframe tbody tr th:only-of-type {\n",
              "        vertical-align: middle;\n",
              "    }\n",
              "\n",
              "    .dataframe tbody tr th {\n",
              "        vertical-align: top;\n",
              "    }\n",
              "\n",
              "    .dataframe thead th {\n",
              "        text-align: right;\n",
              "    }\n",
              "</style>\n",
              "<table border=\"1\" class=\"dataframe\">\n",
              "  <thead>\n",
              "    <tr style=\"text-align: right;\">\n",
              "      <th></th>\n",
              "      <th>VehicleType</th>\n",
              "      <th>RegistrationYear</th>\n",
              "      <th>Gearbox</th>\n",
              "      <th>Power</th>\n",
              "      <th>Model</th>\n",
              "      <th>Kilometer</th>\n",
              "      <th>FuelType</th>\n",
              "      <th>Brand</th>\n",
              "      <th>Repaired</th>\n",
              "    </tr>\n",
              "  </thead>\n",
              "  <tbody>\n",
              "    <tr>\n",
              "      <th>37242</th>\n",
              "      <td>8.0</td>\n",
              "      <td>1999</td>\n",
              "      <td>1.0</td>\n",
              "      <td>101</td>\n",
              "      <td>223.0</td>\n",
              "      <td>150000</td>\n",
              "      <td>2.0</td>\n",
              "      <td>24.0</td>\n",
              "      <td>1.0</td>\n",
              "    </tr>\n",
              "    <tr>\n",
              "      <th>245120</th>\n",
              "      <td>4.0</td>\n",
              "      <td>1995</td>\n",
              "      <td>1.0</td>\n",
              "      <td>140</td>\n",
              "      <td>11.0</td>\n",
              "      <td>150000</td>\n",
              "      <td>6.0</td>\n",
              "      <td>2.0</td>\n",
              "      <td>0.0</td>\n",
              "    </tr>\n",
              "    <tr>\n",
              "      <th>324265</th>\n",
              "      <td>8.0</td>\n",
              "      <td>2008</td>\n",
              "      <td>1.0</td>\n",
              "      <td>105</td>\n",
              "      <td>162.0</td>\n",
              "      <td>100000</td>\n",
              "      <td>2.0</td>\n",
              "      <td>31.0</td>\n",
              "      <td>0.0</td>\n",
              "    </tr>\n",
              "    <tr>\n",
              "      <th>140254</th>\n",
              "      <td>5.0</td>\n",
              "      <td>2005</td>\n",
              "      <td>1.0</td>\n",
              "      <td>68</td>\n",
              "      <td>147.0</td>\n",
              "      <td>90000</td>\n",
              "      <td>6.0</td>\n",
              "      <td>3.0</td>\n",
              "      <td>1.0</td>\n",
              "    </tr>\n",
              "    <tr>\n",
              "      <th>31345</th>\n",
              "      <td>4.0</td>\n",
              "      <td>2014</td>\n",
              "      <td>1.0</td>\n",
              "      <td>69</td>\n",
              "      <td>100.0</td>\n",
              "      <td>5000</td>\n",
              "      <td>6.0</td>\n",
              "      <td>31.0</td>\n",
              "      <td>0.0</td>\n",
              "    </tr>\n",
              "  </tbody>\n",
              "</table>\n",
              "</div>"
            ],
            "text/plain": [
              "        VehicleType  RegistrationYear  Gearbox  Power  Model  Kilometer  \\\n",
              "37242           8.0              1999      1.0    101  223.0     150000   \n",
              "245120          4.0              1995      1.0    140   11.0     150000   \n",
              "324265          8.0              2008      1.0    105  162.0     100000   \n",
              "140254          5.0              2005      1.0     68  147.0      90000   \n",
              "31345           4.0              2014      1.0     69  100.0       5000   \n",
              "\n",
              "        FuelType  Brand  Repaired  \n",
              "37242        2.0   24.0       1.0  \n",
              "245120       6.0    2.0       0.0  \n",
              "324265       2.0   31.0       0.0  \n",
              "140254       6.0    3.0       1.0  \n",
              "31345        6.0   31.0       0.0  "
            ]
          },
          "execution_count": 23,
          "metadata": {},
          "output_type": "execute_result"
        }
      ],
      "source": [
        "columns = ['VehicleType', 'Gearbox', 'Model', 'FuelType', 'Brand', 'Repaired']\n",
        "\n",
        "train_features_oe = train_features.copy()\n",
        "test_features_oe = test_features.copy()\n",
        "\n",
        "encoder = OrdinalEncoder()\n",
        "encoder.fit(train_features_oe[columns])\n",
        "\n",
        "train_features_oe[columns] = encoder.transform(train_features_oe[columns])\n",
        "test_features_oe[columns] = encoder.transform(test_features_oe[columns])\n",
        "\n",
        "train_features_oe.head()"
      ]
    },
    {
      "cell_type": "markdown",
      "metadata": {
        "id": "GO7BZfDS01RV"
      },
      "source": [
        "Создадим функцию подсчета и для крос валидации"
      ]
    },
    {
      "cell_type": "code",
      "execution_count": null,
      "metadata": {
        "id": "o1xKIN4R01RV"
      },
      "outputs": [],
      "source": [
        "def rmse(test_target, prediction):\n",
        "    return mean_squared_error(test_target, prediction) **0.5"
      ]
    },
    {
      "cell_type": "code",
      "execution_count": null,
      "metadata": {
        "id": "6NWe4x6v01RV"
      },
      "outputs": [],
      "source": [
        "rmse_scorer = make_scorer(rmse)"
      ]
    },
    {
      "cell_type": "markdown",
      "metadata": {
        "id": "ol1hHMlB01RW"
      },
      "source": [
        "Разберем две модели: лес и LightGBM.\n",
        "\n",
        "Начнем с леса."
      ]
    },
    {
      "cell_type": "markdown",
      "metadata": {
        "id": "o1V5hmdP01RW"
      },
      "source": [
        "Посмотрим на скорость обучения, потом на скорость работы и оценим результат."
      ]
    },
    {
      "cell_type": "code",
      "execution_count": null,
      "metadata": {
        "id": "emQn2T4K01RX",
        "outputId": "c6704b6b-c834-459d-8776-539868b4412b"
      },
      "outputs": [
        {
          "name": "stdout",
          "output_type": "stream",
          "text": [
            "\n",
            "Лучшая модель при количестве деревьев 160, с оценкой 1346.734153316124\n",
            "\n"
          ]
        }
      ],
      "source": [
        "best_scores_forest = 20000\n",
        "for estimators in range(40,161,20):\n",
        "    model_forest = RandomForestRegressor(n_estimators=estimators,\n",
        "                                                 random_state=12345).fit(train_features_oe,train_target)\n",
        "    rmse = cross_val_score(model_forest,\n",
        "                                          train_features_oe,\n",
        "                                          train_target,\n",
        "                                          scoring = rmse_scorer,\n",
        "                                          cv = 3)\n",
        "    scores_forest = np.mean(rmse)\n",
        "    if scores_forest < best_scores_forest:\n",
        "        best_scores_forest = scores_forest\n",
        "        best_model_forest = model_forest\n",
        "        best_estimators = estimators\n",
        "print()\n",
        "print(f\"Лучшая модель при количестве деревьев 160, с оценкой 1346.734153316124\")\n",
        "print()"
      ]
    },
    {
      "cell_type": "markdown",
      "metadata": {
        "id": "_klr2RnE01RX"
      },
      "source": [
        "Оценим время работы лучшей модели леса"
      ]
    },
    {
      "cell_type": "code",
      "execution_count": null,
      "metadata": {
        "id": "e6mL6k9L01RX",
        "outputId": "7dbd86d4-3975-4bcb-cbde-e4aa5042c535"
      },
      "outputs": [
        {
          "name": "stdout",
          "output_type": "stream",
          "text": [
            "Время работы леса 2.7092087427775065\n"
          ]
        }
      ],
      "source": [
        "start = time()\n",
        "rmse = cross_val_score(best_model_forest,\n",
        "                       train_features_oe,\n",
        "                       train_target,\n",
        "                       scoring = rmse_scorer,\n",
        "                       cv = 3)\n",
        "\n",
        "end = time()\n",
        "\n",
        "forest_time = (end-start) /60\n",
        "print(f'Время работы леса {forest_time}')"
      ]
    },
    {
      "cell_type": "markdown",
      "metadata": {
        "id": "6D3aRhHj01RY"
      },
      "source": [
        "Посмотрим на работу LightGBM."
      ]
    },
    {
      "cell_type": "code",
      "execution_count": null,
      "metadata": {
        "id": "A6QcCsHx01RY",
        "outputId": "3ababcc1-3d54-4b0f-e647-8b4c85a4c78a"
      },
      "outputs": [
        {
          "name": "stdout",
          "output_type": "stream",
          "text": [
            "\n",
            "Лучшая модель при количестве деревьев 1000, \n",
            "скоросью обучения 0.2 с оценкой 1271.8545851979122\n",
            "\n"
          ]
        }
      ],
      "source": [
        "best_scores_lgbm = 20000\n",
        "for estimators in range(800, 1101, 200):\n",
        "    for rate in range(2, 5, 2):\n",
        "        rate = rate/10\n",
        "        model_lgbm = LGBMRegressor(n_estimators=estimators,\n",
        "                                   random_state=12345,\n",
        "                                   learning_rate=rate,\n",
        "                                   objective='rmse')\n",
        "\n",
        "        rmse = cross_val_score(model_lgbm,\n",
        "                                          train_features_oe,\n",
        "                                          train_target,\n",
        "                                          scoring = rmse_scorer,\n",
        "                                          cv = 3)\n",
        "        scores_lgbm = np.mean(rmse)\n",
        "        if scores_lgbm < best_scores_lgbm:\n",
        "            best_scores_lgbm = scores_lgbm\n",
        "            best_model_lgbm = model_lgbm\n",
        "            best_estimators = estimators\n",
        "            best_rate = rate\n",
        "\n",
        "print(f'''\n",
        "Лучшая модель при количестве деревьев {best_estimators},\n",
        "скоросью обучения {best_rate} с оценкой {best_scores_lgbm}\n",
        "''')"
      ]
    },
    {
      "cell_type": "code",
      "execution_count": null,
      "metadata": {
        "id": "qec0alJH01RY",
        "outputId": "0829a507-0ace-4c44-addc-e3d056764e45"
      },
      "outputs": [
        {
          "name": "stdout",
          "output_type": "stream",
          "text": [
            "Время работы лучшей модели бустинга 1.3\n"
          ]
        }
      ],
      "source": [
        "start = time()\n",
        "best_model_lgbm = LGBMRegressor(n_estimators=1000,\n",
        "              random_state=12345,\n",
        "              learning_rate=0.2,\n",
        "              objective='rmse')\n",
        "\n",
        "rmse = cross_val_score(best_model_lgbm,\n",
        "                                          train_features_oe,\n",
        "                                          train_target,\n",
        "                                          scoring = rmse_scorer,\n",
        "                                          cv = 3)\n",
        "\n",
        "end = time()\n",
        "\n",
        "lgbm_time = (end-start) /60\n",
        "print(f'Время работы лучшей модели бустинга {lgbm_time}')"
      ]
    },
    {
      "cell_type": "markdown",
      "metadata": {
        "id": "Y-DzQI6v01RY"
      },
      "source": [
        "Мы посмотрели как работают 2 наших модели, случайный лес оказался явным аутсайдером, LightGBM фаворит.\n",
        "\n",
        "\n",
        "Сведем все в таблицу и сравним результаты."
      ]
    },
    {
      "cell_type": "markdown",
      "metadata": {
        "id": "gH8eGrW-01RZ"
      },
      "source": [
        "## Анализ моделей"
      ]
    },
    {
      "cell_type": "markdown",
      "metadata": {
        "id": "xEQ4hn3b01RZ"
      },
      "source": [
        "Сделаем таблицу в которую внесем показатель rmse и время."
      ]
    },
    {
      "cell_type": "code",
      "execution_count": null,
      "metadata": {
        "id": "2JFsC3TH01RZ",
        "outputId": "4b135728-bcba-4879-c635-bbb0643cb5a1"
      },
      "outputs": [
        {
          "data": {
            "text/html": [
              "<div>\n",
              "<style scoped>\n",
              "    .dataframe tbody tr th:only-of-type {\n",
              "        vertical-align: middle;\n",
              "    }\n",
              "\n",
              "    .dataframe tbody tr th {\n",
              "        vertical-align: top;\n",
              "    }\n",
              "\n",
              "    .dataframe thead th {\n",
              "        text-align: right;\n",
              "    }\n",
              "</style>\n",
              "<table border=\"1\" class=\"dataframe\">\n",
              "  <thead>\n",
              "    <tr style=\"text-align: right;\">\n",
              "      <th></th>\n",
              "      <th>Model</th>\n",
              "      <th>RMSE</th>\n",
              "      <th>Time prediction</th>\n",
              "    </tr>\n",
              "  </thead>\n",
              "  <tbody>\n",
              "    <tr>\n",
              "      <th>0</th>\n",
              "      <td>RandomForestRegressor</td>\n",
              "      <td>1346.734153</td>\n",
              "      <td>2.4</td>\n",
              "    </tr>\n",
              "    <tr>\n",
              "      <th>1</th>\n",
              "      <td>LGBMRegressor</td>\n",
              "      <td>1271.854585</td>\n",
              "      <td>1.3</td>\n",
              "    </tr>\n",
              "  </tbody>\n",
              "</table>\n",
              "</div>"
            ],
            "text/plain": [
              "                   Model         RMSE  Time prediction\n",
              "0  RandomForestRegressor  1346.734153              2.4\n",
              "1          LGBMRegressor  1271.854585              1.3"
            ]
          },
          "metadata": {},
          "output_type": "display_data"
        }
      ],
      "source": [
        "results = {\n",
        "    'Model' : ['RandomForestRegressor', 'LGBMRegressor'],\n",
        "    'RMSE' :pd.Series([best_scores_forest, best_scores_lgbm]),\n",
        "    'Time prediction': pd.Series([forest_time, lgbm_time]),\n",
        "    }\n",
        "display(pd.DataFrame(results))"
      ]
    },
    {
      "cell_type": "markdown",
      "metadata": {
        "id": "5M5_xh9C01Ra"
      },
      "source": [
        "Работа леса заняла 2,4 минут, у бустинга 1,3 минуты. Так же стоит отметить, что бустинг точнее почти на 100 евро. Выбор логично сделать в пользу бустинга."
      ]
    },
    {
      "cell_type": "markdown",
      "metadata": {
        "id": "5r5AwZJ201Ra"
      },
      "source": [
        "Посмотрим работу бустинга на тестовой выборке."
      ]
    },
    {
      "cell_type": "code",
      "execution_count": null,
      "metadata": {
        "id": "b45Uezag01Ra",
        "outputId": "64383ed4-3357-4141-bc7e-d6f80a841439"
      },
      "outputs": [
        {
          "name": "stdout",
          "output_type": "stream",
          "text": [
            "Метрика качества равна 1258.6204038078754\n"
          ]
        }
      ],
      "source": [
        "model_lgbm = LGBMRegressor(n_estimators=1000,\n",
        "                                   random_state=12345,\n",
        "                                   learning_rate=0.2,\n",
        "                                   objective='rmse').fit(train_features_oe, train_target)\n",
        "start = time()\n",
        "prediction = model_lgbm.predict(test_features_oe)\n",
        "end = time()\n",
        "time = (end-start) /60\n",
        "rmse = mean_squared_error(test_target, prediction) **0.5\n",
        "print(f'Метрика качества равна {rmse}')"
      ]
    },
    {
      "cell_type": "markdown",
      "metadata": {
        "id": "6RDFm07i01Ra"
      },
      "source": [
        "На тестовой выборке результат даже немного лучше. А время предсказания занимает мало времени."
      ]
    },
    {
      "cell_type": "code",
      "execution_count": null,
      "metadata": {
        "id": "hfcaWDlw01Ra",
        "outputId": "b6a2fd5c-60be-457b-d75d-b7e00ce029e4"
      },
      "outputs": [
        {
          "name": "stdout",
          "output_type": "stream",
          "text": [
            "Метрика качества константной модели равна 3820.95023285623\n"
          ]
        }
      ],
      "source": [
        "model_dummy = DummyRegressor(strategy=\"median\")\n",
        "model_dummy = model_dummy.fit(train_features_oe, train_target)\n",
        "prediction = model_dummy.predict(test_features_oe)\n",
        "rmse = mean_squared_error(test_target, prediction) **0.5\n",
        "print(f'Метрика качества константной модели равна {rmse}')"
      ]
    },
    {
      "cell_type": "markdown",
      "metadata": {
        "id": "nZj_6gea01Ra"
      },
      "source": [
        "Метрика константной модели выше метрики лучшей модели - наша модель адекватна."
      ]
    },
    {
      "cell_type": "markdown",
      "metadata": {
        "id": "oQUe5_PQ01Rb"
      },
      "source": [
        "Таким образом, мы проанализировали датасет с данными про авто. Мы убрали выбросы и дубликаты. Так же, нулевые значения заменили на неизвестные, где невозможно достоверно понять как их заменить. В колонке был ли ремонт пустые значения мы заменили на \"да\", так как все машины были в ремонте. Позже мы создали три модели предсказания цены на авто. Последняя модель была использована для проверке на адекватность остальных моделей. Наилучший показатель у LGBMRegressor, второе место занял RandomForestRegressor. Для заказчика важны время и точность, поэтому лучшим и однозначным выбором становится бустинг."
      ]
    }
  ],
  "metadata": {
    "ExecuteTimeLog": [
      {
        "duration": 426,
        "start_time": "2023-02-24T15:22:14.548Z"
      },
      {
        "duration": 2862,
        "start_time": "2023-02-24T15:29:11.663Z"
      },
      {
        "duration": 26,
        "start_time": "2023-02-24T15:29:20.569Z"
      },
      {
        "duration": 166,
        "start_time": "2023-02-24T16:45:28.883Z"
      },
      {
        "duration": 230,
        "start_time": "2023-02-24T16:45:34.723Z"
      },
      {
        "duration": 153,
        "start_time": "2023-02-24T16:45:49.163Z"
      },
      {
        "duration": 48,
        "start_time": "2023-02-25T11:47:23.132Z"
      },
      {
        "duration": 369,
        "start_time": "2023-02-25T11:47:32.852Z"
      },
      {
        "duration": 979,
        "start_time": "2023-02-25T11:47:33.223Z"
      },
      {
        "duration": 19,
        "start_time": "2023-02-25T11:47:34.203Z"
      },
      {
        "duration": 101,
        "start_time": "2023-02-25T11:47:34.224Z"
      },
      {
        "duration": 102,
        "start_time": "2023-02-25T11:47:34.327Z"
      },
      {
        "duration": 496,
        "start_time": "2023-02-25T11:47:34.437Z"
      },
      {
        "duration": 420,
        "start_time": "2023-02-25T12:37:41.143Z"
      },
      {
        "duration": 536,
        "start_time": "2023-02-25T12:38:10.792Z"
      },
      {
        "duration": 89,
        "start_time": "2023-02-25T12:39:02.595Z"
      },
      {
        "duration": 432,
        "start_time": "2023-02-25T12:52:26.011Z"
      },
      {
        "duration": 792,
        "start_time": "2023-02-25T12:52:26.445Z"
      },
      {
        "duration": 20,
        "start_time": "2023-02-25T12:52:27.240Z"
      },
      {
        "duration": 138,
        "start_time": "2023-02-25T12:52:27.262Z"
      },
      {
        "duration": 115,
        "start_time": "2023-02-25T12:52:27.402Z"
      },
      {
        "duration": 392,
        "start_time": "2023-02-25T12:52:27.519Z"
      },
      {
        "duration": 450,
        "start_time": "2023-02-25T12:52:27.913Z"
      },
      {
        "duration": 582,
        "start_time": "2023-02-25T12:52:28.365Z"
      },
      {
        "duration": 91,
        "start_time": "2023-02-25T12:52:28.949Z"
      },
      {
        "duration": 37,
        "start_time": "2023-02-25T13:03:53.319Z"
      },
      {
        "duration": 39,
        "start_time": "2023-02-25T13:04:05.038Z"
      },
      {
        "duration": 66,
        "start_time": "2023-02-25T13:05:39.182Z"
      },
      {
        "duration": 89,
        "start_time": "2023-02-25T13:05:42.768Z"
      },
      {
        "duration": 63,
        "start_time": "2023-02-25T13:05:45.954Z"
      },
      {
        "duration": 57,
        "start_time": "2023-02-25T13:06:05.858Z"
      },
      {
        "duration": 2143,
        "start_time": "2023-02-25T15:00:01.020Z"
      },
      {
        "duration": 3,
        "start_time": "2023-02-25T15:00:23.668Z"
      },
      {
        "duration": 2038,
        "start_time": "2023-02-25T15:00:30.974Z"
      },
      {
        "duration": 955,
        "start_time": "2023-02-25T15:03:19.972Z"
      },
      {
        "duration": 794,
        "start_time": "2023-02-25T15:03:38.599Z"
      },
      {
        "duration": 1120,
        "start_time": "2023-02-25T15:04:38.589Z"
      },
      {
        "duration": 583,
        "start_time": "2023-02-25T15:06:38.473Z"
      },
      {
        "duration": 744,
        "start_time": "2023-02-25T15:06:57.143Z"
      },
      {
        "duration": 936,
        "start_time": "2023-02-25T15:07:08.393Z"
      },
      {
        "duration": 25,
        "start_time": "2023-02-25T15:08:16.288Z"
      },
      {
        "duration": 38,
        "start_time": "2023-02-25T15:08:54.718Z"
      },
      {
        "duration": 44,
        "start_time": "2023-02-25T15:09:44.881Z"
      },
      {
        "duration": 24,
        "start_time": "2023-02-25T15:11:22.052Z"
      },
      {
        "duration": 99,
        "start_time": "2023-02-25T16:02:49.181Z"
      },
      {
        "duration": 1091,
        "start_time": "2023-02-25T16:02:52.169Z"
      },
      {
        "duration": 588,
        "start_time": "2023-02-25T16:03:16.152Z"
      },
      {
        "duration": 756,
        "start_time": "2023-02-25T16:03:16.742Z"
      },
      {
        "duration": 16,
        "start_time": "2023-02-25T16:03:17.500Z"
      },
      {
        "duration": 180,
        "start_time": "2023-02-25T16:03:17.517Z"
      },
      {
        "duration": 164,
        "start_time": "2023-02-25T16:03:17.699Z"
      },
      {
        "duration": 227,
        "start_time": "2023-02-25T16:03:17.864Z"
      },
      {
        "duration": 78,
        "start_time": "2023-02-25T16:03:18.093Z"
      },
      {
        "duration": 432,
        "start_time": "2023-02-25T16:03:18.173Z"
      },
      {
        "duration": 631,
        "start_time": "2023-02-25T16:03:18.607Z"
      },
      {
        "duration": 55,
        "start_time": "2023-02-25T16:03:19.240Z"
      },
      {
        "duration": 108,
        "start_time": "2023-02-25T16:03:19.297Z"
      },
      {
        "duration": 257,
        "start_time": "2023-02-25T16:03:19.407Z"
      },
      {
        "duration": 998,
        "start_time": "2023-02-25T16:03:19.665Z"
      },
      {
        "duration": 707,
        "start_time": "2023-02-25T18:31:03.738Z"
      },
      {
        "duration": 1015,
        "start_time": "2023-02-25T18:31:04.447Z"
      },
      {
        "duration": 23,
        "start_time": "2023-02-25T18:31:05.465Z"
      },
      {
        "duration": 141,
        "start_time": "2023-02-25T18:31:05.491Z"
      },
      {
        "duration": 102,
        "start_time": "2023-02-25T18:31:05.633Z"
      },
      {
        "duration": 169,
        "start_time": "2023-02-25T18:31:05.737Z"
      },
      {
        "duration": 58,
        "start_time": "2023-02-25T18:31:05.908Z"
      },
      {
        "duration": 418,
        "start_time": "2023-02-25T18:31:05.968Z"
      },
      {
        "duration": 537,
        "start_time": "2023-02-25T18:31:06.388Z"
      },
      {
        "duration": 40,
        "start_time": "2023-02-25T18:31:06.927Z"
      },
      {
        "duration": 106,
        "start_time": "2023-02-25T18:31:06.969Z"
      },
      {
        "duration": 219,
        "start_time": "2023-02-25T18:31:07.085Z"
      },
      {
        "duration": 968,
        "start_time": "2023-02-25T18:31:07.305Z"
      },
      {
        "duration": 622,
        "start_time": "2023-02-25T18:35:39.786Z"
      },
      {
        "duration": 697,
        "start_time": "2023-02-25T18:35:40.410Z"
      },
      {
        "duration": 15,
        "start_time": "2023-02-25T18:35:41.109Z"
      },
      {
        "duration": 111,
        "start_time": "2023-02-25T18:35:41.125Z"
      },
      {
        "duration": 94,
        "start_time": "2023-02-25T18:35:41.237Z"
      },
      {
        "duration": 162,
        "start_time": "2023-02-25T18:35:41.332Z"
      },
      {
        "duration": 57,
        "start_time": "2023-02-25T18:35:41.495Z"
      },
      {
        "duration": 432,
        "start_time": "2023-02-25T18:35:41.554Z"
      },
      {
        "duration": 540,
        "start_time": "2023-02-25T18:35:41.987Z"
      },
      {
        "duration": 38,
        "start_time": "2023-02-25T18:35:42.530Z"
      },
      {
        "duration": 97,
        "start_time": "2023-02-25T18:35:42.569Z"
      },
      {
        "duration": 112,
        "start_time": "2023-02-25T18:35:42.668Z"
      },
      {
        "duration": 78,
        "start_time": "2023-02-25T18:35:42.782Z"
      },
      {
        "duration": 853,
        "start_time": "2023-02-25T18:35:42.862Z"
      },
      {
        "duration": 71,
        "start_time": "2023-02-25T18:36:33.586Z"
      },
      {
        "duration": 611,
        "start_time": "2023-02-25T18:37:43.777Z"
      },
      {
        "duration": 735,
        "start_time": "2023-02-25T18:37:44.389Z"
      },
      {
        "duration": 22,
        "start_time": "2023-02-25T18:37:45.125Z"
      },
      {
        "duration": 109,
        "start_time": "2023-02-25T18:37:45.149Z"
      },
      {
        "duration": 99,
        "start_time": "2023-02-25T18:37:45.260Z"
      },
      {
        "duration": 157,
        "start_time": "2023-02-25T18:37:45.361Z"
      },
      {
        "duration": 81,
        "start_time": "2023-02-25T18:37:45.519Z"
      },
      {
        "duration": 442,
        "start_time": "2023-02-25T18:37:45.602Z"
      },
      {
        "duration": 540,
        "start_time": "2023-02-25T18:37:46.046Z"
      },
      {
        "duration": 38,
        "start_time": "2023-02-25T18:37:46.588Z"
      },
      {
        "duration": 105,
        "start_time": "2023-02-25T18:37:46.627Z"
      },
      {
        "duration": 108,
        "start_time": "2023-02-25T18:37:46.733Z"
      },
      {
        "duration": 100,
        "start_time": "2023-02-25T18:37:46.843Z"
      },
      {
        "duration": 821,
        "start_time": "2023-02-25T18:37:46.945Z"
      },
      {
        "duration": 130,
        "start_time": "2023-02-25T18:41:50.727Z"
      },
      {
        "duration": 838,
        "start_time": "2023-02-25T18:43:49.017Z"
      },
      {
        "duration": 183,
        "start_time": "2023-02-25T18:47:09.616Z"
      },
      {
        "duration": 14,
        "start_time": "2023-02-25T18:50:37.754Z"
      },
      {
        "duration": 19,
        "start_time": "2023-02-25T18:52:31.353Z"
      },
      {
        "duration": 52,
        "start_time": "2023-02-26T07:39:58.049Z"
      },
      {
        "duration": 901,
        "start_time": "2023-02-26T07:40:05.006Z"
      },
      {
        "duration": 1209,
        "start_time": "2023-02-26T07:40:05.909Z"
      },
      {
        "duration": 20,
        "start_time": "2023-02-26T07:40:07.119Z"
      },
      {
        "duration": 119,
        "start_time": "2023-02-26T07:40:07.142Z"
      },
      {
        "duration": 110,
        "start_time": "2023-02-26T07:40:07.264Z"
      },
      {
        "duration": 166,
        "start_time": "2023-02-26T07:40:07.376Z"
      },
      {
        "duration": 68,
        "start_time": "2023-02-26T07:40:07.545Z"
      },
      {
        "duration": 509,
        "start_time": "2023-02-26T07:40:07.614Z"
      },
      {
        "duration": 627,
        "start_time": "2023-02-26T07:40:08.126Z"
      },
      {
        "duration": 41,
        "start_time": "2023-02-26T07:40:08.755Z"
      },
      {
        "duration": 118,
        "start_time": "2023-02-26T07:40:08.798Z"
      },
      {
        "duration": 131,
        "start_time": "2023-02-26T07:40:08.918Z"
      },
      {
        "duration": 117,
        "start_time": "2023-02-26T07:40:09.051Z"
      },
      {
        "duration": 1057,
        "start_time": "2023-02-26T07:40:09.170Z"
      },
      {
        "duration": 258,
        "start_time": "2023-02-26T07:40:10.229Z"
      },
      {
        "duration": 39,
        "start_time": "2023-02-26T07:40:10.489Z"
      },
      {
        "duration": 477,
        "start_time": "2023-02-26T07:40:10.530Z"
      },
      {
        "duration": 441,
        "start_time": "2023-02-26T07:40:23.925Z"
      },
      {
        "duration": 454,
        "start_time": "2023-02-26T07:40:47.007Z"
      },
      {
        "duration": 527,
        "start_time": "2023-02-26T07:40:52.606Z"
      },
      {
        "duration": 49,
        "start_time": "2023-02-26T07:42:38.775Z"
      },
      {
        "duration": 66,
        "start_time": "2023-02-26T07:45:03.244Z"
      },
      {
        "duration": 879,
        "start_time": "2023-02-26T08:04:46.940Z"
      },
      {
        "duration": 62,
        "start_time": "2023-02-26T08:06:02.102Z"
      },
      {
        "duration": 20,
        "start_time": "2023-02-26T08:07:05.981Z"
      },
      {
        "duration": 23,
        "start_time": "2023-02-26T08:07:31.905Z"
      },
      {
        "duration": 30,
        "start_time": "2023-02-26T08:08:16.861Z"
      },
      {
        "duration": 131,
        "start_time": "2023-02-26T08:18:36.940Z"
      },
      {
        "duration": 22,
        "start_time": "2023-02-26T09:12:09.139Z"
      },
      {
        "duration": 77,
        "start_time": "2023-02-26T09:12:25.948Z"
      },
      {
        "duration": 823,
        "start_time": "2023-02-26T09:12:42.079Z"
      },
      {
        "duration": 841,
        "start_time": "2023-02-26T09:12:42.904Z"
      },
      {
        "duration": 17,
        "start_time": "2023-02-26T09:12:43.747Z"
      },
      {
        "duration": 122,
        "start_time": "2023-02-26T09:12:43.766Z"
      },
      {
        "duration": 146,
        "start_time": "2023-02-26T09:12:43.891Z"
      },
      {
        "duration": 149,
        "start_time": "2023-02-26T09:12:44.039Z"
      },
      {
        "duration": 91,
        "start_time": "2023-02-26T09:12:44.190Z"
      },
      {
        "duration": 503,
        "start_time": "2023-02-26T09:12:44.283Z"
      },
      {
        "duration": 625,
        "start_time": "2023-02-26T09:12:44.788Z"
      },
      {
        "duration": 43,
        "start_time": "2023-02-26T09:12:45.414Z"
      },
      {
        "duration": 117,
        "start_time": "2023-02-26T09:12:45.459Z"
      },
      {
        "duration": 119,
        "start_time": "2023-02-26T09:12:45.578Z"
      },
      {
        "duration": 117,
        "start_time": "2023-02-26T09:12:45.699Z"
      },
      {
        "duration": 1017,
        "start_time": "2023-02-26T09:12:45.819Z"
      },
      {
        "duration": 212,
        "start_time": "2023-02-26T09:12:46.838Z"
      },
      {
        "duration": 40,
        "start_time": "2023-02-26T09:12:47.052Z"
      },
      {
        "duration": 122,
        "start_time": "2023-02-26T09:12:47.094Z"
      },
      {
        "duration": 65,
        "start_time": "2023-02-26T09:12:47.218Z"
      },
      {
        "duration": 120,
        "start_time": "2023-02-26T09:12:47.285Z"
      },
      {
        "duration": 68,
        "start_time": "2023-02-26T09:12:47.407Z"
      },
      {
        "duration": 50,
        "start_time": "2023-02-26T09:13:08.708Z"
      },
      {
        "duration": 126,
        "start_time": "2023-02-26T09:18:56.168Z"
      },
      {
        "duration": 21,
        "start_time": "2023-02-26T09:19:09.157Z"
      },
      {
        "duration": 9,
        "start_time": "2023-02-26T09:36:31.674Z"
      },
      {
        "duration": 747,
        "start_time": "2023-02-26T09:36:37.594Z"
      },
      {
        "duration": 341,
        "start_time": "2023-02-26T09:36:43.354Z"
      },
      {
        "duration": 367,
        "start_time": "2023-02-26T09:36:53.824Z"
      },
      {
        "duration": 1360,
        "start_time": "2023-02-26T09:37:25.835Z"
      },
      {
        "duration": 800,
        "start_time": "2023-02-26T09:37:27.197Z"
      },
      {
        "duration": 31,
        "start_time": "2023-02-26T09:37:28.000Z"
      },
      {
        "duration": 142,
        "start_time": "2023-02-26T09:37:28.033Z"
      },
      {
        "duration": 115,
        "start_time": "2023-02-26T09:37:28.178Z"
      },
      {
        "duration": 163,
        "start_time": "2023-02-26T09:37:28.295Z"
      },
      {
        "duration": 70,
        "start_time": "2023-02-26T09:37:28.460Z"
      },
      {
        "duration": 464,
        "start_time": "2023-02-26T09:37:28.532Z"
      },
      {
        "duration": 617,
        "start_time": "2023-02-26T09:37:28.998Z"
      },
      {
        "duration": 39,
        "start_time": "2023-02-26T09:37:29.617Z"
      },
      {
        "duration": 114,
        "start_time": "2023-02-26T09:37:29.658Z"
      },
      {
        "duration": 112,
        "start_time": "2023-02-26T09:37:29.774Z"
      },
      {
        "duration": 104,
        "start_time": "2023-02-26T09:37:29.888Z"
      },
      {
        "duration": 1033,
        "start_time": "2023-02-26T09:37:29.994Z"
      },
      {
        "duration": 201,
        "start_time": "2023-02-26T09:37:31.029Z"
      },
      {
        "duration": 30,
        "start_time": "2023-02-26T09:37:31.232Z"
      },
      {
        "duration": 67,
        "start_time": "2023-02-26T09:37:31.264Z"
      },
      {
        "duration": 60,
        "start_time": "2023-02-26T09:37:31.332Z"
      },
      {
        "duration": 120,
        "start_time": "2023-02-26T09:37:31.393Z"
      },
      {
        "duration": 64,
        "start_time": "2023-02-26T09:37:31.515Z"
      },
      {
        "duration": 23,
        "start_time": "2023-02-26T09:37:31.580Z"
      },
      {
        "duration": 416,
        "start_time": "2023-02-26T09:37:31.605Z"
      },
      {
        "duration": 75,
        "start_time": "2023-02-26T09:37:32.023Z"
      },
      {
        "duration": 1366,
        "start_time": "2023-02-26T09:45:17.143Z"
      },
      {
        "duration": 798,
        "start_time": "2023-02-26T09:45:18.511Z"
      },
      {
        "duration": 23,
        "start_time": "2023-02-26T09:45:19.311Z"
      },
      {
        "duration": 125,
        "start_time": "2023-02-26T09:45:19.336Z"
      },
      {
        "duration": 118,
        "start_time": "2023-02-26T09:45:19.464Z"
      },
      {
        "duration": 160,
        "start_time": "2023-02-26T09:45:19.584Z"
      },
      {
        "duration": 62,
        "start_time": "2023-02-26T09:45:19.746Z"
      },
      {
        "duration": 505,
        "start_time": "2023-02-26T09:45:19.810Z"
      },
      {
        "duration": 688,
        "start_time": "2023-02-26T09:45:20.317Z"
      },
      {
        "duration": 61,
        "start_time": "2023-02-26T09:45:21.008Z"
      },
      {
        "duration": 117,
        "start_time": "2023-02-26T09:45:21.071Z"
      },
      {
        "duration": 125,
        "start_time": "2023-02-26T09:45:21.190Z"
      },
      {
        "duration": 115,
        "start_time": "2023-02-26T09:45:21.317Z"
      },
      {
        "duration": 1018,
        "start_time": "2023-02-26T09:45:21.433Z"
      },
      {
        "duration": 219,
        "start_time": "2023-02-26T09:45:22.452Z"
      },
      {
        "duration": 38,
        "start_time": "2023-02-26T09:45:22.673Z"
      },
      {
        "duration": 58,
        "start_time": "2023-02-26T09:45:22.713Z"
      },
      {
        "duration": 68,
        "start_time": "2023-02-26T09:45:22.773Z"
      },
      {
        "duration": 110,
        "start_time": "2023-02-26T09:45:22.843Z"
      },
      {
        "duration": 88,
        "start_time": "2023-02-26T09:45:22.955Z"
      },
      {
        "duration": 30,
        "start_time": "2023-02-26T09:45:23.045Z"
      },
      {
        "duration": 127,
        "start_time": "2023-02-26T09:45:23.077Z"
      },
      {
        "duration": 0,
        "start_time": "2023-02-26T09:45:23.206Z"
      },
      {
        "duration": 0,
        "start_time": "2023-02-26T09:45:23.208Z"
      },
      {
        "duration": 39,
        "start_time": "2023-02-26T09:45:48.313Z"
      },
      {
        "duration": 67,
        "start_time": "2023-02-26T09:45:55.904Z"
      },
      {
        "duration": 440,
        "start_time": "2023-02-26T09:45:56.583Z"
      },
      {
        "duration": 18,
        "start_time": "2023-02-26T09:45:57.173Z"
      },
      {
        "duration": 1397,
        "start_time": "2023-02-26T09:54:27.135Z"
      },
      {
        "duration": 860,
        "start_time": "2023-02-26T09:54:28.535Z"
      },
      {
        "duration": 18,
        "start_time": "2023-02-26T09:54:29.397Z"
      },
      {
        "duration": 124,
        "start_time": "2023-02-26T09:54:29.427Z"
      },
      {
        "duration": 114,
        "start_time": "2023-02-26T09:54:29.553Z"
      },
      {
        "duration": 162,
        "start_time": "2023-02-26T09:54:29.669Z"
      },
      {
        "duration": 68,
        "start_time": "2023-02-26T09:54:29.833Z"
      },
      {
        "duration": 538,
        "start_time": "2023-02-26T09:54:29.904Z"
      },
      {
        "duration": 731,
        "start_time": "2023-02-26T09:54:30.444Z"
      },
      {
        "duration": 54,
        "start_time": "2023-02-26T09:54:31.179Z"
      },
      {
        "duration": 115,
        "start_time": "2023-02-26T09:54:31.236Z"
      },
      {
        "duration": 122,
        "start_time": "2023-02-26T09:54:31.353Z"
      },
      {
        "duration": 132,
        "start_time": "2023-02-26T09:54:31.477Z"
      },
      {
        "duration": 1005,
        "start_time": "2023-02-26T09:54:31.611Z"
      },
      {
        "duration": 222,
        "start_time": "2023-02-26T09:54:32.618Z"
      },
      {
        "duration": 30,
        "start_time": "2023-02-26T09:54:32.842Z"
      },
      {
        "duration": 83,
        "start_time": "2023-02-26T09:54:32.874Z"
      },
      {
        "duration": 59,
        "start_time": "2023-02-26T09:54:32.958Z"
      },
      {
        "duration": 128,
        "start_time": "2023-02-26T09:54:33.018Z"
      },
      {
        "duration": 55,
        "start_time": "2023-02-26T09:54:33.148Z"
      },
      {
        "duration": 33,
        "start_time": "2023-02-26T09:54:33.205Z"
      },
      {
        "duration": 50,
        "start_time": "2023-02-26T09:54:33.240Z"
      },
      {
        "duration": 12,
        "start_time": "2023-02-26T09:54:33.292Z"
      },
      {
        "duration": 536,
        "start_time": "2023-02-26T09:54:33.328Z"
      },
      {
        "duration": 0,
        "start_time": "2023-02-26T09:54:33.866Z"
      },
      {
        "duration": 26,
        "start_time": "2023-02-26T09:56:20.258Z"
      },
      {
        "duration": 1388,
        "start_time": "2023-02-26T09:56:26.667Z"
      },
      {
        "duration": 812,
        "start_time": "2023-02-26T09:56:28.057Z"
      },
      {
        "duration": 19,
        "start_time": "2023-02-26T09:56:28.871Z"
      },
      {
        "duration": 156,
        "start_time": "2023-02-26T09:56:28.894Z"
      },
      {
        "duration": 128,
        "start_time": "2023-02-26T09:56:29.052Z"
      },
      {
        "duration": 164,
        "start_time": "2023-02-26T09:56:29.182Z"
      },
      {
        "duration": 87,
        "start_time": "2023-02-26T09:56:29.347Z"
      },
      {
        "duration": 492,
        "start_time": "2023-02-26T09:56:29.437Z"
      },
      {
        "duration": 684,
        "start_time": "2023-02-26T09:56:29.931Z"
      },
      {
        "duration": 80,
        "start_time": "2023-02-26T09:56:30.618Z"
      },
      {
        "duration": 115,
        "start_time": "2023-02-26T09:56:30.700Z"
      },
      {
        "duration": 129,
        "start_time": "2023-02-26T09:56:30.818Z"
      },
      {
        "duration": 108,
        "start_time": "2023-02-26T09:56:30.949Z"
      },
      {
        "duration": 1027,
        "start_time": "2023-02-26T09:56:31.058Z"
      },
      {
        "duration": 280,
        "start_time": "2023-02-26T09:56:32.088Z"
      },
      {
        "duration": 29,
        "start_time": "2023-02-26T09:56:32.370Z"
      },
      {
        "duration": 65,
        "start_time": "2023-02-26T09:56:32.401Z"
      },
      {
        "duration": 68,
        "start_time": "2023-02-26T09:56:32.469Z"
      },
      {
        "duration": 130,
        "start_time": "2023-02-26T09:56:32.539Z"
      },
      {
        "duration": 70,
        "start_time": "2023-02-26T09:56:32.671Z"
      },
      {
        "duration": 26,
        "start_time": "2023-02-26T09:56:32.743Z"
      },
      {
        "duration": 80,
        "start_time": "2023-02-26T09:56:32.771Z"
      },
      {
        "duration": 12,
        "start_time": "2023-02-26T09:56:32.853Z"
      },
      {
        "duration": 422,
        "start_time": "2023-02-26T09:56:32.867Z"
      },
      {
        "duration": 12,
        "start_time": "2023-02-26T09:56:33.290Z"
      },
      {
        "duration": 1453,
        "start_time": "2023-02-26T10:01:56.588Z"
      },
      {
        "duration": 860,
        "start_time": "2023-02-26T10:01:58.044Z"
      },
      {
        "duration": 23,
        "start_time": "2023-02-26T10:01:58.906Z"
      },
      {
        "duration": 136,
        "start_time": "2023-02-26T10:01:58.932Z"
      },
      {
        "duration": 124,
        "start_time": "2023-02-26T10:01:59.070Z"
      },
      {
        "duration": 206,
        "start_time": "2023-02-26T10:01:59.196Z"
      },
      {
        "duration": 81,
        "start_time": "2023-02-26T10:01:59.404Z"
      },
      {
        "duration": 531,
        "start_time": "2023-02-26T10:01:59.488Z"
      },
      {
        "duration": 837,
        "start_time": "2023-02-26T10:02:00.024Z"
      },
      {
        "duration": 79,
        "start_time": "2023-02-26T10:02:00.864Z"
      },
      {
        "duration": 144,
        "start_time": "2023-02-26T10:02:00.945Z"
      },
      {
        "duration": 142,
        "start_time": "2023-02-26T10:02:01.092Z"
      },
      {
        "duration": 132,
        "start_time": "2023-02-26T10:02:01.237Z"
      },
      {
        "duration": 1097,
        "start_time": "2023-02-26T10:02:01.371Z"
      },
      {
        "duration": 254,
        "start_time": "2023-02-26T10:02:02.470Z"
      },
      {
        "duration": 34,
        "start_time": "2023-02-26T10:02:02.726Z"
      },
      {
        "duration": 70,
        "start_time": "2023-02-26T10:02:02.762Z"
      },
      {
        "duration": 58,
        "start_time": "2023-02-26T10:02:02.834Z"
      },
      {
        "duration": 138,
        "start_time": "2023-02-26T10:02:02.894Z"
      },
      {
        "duration": 57,
        "start_time": "2023-02-26T10:02:03.034Z"
      },
      {
        "duration": 38,
        "start_time": "2023-02-26T10:02:03.094Z"
      },
      {
        "duration": 71,
        "start_time": "2023-02-26T10:02:03.134Z"
      },
      {
        "duration": 25,
        "start_time": "2023-02-26T10:02:03.207Z"
      },
      {
        "duration": 471,
        "start_time": "2023-02-26T10:02:03.234Z"
      },
      {
        "duration": 24,
        "start_time": "2023-02-26T10:02:03.707Z"
      },
      {
        "duration": 1402,
        "start_time": "2023-02-26T10:07:34.699Z"
      },
      {
        "duration": 937,
        "start_time": "2023-02-26T10:07:36.103Z"
      },
      {
        "duration": 17,
        "start_time": "2023-02-26T10:07:37.044Z"
      },
      {
        "duration": 130,
        "start_time": "2023-02-26T10:07:37.063Z"
      },
      {
        "duration": 136,
        "start_time": "2023-02-26T10:07:37.196Z"
      },
      {
        "duration": 281,
        "start_time": "2023-02-26T10:07:37.334Z"
      },
      {
        "duration": 88,
        "start_time": "2023-02-26T10:07:37.617Z"
      },
      {
        "duration": 532,
        "start_time": "2023-02-26T10:07:37.707Z"
      },
      {
        "duration": 747,
        "start_time": "2023-02-26T10:07:38.241Z"
      },
      {
        "duration": 49,
        "start_time": "2023-02-26T10:07:38.990Z"
      },
      {
        "duration": 115,
        "start_time": "2023-02-26T10:07:39.055Z"
      },
      {
        "duration": 134,
        "start_time": "2023-02-26T10:07:39.172Z"
      },
      {
        "duration": 129,
        "start_time": "2023-02-26T10:07:39.308Z"
      },
      {
        "duration": 1318,
        "start_time": "2023-02-26T10:07:39.440Z"
      },
      {
        "duration": 244,
        "start_time": "2023-02-26T10:07:40.760Z"
      },
      {
        "duration": 55,
        "start_time": "2023-02-26T10:07:41.007Z"
      },
      {
        "duration": 65,
        "start_time": "2023-02-26T10:07:41.065Z"
      },
      {
        "duration": 63,
        "start_time": "2023-02-26T10:07:41.131Z"
      },
      {
        "duration": 182,
        "start_time": "2023-02-26T10:07:41.196Z"
      },
      {
        "duration": 77,
        "start_time": "2023-02-26T10:07:41.380Z"
      },
      {
        "duration": 31,
        "start_time": "2023-02-26T10:07:41.459Z"
      },
      {
        "duration": 176,
        "start_time": "2023-02-26T10:07:41.492Z"
      },
      {
        "duration": 16,
        "start_time": "2023-02-26T10:07:41.671Z"
      },
      {
        "duration": 505,
        "start_time": "2023-02-26T10:07:41.689Z"
      },
      {
        "duration": 12,
        "start_time": "2023-02-26T10:07:42.196Z"
      },
      {
        "duration": 174,
        "start_time": "2023-02-26T10:12:17.948Z"
      },
      {
        "duration": 17,
        "start_time": "2023-02-26T10:12:24.899Z"
      },
      {
        "duration": 1350,
        "start_time": "2023-02-26T10:13:02.879Z"
      },
      {
        "duration": 922,
        "start_time": "2023-02-26T10:13:04.232Z"
      },
      {
        "duration": 19,
        "start_time": "2023-02-26T10:13:05.156Z"
      },
      {
        "duration": 146,
        "start_time": "2023-02-26T10:13:05.177Z"
      },
      {
        "duration": 127,
        "start_time": "2023-02-26T10:13:05.328Z"
      },
      {
        "duration": 172,
        "start_time": "2023-02-26T10:13:05.457Z"
      },
      {
        "duration": 111,
        "start_time": "2023-02-26T10:13:05.631Z"
      },
      {
        "duration": 578,
        "start_time": "2023-02-26T10:13:05.744Z"
      },
      {
        "duration": 718,
        "start_time": "2023-02-26T10:13:06.331Z"
      },
      {
        "duration": 62,
        "start_time": "2023-02-26T10:13:07.052Z"
      },
      {
        "duration": 138,
        "start_time": "2023-02-26T10:13:07.128Z"
      },
      {
        "duration": 158,
        "start_time": "2023-02-26T10:13:07.269Z"
      },
      {
        "duration": 125,
        "start_time": "2023-02-26T10:13:07.430Z"
      },
      {
        "duration": 1123,
        "start_time": "2023-02-26T10:13:07.558Z"
      },
      {
        "duration": 256,
        "start_time": "2023-02-26T10:13:08.684Z"
      },
      {
        "duration": 36,
        "start_time": "2023-02-26T10:13:08.942Z"
      },
      {
        "duration": 111,
        "start_time": "2023-02-26T10:13:08.981Z"
      },
      {
        "duration": 73,
        "start_time": "2023-02-26T10:13:09.095Z"
      },
      {
        "duration": 172,
        "start_time": "2023-02-26T10:13:09.170Z"
      },
      {
        "duration": 71,
        "start_time": "2023-02-26T10:13:09.346Z"
      },
      {
        "duration": 29,
        "start_time": "2023-02-26T10:13:09.429Z"
      },
      {
        "duration": 72,
        "start_time": "2023-02-26T10:13:09.461Z"
      },
      {
        "duration": 17,
        "start_time": "2023-02-26T10:13:09.536Z"
      },
      {
        "duration": 28,
        "start_time": "2023-02-26T10:13:09.555Z"
      },
      {
        "duration": 122,
        "start_time": "2023-02-26T10:13:46.529Z"
      },
      {
        "duration": 13,
        "start_time": "2023-02-26T10:13:51.849Z"
      },
      {
        "duration": 14,
        "start_time": "2023-02-26T10:14:10.489Z"
      },
      {
        "duration": 31,
        "start_time": "2023-02-26T10:14:29.139Z"
      },
      {
        "duration": 19,
        "start_time": "2023-02-26T10:14:35.568Z"
      },
      {
        "duration": 1412,
        "start_time": "2023-02-26T10:15:40.599Z"
      },
      {
        "duration": 817,
        "start_time": "2023-02-26T10:15:42.013Z"
      },
      {
        "duration": 17,
        "start_time": "2023-02-26T10:15:42.832Z"
      },
      {
        "duration": 117,
        "start_time": "2023-02-26T10:15:42.851Z"
      },
      {
        "duration": 108,
        "start_time": "2023-02-26T10:15:42.969Z"
      },
      {
        "duration": 166,
        "start_time": "2023-02-26T10:15:43.079Z"
      },
      {
        "duration": 64,
        "start_time": "2023-02-26T10:15:43.247Z"
      },
      {
        "duration": 484,
        "start_time": "2023-02-26T10:15:43.326Z"
      },
      {
        "duration": 611,
        "start_time": "2023-02-26T10:15:43.812Z"
      },
      {
        "duration": 43,
        "start_time": "2023-02-26T10:15:44.428Z"
      },
      {
        "duration": 111,
        "start_time": "2023-02-26T10:15:44.472Z"
      },
      {
        "duration": 130,
        "start_time": "2023-02-26T10:15:44.585Z"
      },
      {
        "duration": 117,
        "start_time": "2023-02-26T10:15:44.717Z"
      },
      {
        "duration": 952,
        "start_time": "2023-02-26T10:15:44.837Z"
      },
      {
        "duration": 227,
        "start_time": "2023-02-26T10:15:45.790Z"
      },
      {
        "duration": 32,
        "start_time": "2023-02-26T10:15:46.019Z"
      },
      {
        "duration": 75,
        "start_time": "2023-02-26T10:15:46.053Z"
      },
      {
        "duration": 56,
        "start_time": "2023-02-26T10:15:46.130Z"
      },
      {
        "duration": 103,
        "start_time": "2023-02-26T10:15:46.188Z"
      },
      {
        "duration": 70,
        "start_time": "2023-02-26T10:15:46.293Z"
      },
      {
        "duration": 33,
        "start_time": "2023-02-26T10:15:46.365Z"
      },
      {
        "duration": 71,
        "start_time": "2023-02-26T10:15:46.400Z"
      },
      {
        "duration": 11,
        "start_time": "2023-02-26T10:15:46.473Z"
      },
      {
        "duration": 20,
        "start_time": "2023-02-26T10:15:46.486Z"
      },
      {
        "duration": 444,
        "start_time": "2023-02-26T10:15:46.508Z"
      },
      {
        "duration": 10,
        "start_time": "2023-02-26T10:15:46.954Z"
      },
      {
        "duration": 1414,
        "start_time": "2023-02-26T10:17:19.169Z"
      },
      {
        "duration": 883,
        "start_time": "2023-02-26T10:17:20.584Z"
      },
      {
        "duration": 19,
        "start_time": "2023-02-26T10:17:21.469Z"
      },
      {
        "duration": 137,
        "start_time": "2023-02-26T10:17:21.490Z"
      },
      {
        "duration": 120,
        "start_time": "2023-02-26T10:17:21.629Z"
      },
      {
        "duration": 158,
        "start_time": "2023-02-26T10:17:21.751Z"
      },
      {
        "duration": 83,
        "start_time": "2023-02-26T10:17:21.910Z"
      },
      {
        "duration": 508,
        "start_time": "2023-02-26T10:17:21.995Z"
      },
      {
        "duration": 708,
        "start_time": "2023-02-26T10:17:22.506Z"
      },
      {
        "duration": 51,
        "start_time": "2023-02-26T10:17:23.217Z"
      },
      {
        "duration": 119,
        "start_time": "2023-02-26T10:17:23.270Z"
      },
      {
        "duration": 142,
        "start_time": "2023-02-26T10:17:23.390Z"
      },
      {
        "duration": 130,
        "start_time": "2023-02-26T10:17:23.533Z"
      },
      {
        "duration": 1005,
        "start_time": "2023-02-26T10:17:23.665Z"
      },
      {
        "duration": 232,
        "start_time": "2023-02-26T10:17:24.672Z"
      },
      {
        "duration": 43,
        "start_time": "2023-02-26T10:17:24.906Z"
      },
      {
        "duration": 51,
        "start_time": "2023-02-26T10:17:24.951Z"
      },
      {
        "duration": 98,
        "start_time": "2023-02-26T10:17:25.004Z"
      },
      {
        "duration": 119,
        "start_time": "2023-02-26T10:17:25.104Z"
      },
      {
        "duration": 59,
        "start_time": "2023-02-26T10:17:25.224Z"
      },
      {
        "duration": 44,
        "start_time": "2023-02-26T10:17:25.284Z"
      },
      {
        "duration": 61,
        "start_time": "2023-02-26T10:17:25.330Z"
      },
      {
        "duration": 11,
        "start_time": "2023-02-26T10:17:25.393Z"
      },
      {
        "duration": 30,
        "start_time": "2023-02-26T10:17:25.406Z"
      },
      {
        "duration": 370,
        "start_time": "2023-02-26T10:17:25.438Z"
      },
      {
        "duration": 11,
        "start_time": "2023-02-26T10:17:25.810Z"
      },
      {
        "duration": 1354,
        "start_time": "2023-02-26T10:18:26.579Z"
      },
      {
        "duration": 877,
        "start_time": "2023-02-26T10:18:27.936Z"
      },
      {
        "duration": 24,
        "start_time": "2023-02-26T10:18:28.815Z"
      },
      {
        "duration": 138,
        "start_time": "2023-02-26T10:18:28.841Z"
      },
      {
        "duration": 122,
        "start_time": "2023-02-26T10:18:28.982Z"
      },
      {
        "duration": 175,
        "start_time": "2023-02-26T10:18:29.106Z"
      },
      {
        "duration": 89,
        "start_time": "2023-02-26T10:18:29.284Z"
      },
      {
        "duration": 522,
        "start_time": "2023-02-26T10:18:29.375Z"
      },
      {
        "duration": 772,
        "start_time": "2023-02-26T10:18:29.899Z"
      },
      {
        "duration": 68,
        "start_time": "2023-02-26T10:18:30.674Z"
      },
      {
        "duration": 152,
        "start_time": "2023-02-26T10:18:30.744Z"
      },
      {
        "duration": 142,
        "start_time": "2023-02-26T10:18:30.898Z"
      },
      {
        "duration": 111,
        "start_time": "2023-02-26T10:18:31.042Z"
      },
      {
        "duration": 1187,
        "start_time": "2023-02-26T10:18:31.157Z"
      },
      {
        "duration": 223,
        "start_time": "2023-02-26T10:18:32.347Z"
      },
      {
        "duration": 33,
        "start_time": "2023-02-26T10:18:32.571Z"
      },
      {
        "duration": 84,
        "start_time": "2023-02-26T10:18:32.606Z"
      },
      {
        "duration": 99,
        "start_time": "2023-02-26T10:18:32.692Z"
      },
      {
        "duration": 124,
        "start_time": "2023-02-26T10:18:32.793Z"
      },
      {
        "duration": 63,
        "start_time": "2023-02-26T10:18:32.927Z"
      },
      {
        "duration": 45,
        "start_time": "2023-02-26T10:18:32.992Z"
      },
      {
        "duration": 67,
        "start_time": "2023-02-26T10:18:33.041Z"
      },
      {
        "duration": 11,
        "start_time": "2023-02-26T10:18:33.110Z"
      },
      {
        "duration": 27,
        "start_time": "2023-02-26T10:18:33.128Z"
      },
      {
        "duration": 327,
        "start_time": "2023-02-26T10:18:33.157Z"
      },
      {
        "duration": 20,
        "start_time": "2023-02-26T10:18:33.486Z"
      },
      {
        "duration": 169,
        "start_time": "2023-02-26T10:18:55.159Z"
      },
      {
        "duration": 1367,
        "start_time": "2023-02-26T10:19:02.670Z"
      },
      {
        "duration": 908,
        "start_time": "2023-02-26T10:19:04.040Z"
      },
      {
        "duration": 19,
        "start_time": "2023-02-26T10:19:04.950Z"
      },
      {
        "duration": 140,
        "start_time": "2023-02-26T10:19:04.972Z"
      },
      {
        "duration": 125,
        "start_time": "2023-02-26T10:19:05.114Z"
      },
      {
        "duration": 162,
        "start_time": "2023-02-26T10:19:05.241Z"
      },
      {
        "duration": 87,
        "start_time": "2023-02-26T10:19:05.404Z"
      },
      {
        "duration": 505,
        "start_time": "2023-02-26T10:19:05.493Z"
      },
      {
        "duration": 731,
        "start_time": "2023-02-26T10:19:06.000Z"
      },
      {
        "duration": 46,
        "start_time": "2023-02-26T10:19:06.734Z"
      },
      {
        "duration": 128,
        "start_time": "2023-02-26T10:19:06.782Z"
      },
      {
        "duration": 146,
        "start_time": "2023-02-26T10:19:06.912Z"
      },
      {
        "duration": 127,
        "start_time": "2023-02-26T10:19:07.061Z"
      },
      {
        "duration": 1217,
        "start_time": "2023-02-26T10:19:07.190Z"
      },
      {
        "duration": 237,
        "start_time": "2023-02-26T10:19:08.409Z"
      },
      {
        "duration": 46,
        "start_time": "2023-02-26T10:19:08.648Z"
      },
      {
        "duration": 85,
        "start_time": "2023-02-26T10:19:08.696Z"
      },
      {
        "duration": 111,
        "start_time": "2023-02-26T10:19:08.783Z"
      },
      {
        "duration": 133,
        "start_time": "2023-02-26T10:19:08.896Z"
      },
      {
        "duration": 110,
        "start_time": "2023-02-26T10:19:09.031Z"
      },
      {
        "duration": 26,
        "start_time": "2023-02-26T10:19:09.143Z"
      },
      {
        "duration": 67,
        "start_time": "2023-02-26T10:19:09.174Z"
      },
      {
        "duration": 16,
        "start_time": "2023-02-26T10:19:09.243Z"
      },
      {
        "duration": 26,
        "start_time": "2023-02-26T10:19:09.261Z"
      },
      {
        "duration": 361,
        "start_time": "2023-02-26T10:19:09.289Z"
      },
      {
        "duration": 18,
        "start_time": "2023-02-26T10:19:09.652Z"
      },
      {
        "duration": 1524,
        "start_time": "2023-02-26T10:34:09.816Z"
      },
      {
        "duration": 838,
        "start_time": "2023-02-26T10:34:11.346Z"
      },
      {
        "duration": 18,
        "start_time": "2023-02-26T10:34:12.186Z"
      },
      {
        "duration": 145,
        "start_time": "2023-02-26T10:34:12.206Z"
      },
      {
        "duration": 137,
        "start_time": "2023-02-26T10:34:12.354Z"
      },
      {
        "duration": 213,
        "start_time": "2023-02-26T10:34:12.494Z"
      },
      {
        "duration": 89,
        "start_time": "2023-02-26T10:34:12.709Z"
      },
      {
        "duration": 481,
        "start_time": "2023-02-26T10:34:12.800Z"
      },
      {
        "duration": 667,
        "start_time": "2023-02-26T10:34:13.283Z"
      },
      {
        "duration": 42,
        "start_time": "2023-02-26T10:34:13.952Z"
      },
      {
        "duration": 114,
        "start_time": "2023-02-26T10:34:13.995Z"
      },
      {
        "duration": 146,
        "start_time": "2023-02-26T10:34:14.111Z"
      },
      {
        "duration": 116,
        "start_time": "2023-02-26T10:34:14.259Z"
      },
      {
        "duration": 1021,
        "start_time": "2023-02-26T10:34:14.376Z"
      },
      {
        "duration": 229,
        "start_time": "2023-02-26T10:34:15.399Z"
      },
      {
        "duration": 36,
        "start_time": "2023-02-26T10:34:15.630Z"
      },
      {
        "duration": 76,
        "start_time": "2023-02-26T10:34:15.667Z"
      },
      {
        "duration": 54,
        "start_time": "2023-02-26T10:34:15.745Z"
      },
      {
        "duration": 114,
        "start_time": "2023-02-26T10:34:15.800Z"
      },
      {
        "duration": 76,
        "start_time": "2023-02-26T10:34:15.915Z"
      },
      {
        "duration": 43,
        "start_time": "2023-02-26T10:34:15.992Z"
      },
      {
        "duration": 59,
        "start_time": "2023-02-26T10:34:16.038Z"
      },
      {
        "duration": 12,
        "start_time": "2023-02-26T10:34:16.099Z"
      },
      {
        "duration": 35,
        "start_time": "2023-02-26T10:34:16.112Z"
      },
      {
        "duration": 617,
        "start_time": "2023-02-26T10:34:16.148Z"
      },
      {
        "duration": 10,
        "start_time": "2023-02-26T10:34:16.767Z"
      },
      {
        "duration": 1570,
        "start_time": "2023-02-26T10:35:03.847Z"
      },
      {
        "duration": 1368,
        "start_time": "2023-02-26T10:35:05.421Z"
      },
      {
        "duration": 20,
        "start_time": "2023-02-26T10:35:06.791Z"
      },
      {
        "duration": 173,
        "start_time": "2023-02-26T10:35:06.813Z"
      },
      {
        "duration": 155,
        "start_time": "2023-02-26T10:35:06.988Z"
      },
      {
        "duration": 195,
        "start_time": "2023-02-26T10:35:07.156Z"
      },
      {
        "duration": 86,
        "start_time": "2023-02-26T10:35:07.354Z"
      },
      {
        "duration": 560,
        "start_time": "2023-02-26T10:35:07.442Z"
      },
      {
        "duration": 1091,
        "start_time": "2023-02-26T10:35:08.008Z"
      },
      {
        "duration": 70,
        "start_time": "2023-02-26T10:35:09.101Z"
      },
      {
        "duration": 127,
        "start_time": "2023-02-26T10:35:09.173Z"
      },
      {
        "duration": 162,
        "start_time": "2023-02-26T10:35:09.302Z"
      },
      {
        "duration": 133,
        "start_time": "2023-02-26T10:35:09.467Z"
      },
      {
        "duration": 1353,
        "start_time": "2023-02-26T10:35:09.604Z"
      },
      {
        "duration": 250,
        "start_time": "2023-02-26T10:35:10.958Z"
      },
      {
        "duration": 46,
        "start_time": "2023-02-26T10:35:11.210Z"
      },
      {
        "duration": 81,
        "start_time": "2023-02-26T10:35:11.257Z"
      },
      {
        "duration": 73,
        "start_time": "2023-02-26T10:35:11.343Z"
      },
      {
        "duration": 149,
        "start_time": "2023-02-26T10:35:11.418Z"
      },
      {
        "duration": 74,
        "start_time": "2023-02-26T10:35:11.570Z"
      },
      {
        "duration": 25,
        "start_time": "2023-02-26T10:35:11.651Z"
      },
      {
        "duration": 64,
        "start_time": "2023-02-26T10:35:11.678Z"
      },
      {
        "duration": 14,
        "start_time": "2023-02-26T10:35:11.750Z"
      },
      {
        "duration": 24,
        "start_time": "2023-02-26T10:35:11.767Z"
      },
      {
        "duration": 922,
        "start_time": "2023-02-26T10:35:11.793Z"
      },
      {
        "duration": 35,
        "start_time": "2023-02-26T10:35:12.718Z"
      },
      {
        "duration": 38,
        "start_time": "2023-02-26T12:29:25.127Z"
      },
      {
        "duration": 3,
        "start_time": "2023-02-26T12:37:32.776Z"
      },
      {
        "duration": 89,
        "start_time": "2023-02-26T12:40:58.417Z"
      },
      {
        "duration": 3,
        "start_time": "2023-02-26T12:41:53.044Z"
      },
      {
        "duration": 14,
        "start_time": "2023-02-26T12:42:18.144Z"
      },
      {
        "duration": 1309,
        "start_time": "2023-02-26T14:06:58.151Z"
      },
      {
        "duration": 806,
        "start_time": "2023-02-26T14:06:59.462Z"
      },
      {
        "duration": 18,
        "start_time": "2023-02-26T14:07:00.270Z"
      },
      {
        "duration": 131,
        "start_time": "2023-02-26T14:07:00.289Z"
      },
      {
        "duration": 191,
        "start_time": "2023-02-26T14:07:00.423Z"
      },
      {
        "duration": 232,
        "start_time": "2023-02-26T14:07:00.616Z"
      },
      {
        "duration": 63,
        "start_time": "2023-02-26T14:07:00.850Z"
      },
      {
        "duration": 469,
        "start_time": "2023-02-26T14:07:00.926Z"
      },
      {
        "duration": 634,
        "start_time": "2023-02-26T14:07:01.397Z"
      },
      {
        "duration": 78,
        "start_time": "2023-02-26T14:07:02.033Z"
      },
      {
        "duration": 110,
        "start_time": "2023-02-26T14:07:02.126Z"
      },
      {
        "duration": 117,
        "start_time": "2023-02-26T14:07:02.238Z"
      },
      {
        "duration": 106,
        "start_time": "2023-02-26T14:07:02.356Z"
      },
      {
        "duration": 1033,
        "start_time": "2023-02-26T14:07:02.464Z"
      },
      {
        "duration": 228,
        "start_time": "2023-02-26T14:07:03.499Z"
      },
      {
        "duration": 28,
        "start_time": "2023-02-26T14:07:03.729Z"
      },
      {
        "duration": 71,
        "start_time": "2023-02-26T14:07:03.759Z"
      },
      {
        "duration": 61,
        "start_time": "2023-02-26T14:07:03.831Z"
      },
      {
        "duration": 110,
        "start_time": "2023-02-26T14:07:03.893Z"
      },
      {
        "duration": 67,
        "start_time": "2023-02-26T14:07:04.005Z"
      },
      {
        "duration": 19,
        "start_time": "2023-02-26T14:07:04.074Z"
      },
      {
        "duration": 57,
        "start_time": "2023-02-26T14:07:04.095Z"
      },
      {
        "duration": 10,
        "start_time": "2023-02-26T14:07:04.154Z"
      },
      {
        "duration": 5,
        "start_time": "2023-02-26T14:07:04.165Z"
      },
      {
        "duration": 191,
        "start_time": "2023-02-26T14:07:04.172Z"
      },
      {
        "duration": 78,
        "start_time": "2023-02-26T14:07:04.365Z"
      },
      {
        "duration": 1471,
        "start_time": "2023-02-26T14:07:40.359Z"
      },
      {
        "duration": 799,
        "start_time": "2023-02-26T14:07:41.831Z"
      },
      {
        "duration": 18,
        "start_time": "2023-02-26T14:07:42.632Z"
      },
      {
        "duration": 133,
        "start_time": "2023-02-26T14:07:42.652Z"
      },
      {
        "duration": 117,
        "start_time": "2023-02-26T14:07:42.787Z"
      },
      {
        "duration": 162,
        "start_time": "2023-02-26T14:07:42.905Z"
      },
      {
        "duration": 77,
        "start_time": "2023-02-26T14:07:43.069Z"
      },
      {
        "duration": 468,
        "start_time": "2023-02-26T14:07:43.148Z"
      },
      {
        "duration": 616,
        "start_time": "2023-02-26T14:07:43.617Z"
      },
      {
        "duration": 41,
        "start_time": "2023-02-26T14:07:44.236Z"
      },
      {
        "duration": 114,
        "start_time": "2023-02-26T14:07:44.278Z"
      },
      {
        "duration": 124,
        "start_time": "2023-02-26T14:07:44.394Z"
      },
      {
        "duration": 109,
        "start_time": "2023-02-26T14:07:44.520Z"
      },
      {
        "duration": 975,
        "start_time": "2023-02-26T14:07:44.630Z"
      },
      {
        "duration": 221,
        "start_time": "2023-02-26T14:07:45.606Z"
      },
      {
        "duration": 32,
        "start_time": "2023-02-26T14:07:45.829Z"
      },
      {
        "duration": 65,
        "start_time": "2023-02-26T14:07:45.863Z"
      },
      {
        "duration": 55,
        "start_time": "2023-02-26T14:07:45.929Z"
      },
      {
        "duration": 115,
        "start_time": "2023-02-26T14:07:45.985Z"
      },
      {
        "duration": 61,
        "start_time": "2023-02-26T14:07:46.102Z"
      },
      {
        "duration": 99,
        "start_time": "2023-02-26T14:07:46.165Z"
      },
      {
        "duration": 65,
        "start_time": "2023-02-26T14:07:46.266Z"
      },
      {
        "duration": 11,
        "start_time": "2023-02-26T14:07:46.333Z"
      },
      {
        "duration": 5,
        "start_time": "2023-02-26T14:07:46.346Z"
      },
      {
        "duration": 286,
        "start_time": "2023-02-26T14:07:46.352Z"
      },
      {
        "duration": 123,
        "start_time": "2023-02-26T14:07:46.639Z"
      },
      {
        "duration": 44,
        "start_time": "2023-02-26T14:08:08.548Z"
      },
      {
        "duration": 494,
        "start_time": "2023-02-26T14:11:58.756Z"
      },
      {
        "duration": 1440,
        "start_time": "2023-02-26T14:12:24.536Z"
      },
      {
        "duration": 819,
        "start_time": "2023-02-26T14:12:25.978Z"
      },
      {
        "duration": 17,
        "start_time": "2023-02-26T14:12:26.798Z"
      },
      {
        "duration": 133,
        "start_time": "2023-02-26T14:12:26.817Z"
      },
      {
        "duration": 114,
        "start_time": "2023-02-26T14:12:26.952Z"
      },
      {
        "duration": 160,
        "start_time": "2023-02-26T14:12:27.068Z"
      },
      {
        "duration": 69,
        "start_time": "2023-02-26T14:12:27.229Z"
      },
      {
        "duration": 477,
        "start_time": "2023-02-26T14:12:27.300Z"
      },
      {
        "duration": 618,
        "start_time": "2023-02-26T14:12:27.778Z"
      },
      {
        "duration": 49,
        "start_time": "2023-02-26T14:12:28.398Z"
      },
      {
        "duration": 102,
        "start_time": "2023-02-26T14:12:28.449Z"
      },
      {
        "duration": 123,
        "start_time": "2023-02-26T14:12:28.552Z"
      },
      {
        "duration": 116,
        "start_time": "2023-02-26T14:12:28.676Z"
      },
      {
        "duration": 944,
        "start_time": "2023-02-26T14:12:28.794Z"
      },
      {
        "duration": 208,
        "start_time": "2023-02-26T14:12:29.739Z"
      },
      {
        "duration": 31,
        "start_time": "2023-02-26T14:12:29.949Z"
      },
      {
        "duration": 63,
        "start_time": "2023-02-26T14:12:29.981Z"
      },
      {
        "duration": 58,
        "start_time": "2023-02-26T14:12:30.046Z"
      },
      {
        "duration": 123,
        "start_time": "2023-02-26T14:12:30.106Z"
      },
      {
        "duration": 54,
        "start_time": "2023-02-26T14:12:30.231Z"
      },
      {
        "duration": 133,
        "start_time": "2023-02-26T14:12:30.288Z"
      },
      {
        "duration": 93,
        "start_time": "2023-02-26T14:12:30.423Z"
      },
      {
        "duration": 15,
        "start_time": "2023-02-26T14:12:30.518Z"
      },
      {
        "duration": 666,
        "start_time": "2023-02-26T14:12:30.534Z"
      },
      {
        "duration": 4,
        "start_time": "2023-02-26T14:12:31.201Z"
      },
      {
        "duration": 74,
        "start_time": "2023-02-26T14:12:31.207Z"
      },
      {
        "duration": 663,
        "start_time": "2023-02-26T14:12:31.327Z"
      },
      {
        "duration": 43,
        "start_time": "2023-02-26T14:13:33.777Z"
      },
      {
        "duration": 79072,
        "start_time": "2023-02-26T14:14:01.388Z"
      },
      {
        "duration": 1468,
        "start_time": "2023-02-26T14:15:47.907Z"
      },
      {
        "duration": 815,
        "start_time": "2023-02-26T14:15:49.376Z"
      },
      {
        "duration": 17,
        "start_time": "2023-02-26T14:15:50.193Z"
      },
      {
        "duration": 161,
        "start_time": "2023-02-26T14:15:50.212Z"
      },
      {
        "duration": 135,
        "start_time": "2023-02-26T14:15:50.377Z"
      },
      {
        "duration": 164,
        "start_time": "2023-02-26T14:15:50.514Z"
      },
      {
        "duration": 73,
        "start_time": "2023-02-26T14:15:50.679Z"
      },
      {
        "duration": 454,
        "start_time": "2023-02-26T14:15:50.753Z"
      },
      {
        "duration": 603,
        "start_time": "2023-02-26T14:15:51.209Z"
      },
      {
        "duration": 54,
        "start_time": "2023-02-26T14:15:51.814Z"
      },
      {
        "duration": 111,
        "start_time": "2023-02-26T14:15:51.870Z"
      },
      {
        "duration": 128,
        "start_time": "2023-02-26T14:15:51.983Z"
      },
      {
        "duration": 115,
        "start_time": "2023-02-26T14:15:52.112Z"
      },
      {
        "duration": 950,
        "start_time": "2023-02-26T14:15:52.230Z"
      },
      {
        "duration": 209,
        "start_time": "2023-02-26T14:15:53.182Z"
      },
      {
        "duration": 39,
        "start_time": "2023-02-26T14:15:53.392Z"
      },
      {
        "duration": 48,
        "start_time": "2023-02-26T14:15:53.432Z"
      },
      {
        "duration": 67,
        "start_time": "2023-02-26T14:15:53.482Z"
      },
      {
        "duration": 105,
        "start_time": "2023-02-26T14:15:53.551Z"
      },
      {
        "duration": 54,
        "start_time": "2023-02-26T14:15:53.657Z"
      },
      {
        "duration": 116,
        "start_time": "2023-02-26T14:15:53.712Z"
      },
      {
        "duration": 48,
        "start_time": "2023-02-26T14:15:53.830Z"
      },
      {
        "duration": 12,
        "start_time": "2023-02-26T14:15:53.879Z"
      },
      {
        "duration": 636,
        "start_time": "2023-02-26T14:15:53.892Z"
      },
      {
        "duration": 109,
        "start_time": "2023-02-26T14:15:54.529Z"
      },
      {
        "duration": 192390,
        "start_time": "2023-02-26T14:15:54.728Z"
      },
      {
        "duration": 0,
        "start_time": "2023-02-26T14:19:07.120Z"
      },
      {
        "duration": 29215,
        "start_time": "2023-02-26T14:19:56.125Z"
      },
      {
        "duration": 43,
        "start_time": "2023-02-26T14:24:53.155Z"
      },
      {
        "duration": 1622,
        "start_time": "2023-02-27T15:38:35.418Z"
      },
      {
        "duration": 3472,
        "start_time": "2023-02-27T15:38:37.042Z"
      },
      {
        "duration": 17,
        "start_time": "2023-02-27T15:38:40.516Z"
      },
      {
        "duration": 124,
        "start_time": "2023-02-27T15:38:40.535Z"
      },
      {
        "duration": 131,
        "start_time": "2023-02-27T15:38:40.662Z"
      },
      {
        "duration": 172,
        "start_time": "2023-02-27T15:38:40.796Z"
      },
      {
        "duration": 83,
        "start_time": "2023-02-27T15:38:40.970Z"
      },
      {
        "duration": 541,
        "start_time": "2023-02-27T15:38:41.055Z"
      },
      {
        "duration": 683,
        "start_time": "2023-02-27T15:38:41.597Z"
      },
      {
        "duration": 57,
        "start_time": "2023-02-27T15:38:42.283Z"
      },
      {
        "duration": 106,
        "start_time": "2023-02-27T15:38:42.342Z"
      },
      {
        "duration": 162,
        "start_time": "2023-02-27T15:38:42.450Z"
      },
      {
        "duration": 128,
        "start_time": "2023-02-27T15:38:42.614Z"
      },
      {
        "duration": 949,
        "start_time": "2023-02-27T15:38:42.744Z"
      },
      {
        "duration": 229,
        "start_time": "2023-02-27T15:38:43.695Z"
      },
      {
        "duration": 42,
        "start_time": "2023-02-27T15:38:43.926Z"
      },
      {
        "duration": 52,
        "start_time": "2023-02-27T15:38:43.969Z"
      },
      {
        "duration": 59,
        "start_time": "2023-02-27T15:38:44.037Z"
      },
      {
        "duration": 203,
        "start_time": "2023-02-27T15:38:44.098Z"
      },
      {
        "duration": 60,
        "start_time": "2023-02-27T15:38:44.303Z"
      },
      {
        "duration": 27,
        "start_time": "2023-02-27T15:38:44.364Z"
      },
      {
        "duration": 86,
        "start_time": "2023-02-27T15:38:44.393Z"
      },
      {
        "duration": 10,
        "start_time": "2023-02-27T15:38:44.481Z"
      },
      {
        "duration": 701,
        "start_time": "2023-02-27T15:38:44.493Z"
      },
      {
        "duration": 56,
        "start_time": "2023-02-27T15:38:45.196Z"
      },
      {
        "duration": 85,
        "start_time": "2023-02-27T15:38:45.255Z"
      },
      {
        "duration": 175057,
        "start_time": "2023-02-27T15:38:45.342Z"
      },
      {
        "duration": 2054,
        "start_time": "2023-02-27T15:41:40.403Z"
      },
      {
        "duration": 582884,
        "start_time": "2023-02-27T15:41:42.459Z"
      },
      {
        "duration": 4339,
        "start_time": "2023-02-27T15:51:25.345Z"
      },
      {
        "duration": 12482,
        "start_time": "2023-02-27T15:55:28.665Z"
      },
      {
        "duration": 1400,
        "start_time": "2023-02-27T15:55:41.150Z"
      },
      {
        "duration": 44339,
        "start_time": "2023-02-27T16:21:47.499Z"
      },
      {
        "duration": 4557,
        "start_time": "2023-02-27T16:22:31.840Z"
      },
      {
        "duration": 199347,
        "start_time": "2023-02-27T16:29:27.950Z"
      },
      {
        "duration": 367813,
        "start_time": "2023-02-27T16:32:48.595Z"
      },
      {
        "duration": 1466,
        "start_time": "2023-02-27T16:42:46.453Z"
      },
      {
        "duration": 899,
        "start_time": "2023-02-27T16:42:47.922Z"
      },
      {
        "duration": 29,
        "start_time": "2023-02-27T16:42:48.823Z"
      },
      {
        "duration": 229,
        "start_time": "2023-02-27T16:42:48.854Z"
      },
      {
        "duration": 124,
        "start_time": "2023-02-27T16:42:49.086Z"
      },
      {
        "duration": 194,
        "start_time": "2023-02-27T16:42:49.212Z"
      },
      {
        "duration": 87,
        "start_time": "2023-02-27T16:42:49.408Z"
      },
      {
        "duration": 535,
        "start_time": "2023-02-27T16:42:49.497Z"
      },
      {
        "duration": 718,
        "start_time": "2023-02-27T16:42:50.036Z"
      },
      {
        "duration": 48,
        "start_time": "2023-02-27T16:42:50.755Z"
      },
      {
        "duration": 117,
        "start_time": "2023-02-27T16:42:50.805Z"
      },
      {
        "duration": 145,
        "start_time": "2023-02-27T16:42:50.924Z"
      },
      {
        "duration": 138,
        "start_time": "2023-02-27T16:42:51.071Z"
      },
      {
        "duration": 1010,
        "start_time": "2023-02-27T16:42:51.212Z"
      },
      {
        "duration": 306,
        "start_time": "2023-02-27T16:42:52.224Z"
      },
      {
        "duration": 36,
        "start_time": "2023-02-27T16:42:52.537Z"
      },
      {
        "duration": 68,
        "start_time": "2023-02-27T16:42:52.575Z"
      },
      {
        "duration": 66,
        "start_time": "2023-02-27T16:42:52.645Z"
      },
      {
        "duration": 141,
        "start_time": "2023-02-27T16:42:52.713Z"
      },
      {
        "duration": 147,
        "start_time": "2023-02-27T16:42:52.855Z"
      },
      {
        "duration": 46,
        "start_time": "2023-02-27T16:42:53.004Z"
      },
      {
        "duration": 56,
        "start_time": "2023-02-27T16:42:53.052Z"
      },
      {
        "duration": 28,
        "start_time": "2023-02-27T16:42:53.110Z"
      },
      {
        "duration": 764,
        "start_time": "2023-02-27T16:42:53.140Z"
      },
      {
        "duration": 65,
        "start_time": "2023-02-27T16:42:53.907Z"
      },
      {
        "duration": 167,
        "start_time": "2023-02-27T16:42:53.974Z"
      },
      {
        "duration": 180867,
        "start_time": "2023-02-27T16:42:54.143Z"
      },
      {
        "duration": 2108,
        "start_time": "2023-02-27T16:45:55.012Z"
      },
      {
        "duration": 472782,
        "start_time": "2023-02-27T16:45:57.122Z"
      },
      {
        "duration": 66,
        "start_time": "2023-02-27T16:53:49.906Z"
      },
      {
        "duration": 127792,
        "start_time": "2023-02-27T16:53:51.262Z"
      },
      {
        "duration": 2608,
        "start_time": "2023-02-27T16:55:59.055Z"
      },
      {
        "duration": 2474,
        "start_time": "2023-02-27T16:59:20.677Z"
      },
      {
        "duration": 9,
        "start_time": "2023-02-27T17:04:07.176Z"
      },
      {
        "duration": 10,
        "start_time": "2023-02-27T17:04:26.472Z"
      },
      {
        "duration": 14,
        "start_time": "2023-02-27T17:05:23.306Z"
      },
      {
        "duration": 10,
        "start_time": "2023-02-27T17:05:38.415Z"
      },
      {
        "duration": 16,
        "start_time": "2023-02-28T17:12:31.286Z"
      },
      {
        "duration": 4,
        "start_time": "2023-02-28T17:12:38.903Z"
      },
      {
        "duration": 4,
        "start_time": "2023-02-28T17:12:48.976Z"
      },
      {
        "duration": 50,
        "start_time": "2023-02-28T17:35:23.127Z"
      },
      {
        "duration": 4,
        "start_time": "2023-03-02T17:27:37.124Z"
      },
      {
        "duration": 3,
        "start_time": "2023-03-02T17:27:38.055Z"
      },
      {
        "duration": 1134,
        "start_time": "2023-03-02T17:27:38.907Z"
      },
      {
        "duration": 18,
        "start_time": "2023-03-02T17:27:40.043Z"
      },
      {
        "duration": 152,
        "start_time": "2023-03-02T17:27:40.062Z"
      },
      {
        "duration": 207,
        "start_time": "2023-03-02T17:27:40.488Z"
      },
      {
        "duration": 185,
        "start_time": "2023-03-02T17:27:40.718Z"
      },
      {
        "duration": 64,
        "start_time": "2023-03-02T17:27:41.214Z"
      },
      {
        "duration": 452,
        "start_time": "2023-03-02T17:27:42.186Z"
      },
      {
        "duration": 654,
        "start_time": "2023-03-02T17:27:42.644Z"
      },
      {
        "duration": 48,
        "start_time": "2023-03-02T17:27:43.729Z"
      },
      {
        "duration": 92,
        "start_time": "2023-03-02T17:27:44.534Z"
      },
      {
        "duration": 119,
        "start_time": "2023-03-02T17:27:45.878Z"
      },
      {
        "duration": 108,
        "start_time": "2023-03-02T17:27:46.894Z"
      },
      {
        "duration": 1079,
        "start_time": "2023-03-02T17:27:47.797Z"
      },
      {
        "duration": 1114,
        "start_time": "2023-03-02T17:28:08.986Z"
      },
      {
        "duration": 223,
        "start_time": "2023-03-02T17:29:19.973Z"
      },
      {
        "duration": 28,
        "start_time": "2023-03-02T17:29:21.008Z"
      },
      {
        "duration": 69,
        "start_time": "2023-03-02T17:29:23.118Z"
      },
      {
        "duration": 70,
        "start_time": "2023-03-02T17:29:23.660Z"
      },
      {
        "duration": 117,
        "start_time": "2023-03-02T17:29:28.448Z"
      },
      {
        "duration": 3,
        "start_time": "2023-03-02T17:33:16.153Z"
      },
      {
        "duration": 4,
        "start_time": "2023-03-02T17:34:46.361Z"
      },
      {
        "duration": 1334,
        "start_time": "2023-03-02T17:36:26.049Z"
      },
      {
        "duration": 863,
        "start_time": "2023-03-02T17:36:27.385Z"
      },
      {
        "duration": 18,
        "start_time": "2023-03-02T17:36:28.250Z"
      },
      {
        "duration": 140,
        "start_time": "2023-03-02T17:36:28.270Z"
      },
      {
        "duration": 135,
        "start_time": "2023-03-02T17:36:28.412Z"
      },
      {
        "duration": 175,
        "start_time": "2023-03-02T17:36:28.549Z"
      },
      {
        "duration": 72,
        "start_time": "2023-03-02T17:36:28.725Z"
      },
      {
        "duration": 478,
        "start_time": "2023-03-02T17:36:28.799Z"
      },
      {
        "duration": 632,
        "start_time": "2023-03-02T17:36:29.279Z"
      },
      {
        "duration": 52,
        "start_time": "2023-03-02T17:36:29.912Z"
      },
      {
        "duration": 107,
        "start_time": "2023-03-02T17:36:29.966Z"
      },
      {
        "duration": 127,
        "start_time": "2023-03-02T17:36:30.075Z"
      },
      {
        "duration": 119,
        "start_time": "2023-03-02T17:36:30.204Z"
      },
      {
        "duration": 1151,
        "start_time": "2023-03-02T17:36:30.326Z"
      },
      {
        "duration": 236,
        "start_time": "2023-03-02T17:36:31.479Z"
      },
      {
        "duration": 32,
        "start_time": "2023-03-02T17:36:31.717Z"
      },
      {
        "duration": 60,
        "start_time": "2023-03-02T17:36:31.751Z"
      },
      {
        "duration": 82,
        "start_time": "2023-03-02T17:36:31.813Z"
      },
      {
        "duration": 211,
        "start_time": "2023-03-02T17:36:31.896Z"
      },
      {
        "duration": 85,
        "start_time": "2023-03-02T17:36:32.108Z"
      },
      {
        "duration": 22,
        "start_time": "2023-03-02T17:36:32.194Z"
      },
      {
        "duration": 81,
        "start_time": "2023-03-02T17:36:32.219Z"
      },
      {
        "duration": 14,
        "start_time": "2023-03-02T17:36:32.302Z"
      },
      {
        "duration": 410,
        "start_time": "2023-03-02T17:36:32.318Z"
      },
      {
        "duration": 0,
        "start_time": "2023-03-02T17:36:32.730Z"
      },
      {
        "duration": 0,
        "start_time": "2023-03-02T17:36:32.731Z"
      },
      {
        "duration": 0,
        "start_time": "2023-03-02T17:36:32.733Z"
      },
      {
        "duration": 0,
        "start_time": "2023-03-02T17:36:32.734Z"
      },
      {
        "duration": 0,
        "start_time": "2023-03-02T17:36:32.745Z"
      },
      {
        "duration": 0,
        "start_time": "2023-03-02T17:36:32.747Z"
      },
      {
        "duration": 0,
        "start_time": "2023-03-02T17:36:32.749Z"
      },
      {
        "duration": 0,
        "start_time": "2023-03-02T17:36:32.751Z"
      },
      {
        "duration": 782,
        "start_time": "2023-03-02T17:37:47.574Z"
      },
      {
        "duration": 150,
        "start_time": "2023-03-02T17:37:52.306Z"
      },
      {
        "duration": 145,
        "start_time": "2023-03-02T17:38:29.168Z"
      },
      {
        "duration": 1369,
        "start_time": "2023-03-02T17:39:44.322Z"
      },
      {
        "duration": 846,
        "start_time": "2023-03-02T17:39:45.693Z"
      },
      {
        "duration": 19,
        "start_time": "2023-03-02T17:39:46.541Z"
      },
      {
        "duration": 162,
        "start_time": "2023-03-02T17:39:46.563Z"
      },
      {
        "duration": 141,
        "start_time": "2023-03-02T17:39:46.727Z"
      },
      {
        "duration": 185,
        "start_time": "2023-03-02T17:39:46.870Z"
      },
      {
        "duration": 73,
        "start_time": "2023-03-02T17:39:47.057Z"
      },
      {
        "duration": 519,
        "start_time": "2023-03-02T17:39:47.132Z"
      },
      {
        "duration": 717,
        "start_time": "2023-03-02T17:39:47.653Z"
      },
      {
        "duration": 71,
        "start_time": "2023-03-02T17:39:48.374Z"
      },
      {
        "duration": 112,
        "start_time": "2023-03-02T17:39:48.447Z"
      },
      {
        "duration": 134,
        "start_time": "2023-03-02T17:39:48.561Z"
      },
      {
        "duration": 118,
        "start_time": "2023-03-02T17:39:48.697Z"
      },
      {
        "duration": 1122,
        "start_time": "2023-03-02T17:39:48.817Z"
      },
      {
        "duration": 237,
        "start_time": "2023-03-02T17:39:49.941Z"
      },
      {
        "duration": 33,
        "start_time": "2023-03-02T17:39:50.180Z"
      },
      {
        "duration": 74,
        "start_time": "2023-03-02T17:39:50.214Z"
      },
      {
        "duration": 75,
        "start_time": "2023-03-02T17:39:50.289Z"
      },
      {
        "duration": 240,
        "start_time": "2023-03-02T17:39:50.366Z"
      },
      {
        "duration": 98,
        "start_time": "2023-03-02T17:39:50.609Z"
      },
      {
        "duration": 25,
        "start_time": "2023-03-02T17:39:50.709Z"
      },
      {
        "duration": 59,
        "start_time": "2023-03-02T17:39:50.745Z"
      },
      {
        "duration": 14,
        "start_time": "2023-03-02T17:39:50.806Z"
      },
      {
        "duration": 788,
        "start_time": "2023-03-02T17:39:50.821Z"
      },
      {
        "duration": 267,
        "start_time": "2023-03-02T17:39:51.611Z"
      },
      {
        "duration": 0,
        "start_time": "2023-03-02T17:39:51.880Z"
      },
      {
        "duration": 0,
        "start_time": "2023-03-02T17:39:51.881Z"
      },
      {
        "duration": 0,
        "start_time": "2023-03-02T17:39:51.882Z"
      },
      {
        "duration": 0,
        "start_time": "2023-03-02T17:39:51.883Z"
      },
      {
        "duration": 0,
        "start_time": "2023-03-02T17:39:51.884Z"
      },
      {
        "duration": 0,
        "start_time": "2023-03-02T17:39:51.885Z"
      },
      {
        "duration": 0,
        "start_time": "2023-03-02T17:39:51.885Z"
      },
      {
        "duration": 60,
        "start_time": "2023-03-02T17:40:30.502Z"
      },
      {
        "duration": 54,
        "start_time": "2023-03-02T17:42:18.934Z"
      },
      {
        "duration": 1520,
        "start_time": "2023-03-02T17:57:09.629Z"
      },
      {
        "duration": 872,
        "start_time": "2023-03-02T17:57:11.151Z"
      },
      {
        "duration": 28,
        "start_time": "2023-03-02T17:57:12.024Z"
      },
      {
        "duration": 161,
        "start_time": "2023-03-02T17:57:12.055Z"
      },
      {
        "duration": 170,
        "start_time": "2023-03-02T17:57:12.218Z"
      },
      {
        "duration": 195,
        "start_time": "2023-03-02T17:57:12.389Z"
      },
      {
        "duration": 90,
        "start_time": "2023-03-02T17:57:12.585Z"
      },
      {
        "duration": 522,
        "start_time": "2023-03-02T17:57:12.677Z"
      },
      {
        "duration": 733,
        "start_time": "2023-03-02T17:57:13.201Z"
      },
      {
        "duration": 65,
        "start_time": "2023-03-02T17:57:13.938Z"
      },
      {
        "duration": 116,
        "start_time": "2023-03-02T17:57:14.005Z"
      },
      {
        "duration": 137,
        "start_time": "2023-03-02T17:57:14.123Z"
      },
      {
        "duration": 126,
        "start_time": "2023-03-02T17:57:14.263Z"
      },
      {
        "duration": 1158,
        "start_time": "2023-03-02T17:57:14.391Z"
      },
      {
        "duration": 246,
        "start_time": "2023-03-02T17:57:15.550Z"
      },
      {
        "duration": 33,
        "start_time": "2023-03-02T17:57:15.798Z"
      },
      {
        "duration": 86,
        "start_time": "2023-03-02T17:57:15.833Z"
      },
      {
        "duration": 88,
        "start_time": "2023-03-02T17:57:15.921Z"
      },
      {
        "duration": 210,
        "start_time": "2023-03-02T17:57:16.011Z"
      },
      {
        "duration": 90,
        "start_time": "2023-03-02T17:57:16.222Z"
      },
      {
        "duration": 42,
        "start_time": "2023-03-02T17:57:16.313Z"
      },
      {
        "duration": 60,
        "start_time": "2023-03-02T17:57:16.358Z"
      },
      {
        "duration": 11,
        "start_time": "2023-03-02T17:57:16.419Z"
      },
      {
        "duration": 875,
        "start_time": "2023-03-02T17:57:16.445Z"
      },
      {
        "duration": 194,
        "start_time": "2023-03-02T17:57:17.322Z"
      },
      {
        "duration": 0,
        "start_time": "2023-03-02T17:57:17.518Z"
      },
      {
        "duration": 0,
        "start_time": "2023-03-02T17:57:17.520Z"
      },
      {
        "duration": 0,
        "start_time": "2023-03-02T17:57:17.521Z"
      },
      {
        "duration": 0,
        "start_time": "2023-03-02T17:57:17.523Z"
      },
      {
        "duration": 0,
        "start_time": "2023-03-02T17:57:17.524Z"
      },
      {
        "duration": 0,
        "start_time": "2023-03-02T17:57:17.525Z"
      },
      {
        "duration": 0,
        "start_time": "2023-03-02T17:57:17.527Z"
      },
      {
        "duration": 54,
        "start_time": "2023-03-02T17:57:49.684Z"
      },
      {
        "duration": 59,
        "start_time": "2023-03-02T17:57:53.491Z"
      },
      {
        "duration": 312,
        "start_time": "2023-03-02T17:58:26.985Z"
      },
      {
        "duration": 42,
        "start_time": "2023-03-02T18:15:02.927Z"
      },
      {
        "duration": 34,
        "start_time": "2023-03-02T18:23:56.041Z"
      },
      {
        "duration": 24,
        "start_time": "2023-03-02T18:24:10.507Z"
      },
      {
        "duration": 19,
        "start_time": "2023-03-02T18:25:56.800Z"
      },
      {
        "duration": 13,
        "start_time": "2023-03-02T18:26:05.039Z"
      },
      {
        "duration": 19,
        "start_time": "2023-03-02T18:27:10.164Z"
      },
      {
        "duration": 40,
        "start_time": "2023-03-02T18:27:47.802Z"
      },
      {
        "duration": 1495,
        "start_time": "2023-03-02T18:28:22.015Z"
      },
      {
        "duration": 832,
        "start_time": "2023-03-02T18:28:23.512Z"
      },
      {
        "duration": 17,
        "start_time": "2023-03-02T18:28:24.346Z"
      },
      {
        "duration": 142,
        "start_time": "2023-03-02T18:28:24.365Z"
      },
      {
        "duration": 136,
        "start_time": "2023-03-02T18:28:24.509Z"
      },
      {
        "duration": 174,
        "start_time": "2023-03-02T18:28:24.647Z"
      },
      {
        "duration": 70,
        "start_time": "2023-03-02T18:28:24.822Z"
      },
      {
        "duration": 484,
        "start_time": "2023-03-02T18:28:24.894Z"
      },
      {
        "duration": 647,
        "start_time": "2023-03-02T18:28:25.379Z"
      },
      {
        "duration": 50,
        "start_time": "2023-03-02T18:28:26.028Z"
      },
      {
        "duration": 111,
        "start_time": "2023-03-02T18:28:26.079Z"
      },
      {
        "duration": 136,
        "start_time": "2023-03-02T18:28:26.192Z"
      },
      {
        "duration": 117,
        "start_time": "2023-03-02T18:28:26.330Z"
      },
      {
        "duration": 1066,
        "start_time": "2023-03-02T18:28:26.448Z"
      },
      {
        "duration": 232,
        "start_time": "2023-03-02T18:28:27.515Z"
      },
      {
        "duration": 28,
        "start_time": "2023-03-02T18:28:27.749Z"
      },
      {
        "duration": 85,
        "start_time": "2023-03-02T18:28:27.779Z"
      },
      {
        "duration": 82,
        "start_time": "2023-03-02T18:28:27.866Z"
      },
      {
        "duration": 199,
        "start_time": "2023-03-02T18:28:27.951Z"
      },
      {
        "duration": 73,
        "start_time": "2023-03-02T18:28:28.152Z"
      },
      {
        "duration": 33,
        "start_time": "2023-03-02T18:28:28.227Z"
      },
      {
        "duration": 47,
        "start_time": "2023-03-02T18:28:28.262Z"
      },
      {
        "duration": 9,
        "start_time": "2023-03-02T18:28:28.311Z"
      },
      {
        "duration": 73,
        "start_time": "2023-03-02T18:28:28.344Z"
      },
      {
        "duration": 27,
        "start_time": "2023-03-02T18:28:28.419Z"
      },
      {
        "duration": 456,
        "start_time": "2023-03-02T18:28:28.447Z"
      },
      {
        "duration": 16040,
        "start_time": "2023-03-02T18:28:28.904Z"
      },
      {
        "duration": 262,
        "start_time": "2023-03-02T18:28:44.948Z"
      },
      {
        "duration": 96,
        "start_time": "2023-03-02T18:28:45.212Z"
      },
      {
        "duration": 55,
        "start_time": "2023-03-02T18:28:45.309Z"
      },
      {
        "duration": 72,
        "start_time": "2023-03-02T18:28:45.365Z"
      },
      {
        "duration": 54,
        "start_time": "2023-03-02T18:28:45.439Z"
      },
      {
        "duration": 10,
        "start_time": "2023-03-02T18:28:45.495Z"
      },
      {
        "duration": 456,
        "start_time": "2023-03-02T18:29:09.947Z"
      },
      {
        "duration": 743,
        "start_time": "2023-03-02T18:29:21.539Z"
      },
      {
        "duration": 14,
        "start_time": "2023-03-02T18:29:26.970Z"
      },
      {
        "duration": 1366,
        "start_time": "2023-03-02T18:30:08.751Z"
      },
      {
        "duration": 898,
        "start_time": "2023-03-02T18:30:10.118Z"
      },
      {
        "duration": 28,
        "start_time": "2023-03-02T18:30:11.018Z"
      },
      {
        "duration": 168,
        "start_time": "2023-03-02T18:30:11.048Z"
      },
      {
        "duration": 142,
        "start_time": "2023-03-02T18:30:11.217Z"
      },
      {
        "duration": 196,
        "start_time": "2023-03-02T18:30:11.361Z"
      },
      {
        "duration": 75,
        "start_time": "2023-03-02T18:30:11.558Z"
      },
      {
        "duration": 471,
        "start_time": "2023-03-02T18:30:11.645Z"
      },
      {
        "duration": 666,
        "start_time": "2023-03-02T18:30:12.118Z"
      },
      {
        "duration": 59,
        "start_time": "2023-03-02T18:30:12.787Z"
      },
      {
        "duration": 103,
        "start_time": "2023-03-02T18:30:12.847Z"
      },
      {
        "duration": 134,
        "start_time": "2023-03-02T18:30:12.951Z"
      },
      {
        "duration": 129,
        "start_time": "2023-03-02T18:30:13.087Z"
      },
      {
        "duration": 1061,
        "start_time": "2023-03-02T18:30:13.218Z"
      },
      {
        "duration": 266,
        "start_time": "2023-03-02T18:30:14.281Z"
      },
      {
        "duration": 31,
        "start_time": "2023-03-02T18:30:14.549Z"
      },
      {
        "duration": 75,
        "start_time": "2023-03-02T18:30:14.582Z"
      },
      {
        "duration": 83,
        "start_time": "2023-03-02T18:30:14.659Z"
      },
      {
        "duration": 202,
        "start_time": "2023-03-02T18:30:14.744Z"
      },
      {
        "duration": 79,
        "start_time": "2023-03-02T18:30:14.948Z"
      },
      {
        "duration": 34,
        "start_time": "2023-03-02T18:30:15.029Z"
      },
      {
        "duration": 59,
        "start_time": "2023-03-02T18:30:15.067Z"
      },
      {
        "duration": 11,
        "start_time": "2023-03-02T18:30:15.144Z"
      },
      {
        "duration": 829,
        "start_time": "2023-03-02T18:30:15.157Z"
      },
      {
        "duration": 12,
        "start_time": "2023-03-02T18:30:15.988Z"
      },
      {
        "duration": 59,
        "start_time": "2023-03-02T18:30:16.002Z"
      },
      {
        "duration": 84,
        "start_time": "2023-03-02T18:30:16.062Z"
      },
      {
        "duration": 104,
        "start_time": "2023-03-02T18:30:16.151Z"
      },
      {
        "duration": 17339,
        "start_time": "2023-03-02T18:30:16.257Z"
      },
      {
        "duration": 49,
        "start_time": "2023-03-02T18:30:33.598Z"
      },
      {
        "duration": 24917,
        "start_time": "2023-03-02T18:30:33.649Z"
      },
      {
        "duration": 2937,
        "start_time": "2023-03-02T18:30:58.646Z"
      },
      {
        "duration": 59,
        "start_time": "2023-03-02T18:31:01.585Z"
      },
      {
        "duration": 47,
        "start_time": "2023-03-02T18:40:40.886Z"
      },
      {
        "duration": 12,
        "start_time": "2023-03-02T18:40:41.464Z"
      },
      {
        "duration": 10,
        "start_time": "2023-03-02T18:41:01.901Z"
      },
      {
        "duration": 428,
        "start_time": "2023-03-02T18:41:05.156Z"
      },
      {
        "duration": 11,
        "start_time": "2023-03-02T18:41:25.007Z"
      },
      {
        "duration": 731,
        "start_time": "2023-03-02T18:41:31.843Z"
      },
      {
        "duration": 12,
        "start_time": "2023-03-02T18:41:35.962Z"
      },
      {
        "duration": 35,
        "start_time": "2023-03-02T18:42:32.132Z"
      },
      {
        "duration": 12,
        "start_time": "2023-03-02T18:42:39.498Z"
      },
      {
        "duration": 47,
        "start_time": "2023-03-02T18:42:41.943Z"
      },
      {
        "duration": 10,
        "start_time": "2023-03-02T18:42:42.370Z"
      },
      {
        "duration": 64,
        "start_time": "2023-03-02T18:47:53.094Z"
      },
      {
        "duration": 11,
        "start_time": "2023-03-02T18:47:53.392Z"
      },
      {
        "duration": 461,
        "start_time": "2023-03-02T18:47:56.143Z"
      },
      {
        "duration": 10,
        "start_time": "2023-03-02T18:48:12.126Z"
      },
      {
        "duration": 765,
        "start_time": "2023-03-02T18:48:27.724Z"
      },
      {
        "duration": 14,
        "start_time": "2023-03-02T18:48:32.309Z"
      },
      {
        "duration": 12,
        "start_time": "2023-03-02T18:48:49.757Z"
      },
      {
        "duration": 17086,
        "start_time": "2023-03-02T18:49:41.115Z"
      },
      {
        "duration": 2352,
        "start_time": "2023-03-02T18:57:28.091Z"
      },
      {
        "duration": 14,
        "start_time": "2023-03-02T18:57:30.446Z"
      },
      {
        "duration": 207491,
        "start_time": "2023-03-02T19:00:58.462Z"
      },
      {
        "duration": 2378,
        "start_time": "2023-03-02T19:05:04.687Z"
      },
      {
        "duration": 13,
        "start_time": "2023-03-02T19:05:30.937Z"
      },
      {
        "duration": 24157,
        "start_time": "2023-03-02T19:05:44.288Z"
      },
      {
        "duration": 1733,
        "start_time": "2023-03-04T10:47:22.355Z"
      },
      {
        "duration": 1243,
        "start_time": "2023-03-04T10:47:24.090Z"
      },
      {
        "duration": 27,
        "start_time": "2023-03-04T10:47:25.335Z"
      },
      {
        "duration": 176,
        "start_time": "2023-03-04T10:47:25.364Z"
      },
      {
        "duration": 159,
        "start_time": "2023-03-04T10:47:25.542Z"
      },
      {
        "duration": 198,
        "start_time": "2023-03-04T10:47:25.703Z"
      },
      {
        "duration": 94,
        "start_time": "2023-03-04T10:47:25.903Z"
      },
      {
        "duration": 528,
        "start_time": "2023-03-04T10:47:26.002Z"
      },
      {
        "duration": 758,
        "start_time": "2023-03-04T10:47:26.532Z"
      },
      {
        "duration": 72,
        "start_time": "2023-03-04T10:47:27.293Z"
      },
      {
        "duration": 110,
        "start_time": "2023-03-04T10:47:27.367Z"
      },
      {
        "duration": 140,
        "start_time": "2023-03-04T10:47:27.479Z"
      },
      {
        "duration": 133,
        "start_time": "2023-03-04T10:47:27.621Z"
      },
      {
        "duration": 1196,
        "start_time": "2023-03-04T10:47:27.757Z"
      },
      {
        "duration": 246,
        "start_time": "2023-03-04T10:47:28.955Z"
      },
      {
        "duration": 50,
        "start_time": "2023-03-04T10:47:29.203Z"
      },
      {
        "duration": 61,
        "start_time": "2023-03-04T10:47:29.256Z"
      },
      {
        "duration": 88,
        "start_time": "2023-03-04T10:47:29.319Z"
      },
      {
        "duration": 221,
        "start_time": "2023-03-04T10:47:29.408Z"
      },
      {
        "duration": 87,
        "start_time": "2023-03-04T10:47:29.630Z"
      },
      {
        "duration": 41,
        "start_time": "2023-03-04T10:47:29.719Z"
      },
      {
        "duration": 58,
        "start_time": "2023-03-04T10:47:29.761Z"
      },
      {
        "duration": 36,
        "start_time": "2023-03-04T10:47:29.820Z"
      },
      {
        "duration": 494,
        "start_time": "2023-03-04T10:47:29.858Z"
      },
      {
        "duration": 834,
        "start_time": "2023-03-04T10:47:30.354Z"
      },
      {
        "duration": 37956,
        "start_time": "2023-03-04T10:47:31.190Z"
      },
      {
        "duration": 300,
        "start_time": "2023-03-04T10:48:09.154Z"
      },
      {
        "duration": 230428,
        "start_time": "2023-03-04T10:48:09.457Z"
      },
      {
        "duration": 2593,
        "start_time": "2023-03-04T10:51:59.887Z"
      },
      {
        "duration": 92,
        "start_time": "2023-03-04T10:52:02.488Z"
      },
      {
        "duration": 60,
        "start_time": "2023-03-04T10:52:02.582Z"
      },
      {
        "duration": 12,
        "start_time": "2023-03-04T10:52:02.644Z"
      },
      {
        "duration": 454959,
        "start_time": "2023-03-04T10:58:53.391Z"
      },
      {
        "duration": 7122,
        "start_time": "2023-03-04T11:07:22.440Z"
      },
      {
        "duration": 26,
        "start_time": "2023-03-04T11:58:26.627Z"
      },
      {
        "duration": 25,
        "start_time": "2023-03-04T11:59:14.886Z"
      },
      {
        "duration": 47,
        "start_time": "2023-03-04T12:02:33.310Z"
      },
      {
        "duration": 11,
        "start_time": "2023-03-04T12:02:33.863Z"
      },
      {
        "duration": 427,
        "start_time": "2023-03-04T12:02:37.145Z"
      },
      {
        "duration": 826,
        "start_time": "2023-03-04T12:02:38.096Z"
      },
      {
        "duration": 49,
        "start_time": "2023-03-04T12:02:54.460Z"
      },
      {
        "duration": 16,
        "start_time": "2023-03-04T12:02:55.270Z"
      },
      {
        "duration": 435,
        "start_time": "2023-03-04T12:03:28.850Z"
      },
      {
        "duration": 418,
        "start_time": "2023-03-04T12:03:57.914Z"
      },
      {
        "duration": 56,
        "start_time": "2023-03-04T12:04:08.032Z"
      },
      {
        "duration": 11,
        "start_time": "2023-03-04T12:04:08.571Z"
      },
      {
        "duration": 394,
        "start_time": "2023-03-04T12:04:10.214Z"
      },
      {
        "duration": 53,
        "start_time": "2023-03-04T12:12:26.496Z"
      },
      {
        "duration": 11,
        "start_time": "2023-03-04T12:12:26.833Z"
      },
      {
        "duration": 444,
        "start_time": "2023-03-04T12:12:27.911Z"
      },
      {
        "duration": 91,
        "start_time": "2023-03-04T12:14:07.380Z"
      },
      {
        "duration": 5,
        "start_time": "2023-03-04T12:51:56.452Z"
      },
      {
        "duration": 7,
        "start_time": "2023-03-04T12:53:19.058Z"
      },
      {
        "duration": 86588,
        "start_time": "2023-03-04T12:55:24.619Z"
      },
      {
        "duration": 1673,
        "start_time": "2023-03-04T16:24:25.986Z"
      },
      {
        "duration": 181,
        "start_time": "2023-03-04T16:31:16.937Z"
      },
      {
        "duration": 10,
        "start_time": "2023-03-04T16:31:44.512Z"
      },
      {
        "duration": 11,
        "start_time": "2023-03-04T16:32:59.215Z"
      },
      {
        "duration": 18,
        "start_time": "2023-03-04T16:33:09.084Z"
      },
      {
        "duration": 1538,
        "start_time": "2023-03-04T16:33:20.290Z"
      },
      {
        "duration": 1492,
        "start_time": "2023-03-04T16:33:21.830Z"
      },
      {
        "duration": 18,
        "start_time": "2023-03-04T16:33:23.324Z"
      },
      {
        "duration": 183,
        "start_time": "2023-03-04T16:33:23.344Z"
      },
      {
        "duration": 187,
        "start_time": "2023-03-04T16:33:23.529Z"
      },
      {
        "duration": 236,
        "start_time": "2023-03-04T16:33:23.718Z"
      },
      {
        "duration": 81,
        "start_time": "2023-03-04T16:33:23.955Z"
      },
      {
        "duration": 564,
        "start_time": "2023-03-04T16:33:24.037Z"
      },
      {
        "duration": 755,
        "start_time": "2023-03-04T16:33:24.603Z"
      },
      {
        "duration": 74,
        "start_time": "2023-03-04T16:33:25.364Z"
      },
      {
        "duration": 140,
        "start_time": "2023-03-04T16:33:25.440Z"
      },
      {
        "duration": 133,
        "start_time": "2023-03-04T16:33:25.584Z"
      },
      {
        "duration": 111,
        "start_time": "2023-03-04T16:33:25.719Z"
      },
      {
        "duration": 1345,
        "start_time": "2023-03-04T16:33:25.834Z"
      },
      {
        "duration": 251,
        "start_time": "2023-03-04T16:33:27.188Z"
      },
      {
        "duration": 36,
        "start_time": "2023-03-04T16:33:27.441Z"
      },
      {
        "duration": 127,
        "start_time": "2023-03-04T16:33:27.479Z"
      },
      {
        "duration": 92,
        "start_time": "2023-03-04T16:33:27.608Z"
      },
      {
        "duration": 232,
        "start_time": "2023-03-04T16:33:27.701Z"
      },
      {
        "duration": 100,
        "start_time": "2023-03-04T16:33:27.935Z"
      },
      {
        "duration": 40,
        "start_time": "2023-03-04T16:33:28.037Z"
      },
      {
        "duration": 76,
        "start_time": "2023-03-04T16:33:28.082Z"
      },
      {
        "duration": 22,
        "start_time": "2023-03-04T16:33:28.168Z"
      },
      {
        "duration": 914,
        "start_time": "2023-03-04T16:33:28.193Z"
      },
      {
        "duration": 3,
        "start_time": "2023-03-04T16:33:29.108Z"
      },
      {
        "duration": 93563,
        "start_time": "2023-03-04T16:33:29.113Z"
      },
      {
        "duration": 401,
        "start_time": "2023-03-04T16:35:02.681Z"
      },
      {
        "duration": 1182413,
        "start_time": "2023-03-04T16:35:03.085Z"
      },
      {
        "duration": 1959,
        "start_time": "2023-03-04T16:54:45.500Z"
      },
      {
        "duration": 11,
        "start_time": "2023-03-04T16:54:47.461Z"
      },
      {
        "duration": 26,
        "start_time": "2023-03-04T16:54:47.475Z"
      },
      {
        "duration": 9,
        "start_time": "2023-03-04T16:54:51.475Z"
      },
      {
        "duration": 52039,
        "start_time": "2023-03-04T16:55:32.508Z"
      },
      {
        "duration": 14129,
        "start_time": "2023-03-04T17:25:15.032Z"
      },
      {
        "duration": 4633,
        "start_time": "2023-03-04T17:52:50.244Z"
      },
      {
        "duration": 15248,
        "start_time": "2023-03-04T17:54:28.473Z"
      },
      {
        "duration": 13924,
        "start_time": "2023-03-04T18:09:24.388Z"
      },
      {
        "duration": 13299,
        "start_time": "2023-03-04T18:09:49.020Z"
      },
      {
        "duration": 12,
        "start_time": "2023-03-04T18:18:59.159Z"
      },
      {
        "duration": 4,
        "start_time": "2023-03-04T18:19:27.738Z"
      },
      {
        "duration": 5,
        "start_time": "2023-03-04T18:19:39.396Z"
      },
      {
        "duration": 13407,
        "start_time": "2023-03-04T18:19:47.096Z"
      },
      {
        "duration": 52838,
        "start_time": "2023-03-04T18:20:26.486Z"
      },
      {
        "duration": 55311,
        "start_time": "2023-03-04T18:24:34.378Z"
      },
      {
        "duration": 5,
        "start_time": "2023-03-04T18:26:02.871Z"
      },
      {
        "duration": 675618,
        "start_time": "2023-03-04T18:26:20.711Z"
      },
      {
        "duration": 926046,
        "start_time": "2023-03-04T18:49:33.703Z"
      },
      {
        "duration": 3645,
        "start_time": "2023-03-04T20:03:46.199Z"
      },
      {
        "duration": 1542,
        "start_time": "2023-03-05T08:26:39.220Z"
      },
      {
        "duration": 977,
        "start_time": "2023-03-05T08:26:40.765Z"
      },
      {
        "duration": 16,
        "start_time": "2023-03-05T08:26:41.743Z"
      },
      {
        "duration": 124,
        "start_time": "2023-03-05T08:26:41.761Z"
      },
      {
        "duration": 108,
        "start_time": "2023-03-05T08:26:41.887Z"
      },
      {
        "duration": 149,
        "start_time": "2023-03-05T08:26:41.996Z"
      },
      {
        "duration": 56,
        "start_time": "2023-03-05T08:26:42.146Z"
      },
      {
        "duration": 442,
        "start_time": "2023-03-05T08:26:42.213Z"
      },
      {
        "duration": 583,
        "start_time": "2023-03-05T08:26:42.656Z"
      },
      {
        "duration": 46,
        "start_time": "2023-03-05T08:26:43.242Z"
      },
      {
        "duration": 105,
        "start_time": "2023-03-05T08:26:43.290Z"
      },
      {
        "duration": 121,
        "start_time": "2023-03-05T08:26:43.397Z"
      },
      {
        "duration": 103,
        "start_time": "2023-03-05T08:26:43.520Z"
      },
      {
        "duration": 935,
        "start_time": "2023-03-05T08:26:43.625Z"
      },
      {
        "duration": 198,
        "start_time": "2023-03-05T08:26:44.561Z"
      },
      {
        "duration": 25,
        "start_time": "2023-03-05T08:26:44.761Z"
      },
      {
        "duration": 58,
        "start_time": "2023-03-05T08:26:44.787Z"
      },
      {
        "duration": 53,
        "start_time": "2023-03-05T08:26:44.846Z"
      },
      {
        "duration": 185,
        "start_time": "2023-03-05T08:26:44.901Z"
      },
      {
        "duration": 70,
        "start_time": "2023-03-05T08:26:45.087Z"
      },
      {
        "duration": 20,
        "start_time": "2023-03-05T08:26:45.159Z"
      },
      {
        "duration": 65,
        "start_time": "2023-03-05T08:26:45.180Z"
      },
      {
        "duration": 11,
        "start_time": "2023-03-05T08:26:45.246Z"
      },
      {
        "duration": 670,
        "start_time": "2023-03-05T08:26:45.259Z"
      },
      {
        "duration": 3,
        "start_time": "2023-03-05T08:26:45.931Z"
      },
      {
        "duration": 10,
        "start_time": "2023-03-05T08:26:45.936Z"
      },
      {
        "duration": 815074,
        "start_time": "2023-03-05T08:26:45.948Z"
      },
      {
        "duration": 1578813,
        "start_time": "2023-03-05T08:40:21.025Z"
      },
      {
        "duration": 153,
        "start_time": "2023-03-05T09:06:39.840Z"
      },
      {
        "duration": 0,
        "start_time": "2023-03-05T09:06:39.995Z"
      },
      {
        "duration": 21,
        "start_time": "2023-03-05T09:10:01.013Z"
      },
      {
        "duration": 39,
        "start_time": "2023-03-05T09:40:53.074Z"
      },
      {
        "duration": 45,
        "start_time": "2023-03-05T09:41:04.089Z"
      },
      {
        "duration": 10,
        "start_time": "2023-03-05T09:51:13.667Z"
      },
      {
        "duration": 11,
        "start_time": "2023-03-05T10:07:14.130Z"
      },
      {
        "duration": 4988,
        "start_time": "2023-03-05T10:28:50.460Z"
      },
      {
        "duration": 4974,
        "start_time": "2023-03-05T10:29:22.864Z"
      },
      {
        "duration": 5419,
        "start_time": "2023-03-05T10:32:01.771Z"
      },
      {
        "duration": 55,
        "start_time": "2023-03-05T10:34:58.188Z"
      },
      {
        "duration": 4979,
        "start_time": "2023-03-05T11:03:39.772Z"
      },
      {
        "duration": 9,
        "start_time": "2023-03-06T08:52:49.496Z"
      },
      {
        "duration": 48,
        "start_time": "2023-03-06T08:52:55.622Z"
      },
      {
        "duration": 3,
        "start_time": "2023-03-06T08:53:00.805Z"
      },
      {
        "duration": 2,
        "start_time": "2023-03-06T08:53:01.950Z"
      },
      {
        "duration": 2176,
        "start_time": "2023-03-06T18:03:16.123Z"
      },
      {
        "duration": 4299,
        "start_time": "2023-03-06T18:03:18.308Z"
      },
      {
        "duration": 40,
        "start_time": "2023-03-06T18:03:22.618Z"
      },
      {
        "duration": 187,
        "start_time": "2023-03-06T18:03:22.663Z"
      },
      {
        "duration": 133,
        "start_time": "2023-03-06T18:03:22.854Z"
      },
      {
        "duration": 216,
        "start_time": "2023-03-06T18:03:22.988Z"
      },
      {
        "duration": 71,
        "start_time": "2023-03-06T18:03:23.207Z"
      },
      {
        "duration": 554,
        "start_time": "2023-03-06T18:03:23.282Z"
      },
      {
        "duration": 817,
        "start_time": "2023-03-06T18:03:23.838Z"
      },
      {
        "duration": 68,
        "start_time": "2023-03-06T18:03:24.662Z"
      },
      {
        "duration": 117,
        "start_time": "2023-03-06T18:03:24.733Z"
      },
      {
        "duration": 162,
        "start_time": "2023-03-06T18:03:24.852Z"
      },
      {
        "duration": 139,
        "start_time": "2023-03-06T18:03:25.018Z"
      },
      {
        "duration": 1420,
        "start_time": "2023-03-06T18:03:25.159Z"
      },
      {
        "duration": 265,
        "start_time": "2023-03-06T18:03:26.580Z"
      },
      {
        "duration": 43,
        "start_time": "2023-03-06T18:03:26.847Z"
      },
      {
        "duration": 102,
        "start_time": "2023-03-06T18:03:26.892Z"
      },
      {
        "duration": 106,
        "start_time": "2023-03-06T18:03:26.996Z"
      },
      {
        "duration": 237,
        "start_time": "2023-03-06T18:03:27.106Z"
      },
      {
        "duration": 31,
        "start_time": "2023-03-06T18:03:27.346Z"
      },
      {
        "duration": 71,
        "start_time": "2023-03-06T18:03:27.379Z"
      },
      {
        "duration": 14,
        "start_time": "2023-03-06T18:03:27.452Z"
      },
      {
        "duration": 1157,
        "start_time": "2023-03-06T18:03:27.468Z"
      },
      {
        "duration": 4,
        "start_time": "2023-03-06T18:03:28.629Z"
      },
      {
        "duration": 8,
        "start_time": "2023-03-06T18:03:28.636Z"
      },
      {
        "duration": 1215676,
        "start_time": "2023-03-06T18:03:28.646Z"
      },
      {
        "duration": 198605,
        "start_time": "2023-03-06T18:23:44.328Z"
      },
      {
        "duration": 1684,
        "start_time": "2023-03-06T18:34:52.614Z"
      },
      {
        "duration": 3535,
        "start_time": "2023-03-06T18:34:54.301Z"
      },
      {
        "duration": 17,
        "start_time": "2023-03-06T18:34:57.837Z"
      },
      {
        "duration": 134,
        "start_time": "2023-03-06T18:34:57.856Z"
      },
      {
        "duration": 123,
        "start_time": "2023-03-06T18:34:57.998Z"
      },
      {
        "duration": 200,
        "start_time": "2023-03-06T18:34:58.123Z"
      },
      {
        "duration": 74,
        "start_time": "2023-03-06T18:34:58.324Z"
      },
      {
        "duration": 516,
        "start_time": "2023-03-06T18:34:58.399Z"
      },
      {
        "duration": 720,
        "start_time": "2023-03-06T18:34:58.917Z"
      },
      {
        "duration": 73,
        "start_time": "2023-03-06T18:34:59.641Z"
      },
      {
        "duration": 122,
        "start_time": "2023-03-06T18:34:59.718Z"
      },
      {
        "duration": 152,
        "start_time": "2023-03-06T18:34:59.842Z"
      },
      {
        "duration": 132,
        "start_time": "2023-03-06T18:34:59.996Z"
      },
      {
        "duration": 1249,
        "start_time": "2023-03-06T18:35:00.129Z"
      },
      {
        "duration": 258,
        "start_time": "2023-03-06T18:35:01.390Z"
      },
      {
        "duration": 40,
        "start_time": "2023-03-06T18:35:01.650Z"
      },
      {
        "duration": 355,
        "start_time": "2023-03-06T18:35:01.692Z"
      },
      {
        "duration": 105,
        "start_time": "2023-03-06T18:35:02.049Z"
      },
      {
        "duration": 343,
        "start_time": "2023-03-06T18:35:02.158Z"
      },
      {
        "duration": 26,
        "start_time": "2023-03-06T18:35:02.504Z"
      },
      {
        "duration": 94,
        "start_time": "2023-03-06T18:35:02.532Z"
      },
      {
        "duration": 10,
        "start_time": "2023-03-06T18:35:02.627Z"
      },
      {
        "duration": 1000,
        "start_time": "2023-03-06T18:35:02.638Z"
      },
      {
        "duration": 3,
        "start_time": "2023-03-06T18:35:03.640Z"
      },
      {
        "duration": 34,
        "start_time": "2023-03-06T18:35:03.644Z"
      },
      {
        "duration": 930553,
        "start_time": "2023-03-06T18:35:03.681Z"
      },
      {
        "duration": 160411,
        "start_time": "2023-03-06T18:50:34.236Z"
      },
      {
        "duration": 4621473,
        "start_time": "2023-03-06T18:53:14.649Z"
      },
      {
        "duration": 0,
        "start_time": "2023-03-06T20:10:16.125Z"
      },
      {
        "duration": 0,
        "start_time": "2023-03-06T20:10:16.126Z"
      },
      {
        "duration": 0,
        "start_time": "2023-03-06T20:10:16.128Z"
      },
      {
        "duration": 0,
        "start_time": "2023-03-06T20:10:16.130Z"
      },
      {
        "duration": 0,
        "start_time": "2023-03-06T20:10:16.131Z"
      },
      {
        "duration": 1831,
        "start_time": "2023-03-07T07:33:22.507Z"
      },
      {
        "duration": 1340,
        "start_time": "2023-03-07T07:33:24.340Z"
      },
      {
        "duration": 23,
        "start_time": "2023-03-07T07:33:25.683Z"
      },
      {
        "duration": 176,
        "start_time": "2023-03-07T07:33:25.708Z"
      },
      {
        "duration": 189,
        "start_time": "2023-03-07T07:33:25.888Z"
      },
      {
        "duration": 246,
        "start_time": "2023-03-07T07:33:26.079Z"
      },
      {
        "duration": 85,
        "start_time": "2023-03-07T07:33:26.327Z"
      },
      {
        "duration": 613,
        "start_time": "2023-03-07T07:33:26.414Z"
      },
      {
        "duration": 765,
        "start_time": "2023-03-07T07:33:27.029Z"
      },
      {
        "duration": 52,
        "start_time": "2023-03-07T07:33:27.796Z"
      },
      {
        "duration": 147,
        "start_time": "2023-03-07T07:33:27.850Z"
      },
      {
        "duration": 128,
        "start_time": "2023-03-07T07:33:27.999Z"
      },
      {
        "duration": 125,
        "start_time": "2023-03-07T07:33:28.129Z"
      },
      {
        "duration": 1299,
        "start_time": "2023-03-07T07:33:28.257Z"
      },
      {
        "duration": 247,
        "start_time": "2023-03-07T07:33:29.557Z"
      },
      {
        "duration": 29,
        "start_time": "2023-03-07T07:33:29.806Z"
      },
      {
        "duration": 89,
        "start_time": "2023-03-07T07:33:29.836Z"
      },
      {
        "duration": 81,
        "start_time": "2023-03-07T07:33:29.927Z"
      },
      {
        "duration": 291,
        "start_time": "2023-03-07T07:33:30.010Z"
      },
      {
        "duration": 20,
        "start_time": "2023-03-07T07:33:30.303Z"
      },
      {
        "duration": 77,
        "start_time": "2023-03-07T07:33:30.326Z"
      },
      {
        "duration": 26,
        "start_time": "2023-03-07T07:33:30.405Z"
      },
      {
        "duration": 1032,
        "start_time": "2023-03-07T07:33:30.433Z"
      },
      {
        "duration": 8,
        "start_time": "2023-03-07T07:33:31.467Z"
      },
      {
        "duration": 62,
        "start_time": "2023-03-07T07:33:31.480Z"
      },
      {
        "duration": 1009225,
        "start_time": "2023-03-07T07:33:31.544Z"
      },
      {
        "duration": 151046,
        "start_time": "2023-03-07T07:50:20.773Z"
      },
      {
        "duration": 3496990,
        "start_time": "2023-03-07T07:52:51.821Z"
      },
      {
        "duration": 119882,
        "start_time": "2023-03-07T08:51:08.813Z"
      },
      {
        "duration": 160,
        "start_time": "2023-03-07T08:53:08.697Z"
      },
      {
        "duration": 0,
        "start_time": "2023-03-07T08:53:08.859Z"
      },
      {
        "duration": 0,
        "start_time": "2023-03-07T08:53:08.860Z"
      },
      {
        "duration": 0,
        "start_time": "2023-03-07T08:53:08.861Z"
      },
      {
        "duration": 40,
        "start_time": "2023-03-07T08:59:03.993Z"
      },
      {
        "duration": 10,
        "start_time": "2023-03-07T08:59:09.924Z"
      },
      {
        "duration": 14,
        "start_time": "2023-03-07T08:59:11.031Z"
      },
      {
        "duration": 4,
        "start_time": "2023-03-07T08:59:11.754Z"
      },
      {
        "duration": 12,
        "start_time": "2023-03-07T09:07:05.896Z"
      },
      {
        "duration": 11,
        "start_time": "2023-03-07T12:46:38.717Z"
      },
      {
        "duration": 17,
        "start_time": "2023-03-07T12:46:47.374Z"
      },
      {
        "duration": 1830,
        "start_time": "2023-03-07T16:08:45.588Z"
      },
      {
        "duration": 2959,
        "start_time": "2023-03-07T16:08:47.420Z"
      },
      {
        "duration": 31,
        "start_time": "2023-03-07T16:08:50.381Z"
      },
      {
        "duration": 130,
        "start_time": "2023-03-07T16:08:50.414Z"
      },
      {
        "duration": 121,
        "start_time": "2023-03-07T16:08:50.546Z"
      },
      {
        "duration": 175,
        "start_time": "2023-03-07T16:08:50.669Z"
      },
      {
        "duration": 62,
        "start_time": "2023-03-07T16:08:50.846Z"
      },
      {
        "duration": 487,
        "start_time": "2023-03-07T16:08:50.910Z"
      },
      {
        "duration": 662,
        "start_time": "2023-03-07T16:08:51.399Z"
      },
      {
        "duration": 54,
        "start_time": "2023-03-07T16:08:52.066Z"
      },
      {
        "duration": 121,
        "start_time": "2023-03-07T16:08:52.122Z"
      },
      {
        "duration": 137,
        "start_time": "2023-03-07T16:08:52.245Z"
      },
      {
        "duration": 110,
        "start_time": "2023-03-07T16:08:52.384Z"
      },
      {
        "duration": 1150,
        "start_time": "2023-03-07T16:08:52.495Z"
      },
      {
        "duration": 270,
        "start_time": "2023-03-07T16:08:53.648Z"
      },
      {
        "duration": 49,
        "start_time": "2023-03-07T16:08:53.920Z"
      },
      {
        "duration": 75,
        "start_time": "2023-03-07T16:08:53.972Z"
      },
      {
        "duration": 73,
        "start_time": "2023-03-07T16:08:54.050Z"
      },
      {
        "duration": 268,
        "start_time": "2023-03-07T16:08:54.124Z"
      },
      {
        "duration": 19,
        "start_time": "2023-03-07T16:08:54.394Z"
      },
      {
        "duration": 77,
        "start_time": "2023-03-07T16:08:54.415Z"
      },
      {
        "duration": 11,
        "start_time": "2023-03-07T16:08:54.493Z"
      },
      {
        "duration": 750,
        "start_time": "2023-03-07T16:08:54.505Z"
      },
      {
        "duration": 3,
        "start_time": "2023-03-07T16:08:55.257Z"
      },
      {
        "duration": 2,
        "start_time": "2023-03-07T16:08:55.263Z"
      },
      {
        "duration": 957380,
        "start_time": "2023-03-07T16:08:55.267Z"
      },
      {
        "duration": 146368,
        "start_time": "2023-03-07T16:24:52.650Z"
      },
      {
        "duration": 4837747,
        "start_time": "2023-03-07T16:27:19.021Z"
      },
      {
        "duration": 77271,
        "start_time": "2023-03-07T17:47:56.770Z"
      },
      {
        "duration": 38,
        "start_time": "2023-03-07T17:49:14.044Z"
      },
      {
        "duration": 9,
        "start_time": "2023-03-07T17:49:14.083Z"
      },
      {
        "duration": 231,
        "start_time": "2023-03-07T17:49:14.094Z"
      },
      {
        "duration": 0,
        "start_time": "2023-03-07T17:49:14.326Z"
      },
      {
        "duration": 15,
        "start_time": "2023-03-07T17:55:33.536Z"
      },
      {
        "duration": 105736,
        "start_time": "2023-03-07T17:55:43.313Z"
      },
      {
        "duration": 0,
        "start_time": "2023-03-07T18:12:22.008Z"
      },
      {
        "duration": 782137,
        "start_time": "2023-03-07T18:12:23.731Z"
      },
      {
        "duration": 38,
        "start_time": "2023-03-07T18:25:34.760Z"
      },
      {
        "duration": 13,
        "start_time": "2023-03-07T18:25:40.327Z"
      },
      {
        "duration": 15,
        "start_time": "2023-03-07T18:25:51.488Z"
      },
      {
        "duration": 11,
        "start_time": "2023-03-07T18:32:13.322Z"
      },
      {
        "duration": 1289396,
        "start_time": "2023-03-07T18:32:24.321Z"
      },
      {
        "duration": 311244,
        "start_time": "2023-03-07T18:53:53.719Z"
      },
      {
        "duration": 78191,
        "start_time": "2023-03-07T19:02:55.756Z"
      },
      {
        "duration": 36,
        "start_time": "2023-03-07T19:05:43.346Z"
      },
      {
        "duration": 9,
        "start_time": "2023-03-07T19:05:48.019Z"
      },
      {
        "duration": 10,
        "start_time": "2023-03-07T19:06:11.498Z"
      },
      {
        "duration": 26413,
        "start_time": "2023-03-07T19:08:37.050Z"
      },
      {
        "duration": 34296,
        "start_time": "2023-03-07T19:10:09.057Z"
      },
      {
        "duration": 2124,
        "start_time": "2023-03-08T15:38:36.421Z"
      },
      {
        "duration": 1056,
        "start_time": "2023-03-08T15:38:38.547Z"
      },
      {
        "duration": 22,
        "start_time": "2023-03-08T15:38:39.605Z"
      },
      {
        "duration": 197,
        "start_time": "2023-03-08T15:38:39.629Z"
      },
      {
        "duration": 157,
        "start_time": "2023-03-08T15:38:39.828Z"
      },
      {
        "duration": 327,
        "start_time": "2023-03-08T15:38:39.987Z"
      },
      {
        "duration": 127,
        "start_time": "2023-03-08T15:38:40.316Z"
      },
      {
        "duration": 653,
        "start_time": "2023-03-08T15:38:40.445Z"
      },
      {
        "duration": 900,
        "start_time": "2023-03-08T15:38:41.100Z"
      },
      {
        "duration": 63,
        "start_time": "2023-03-08T15:38:42.003Z"
      },
      {
        "duration": 136,
        "start_time": "2023-03-08T15:38:42.067Z"
      },
      {
        "duration": 163,
        "start_time": "2023-03-08T15:38:42.205Z"
      },
      {
        "duration": 144,
        "start_time": "2023-03-08T15:38:42.370Z"
      },
      {
        "duration": 1580,
        "start_time": "2023-03-08T15:38:42.516Z"
      },
      {
        "duration": 351,
        "start_time": "2023-03-08T15:38:44.098Z"
      },
      {
        "duration": 43,
        "start_time": "2023-03-08T15:38:44.451Z"
      },
      {
        "duration": 86,
        "start_time": "2023-03-08T15:38:44.496Z"
      },
      {
        "duration": 112,
        "start_time": "2023-03-08T15:38:44.584Z"
      },
      {
        "duration": 266,
        "start_time": "2023-03-08T15:38:44.699Z"
      },
      {
        "duration": 31,
        "start_time": "2023-03-08T15:38:44.968Z"
      },
      {
        "duration": 80,
        "start_time": "2023-03-08T15:38:45.001Z"
      },
      {
        "duration": 12,
        "start_time": "2023-03-08T15:38:45.083Z"
      },
      {
        "duration": 902,
        "start_time": "2023-03-08T15:38:45.097Z"
      },
      {
        "duration": 4,
        "start_time": "2023-03-08T15:38:46.001Z"
      },
      {
        "duration": 17,
        "start_time": "2023-03-08T15:38:46.007Z"
      },
      {
        "duration": 5,
        "start_time": "2023-03-08T15:38:46.026Z"
      },
      {
        "duration": 162559,
        "start_time": "2023-03-08T15:38:46.033Z"
      },
      {
        "duration": 4,
        "start_time": "2023-03-08T15:41:28.596Z"
      },
      {
        "duration": 936608,
        "start_time": "2023-03-08T15:41:28.603Z"
      },
      {
        "duration": 0,
        "start_time": "2023-03-08T15:57:05.214Z"
      },
      {
        "duration": 0,
        "start_time": "2023-03-08T15:57:05.225Z"
      },
      {
        "duration": 0,
        "start_time": "2023-03-08T15:57:05.226Z"
      },
      {
        "duration": 4,
        "start_time": "2023-03-08T15:57:28.970Z"
      },
      {
        "duration": 27,
        "start_time": "2023-03-08T15:57:28.977Z"
      },
      {
        "duration": 0,
        "start_time": "2023-03-08T15:57:29.007Z"
      },
      {
        "duration": 0,
        "start_time": "2023-03-08T15:57:29.008Z"
      },
      {
        "duration": 4,
        "start_time": "2023-03-08T15:58:23.452Z"
      },
      {
        "duration": 13,
        "start_time": "2023-03-08T15:58:24.352Z"
      },
      {
        "duration": 497710,
        "start_time": "2023-03-08T15:58:29.135Z"
      },
      {
        "duration": 0,
        "start_time": "2023-03-08T16:06:46.847Z"
      },
      {
        "duration": 5111,
        "start_time": "2023-03-08T16:06:47.932Z"
      },
      {
        "duration": 5,
        "start_time": "2023-03-08T16:06:57.515Z"
      },
      {
        "duration": 10,
        "start_time": "2023-03-08T16:07:03.624Z"
      }
    ],
    "kernelspec": {
      "display_name": "Python 3 (ipykernel)",
      "language": "python",
      "name": "python3"
    },
    "language_info": {
      "codemirror_mode": {
        "name": "ipython",
        "version": 3
      },
      "file_extension": ".py",
      "mimetype": "text/x-python",
      "name": "python",
      "nbconvert_exporter": "python",
      "pygments_lexer": "ipython3",
      "version": "3.9.5"
    },
    "toc": {
      "base_numbering": 1,
      "nav_menu": {},
      "number_sections": true,
      "sideBar": true,
      "skip_h1_title": true,
      "title_cell": "Table of Contents",
      "title_sidebar": "Contents",
      "toc_cell": false,
      "toc_position": {
        "height": "calc(100% - 180px)",
        "left": "10px",
        "top": "150px",
        "width": "255.391px"
      },
      "toc_section_display": true,
      "toc_window_display": true
    },
    "colab": {
      "provenance": [],
      "toc_visible": true
    }
  },
  "nbformat": 4,
  "nbformat_minor": 0
}